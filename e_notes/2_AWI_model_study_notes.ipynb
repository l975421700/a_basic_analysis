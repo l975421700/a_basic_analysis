{
 "cells": [
  {
   "cell_type": "markdown",
   "metadata": {},
   "source": [
    "# Tools"
   ]
  },
  {
   "cell_type": "markdown",
   "metadata": {},
   "source": [
    "## ESM-Tools"
   ]
  },
  {
   "cell_type": "markdown",
   "metadata": {},
   "source": [
    "* <a href=\"https://esm-tools.readthedocs.io/en/latest/index.html\">ESM Tools’s documentation</a>\n",
    "\n"
   ]
  },
  {
   "cell_type": "markdown",
   "metadata": {},
   "source": [
    "Install models\n",
    "\n",
    "    # esm_master install-fesom-2.0\n",
    "    # esm_master install-echam-6.3.05p2-wiso\n",
    "    # esm_master install-awiesm-2.1-wiso\n",
    "    # #\n",
    "    # esm_master recomp-awiesm-2.1-wiso\n",
    "\n",
    "check missing files\n",
    "\n",
    "    # esm_runscripts fesom2-ollie-initial-monthly.yaml -e my_first_test -c\n"
   ]
  },
  {
   "cell_type": "markdown",
   "metadata": {},
   "source": [
    "## SLURM (Simple Linux Utility for Resource Management)"
   ]
  },
  {
   "cell_type": "markdown",
   "metadata": {},
   "source": [
    "* <a href=\"https://spaces.awi.de/display/HELP/SLURM\">SLURM</a>\n",
    "\n",
    "* <a href=\"https://docs.dkrz.de/doc/mistral/running-jobs/index.html\">DKRZ SLURM</a>\n"
   ]
  },
  {
   "cell_type": "markdown",
   "metadata": {},
   "source": [
    "shows existing queues\n",
    "\n",
    "    $ sinfo\n",
    "\n",
    "shows information about specific job\n",
    "\n",
    "    $ scontrol show job <JobID>\n",
    "\n",
    "shows resources used by a specific job\n",
    "\n",
    "    $ sstat <JobID>\n",
    "\n",
    "shows information about queues and used nodes\n",
    "\n",
    "    $ squeue\n",
    "\n",
    "curses-graphic of queues and nodes\n",
    "\n",
    "    $ smap\n",
    "\n",
    "submits a batch job\n",
    "\n",
    "    $ sbatch script\n",
    "\n",
    "requests access to compute nodes for interactive use\n",
    "\n",
    "    $ salloc resources\n",
    "\n",
    "cancels a batch job\n",
    "\n",
    "    $ scancel <JobID>\n",
    "\n",
    "starts a (parallel) code\n",
    "\n",
    "    $ srun ressources executable\n",
    "\n",
    "give information on fair share value and job priority\n",
    "    $ sshare and sprio"
   ]
  },
  {
   "cell_type": "code",
   "execution_count": null,
   "metadata": {},
   "outputs": [],
   "source": [
    "### example scripts\n",
    "\n",
    "################## On ollie\n",
    "\n",
    "#!/bin/bash\n",
    "#SBATCH --time=00:05:00        # Set a limit on the total run time\n",
    "#SBATCH --partition=mini       # Specify partition name\n",
    "#SBATCH --ntasks=1             # Specify max. number of tasks to be invoked\n",
    "#SBATCH --cpus-per-task=1\n",
    "\n",
    "# scp dkrz:/home/a/a270200/data_sync/pi_final/grb2nc.sh /work/ollie/qigao001/output/awiesm-2.1-wiso/pi_final_qg/analysis/echam/\n",
    "\n",
    "# rsync -avzP dkrz:/home/a/a270200/data_sync/pi_final/pi_final_300001_310012_echam.grb /work/ollie/qigao001/output/awiesm-2.1-wiso/pi_final_qg/analysis/echam/\n",
    "\n",
    "#Xsrun  I know what I am doing"
   ]
  },
  {
   "cell_type": "markdown",
   "metadata": {},
   "source": [
    "## CDO"
   ]
  },
  {
   "cell_type": "markdown",
   "metadata": {},
   "source": [
    "* <a href=\"https://code.mpimet.mpg.de/projects/cdo/wiki/Tutorial\">CDO tutorial</a>\n",
    "\n",
    "* <a href=\"https://code.mpimet.mpg.de/projects/cdo/embedded/cdo.pdf\">CDO User Guide</a>\n",
    "\n",
    "* <a href=\"https://code.mpimet.mpg.de/projects/afterburner/wiki\">CDO Afterburner</a>\n",
    "\n"
   ]
  },
  {
   "cell_type": "markdown",
   "metadata": {},
   "source": [
    "an overview of all operators with a short description\n",
    "\n",
    "    # cdo --operators\n",
    "    # cdo -h <operators>\n",
    "\n",
    "general short overview on a file\n",
    "\n",
    "    # cdo -sinfo *.nc\n",
    "\n",
    "time axis contained in a file\n",
    "\n",
    "    # cdo -showdate *.nc\n",
    "\n",
    "levels contained in a file:\n",
    "\n",
    "    # cdo -showlevel *.nc\n",
    "\n",
    "Display variables of a file\n",
    "\n",
    "    # cdo -showname *.nc\n",
    "\n",
    "time steps / months contained in a file:\n",
    "\n",
    "    # cdo -ntime *.nc\n",
    "    # cdo -nmon *.nc\n",
    "\n",
    "grid description of a file\n",
    "\n",
    "    # cdo -griddes *.nc\n",
    "\n",
    "find T at 20°N, 134°E, bilinear interp.\n",
    "\n",
    "    # cdo output -remapbil,lon=134/lat=20 -selvar,tsurf INIOM_PD_echam5_main_mm_3901-4000_climatological_mean.nc\n",
    "\n",
    "generate a seasonal mean from input.nc\n",
    "\n",
    "    # cdo seasmean input.nc output.nc"
   ]
  },
  {
   "cell_type": "markdown",
   "metadata": {},
   "source": [
    "## NCL"
   ]
  },
  {
   "cell_type": "markdown",
   "metadata": {},
   "source": [
    "* <a href=\"https://www.ncl.ucar.edu/Document/Manuals/Ref_Manual/index.shtml\">NCL reference pages</a>\n",
    "\n",
    "* <a href=\"https://www.ncl.ucar.edu/get_started.shtml\">Getting Started With NCL</a>\n",
    "\n",
    "* <a href=\"https://www.ncl.ucar.edu/Document/Manuals/NCL_User_Guide/\">NCL User Guide</a>\n",
    "\n",
    "* <a href=\"https://docs.dkrz.de/doc/visualization/sw/ncl/index.html\">DKRZ NCL</a>\n",
    "\n"
   ]
  },
  {
   "cell_type": "markdown",
   "metadata": {},
   "source": [
    "## Git"
   ]
  },
  {
   "cell_type": "markdown",
   "metadata": {},
   "source": [
    "[Git pull while reserve local changes](https://stackoverflow.com/questions/10414769/git-pull-keeping-local-changes)\n",
    "\n",
    "    git stash\n",
    "    git pull\n",
    "    git stash pop\n",
    "\n",
    "[Git check current branch](https://stackoverflow.com/questions/6245570/how-to-get-the-current-branch-name-in-git)\n",
    "\n",
    "    git rev-parse --abbrev-ref HEAD\n",
    "\n",
    "[git switch branch without discarding local changes](https://stackoverflow.com/questions/22082307/git-switch-branch-without-discarding-local-changes)\n",
    "\n",
    "    git checkout a_branch\n"
   ]
  },
  {
   "cell_type": "markdown",
   "metadata": {},
   "source": [
    "# AWI Models"
   ]
  },
  {
   "cell_type": "markdown",
   "metadata": {},
   "source": [
    "* <a href=\"https://spaces.awi.de/pages/viewpage.action?spaceKey=HELP&title=Ollie+Cray+CS400\">Introduction to Ollie Cray CS400</a>\n",
    "\n",
    "* <a href=\"https://spaces.awi.de/display/HELP/Jupyter+Notebook\">Jupyter Notebook on Ollie</a>\n",
    "\n",
    "***\n",
    "\n",
    "* <a href=\"https://gitlab.awi.de/paleodyn/Models/echam6\">ECHAM6 AWI gitlab</a>\n",
    "\n",
    "\n",
    "* <a href=\"https://gitlab.dkrz.de/FESOM/fesom2\">FESOM2 DKRZ gitlab</a>\n",
    "\n",
    "* <a href=\"https://gitlab.dkrz.de/modular_esm/oasis3-mct\">OASIS3-MCT DKRZ gitlab</a>\n",
    "\n",
    "\n",
    "\n",
    "\n",
    "\n"
   ]
  },
  {
   "cell_type": "markdown",
   "metadata": {},
   "source": [
    "## AWI-ESM-2.1-wiso"
   ]
  },
  {
   "cell_type": "markdown",
   "metadata": {},
   "source": [
    "## ECHAM6"
   ]
  },
  {
   "cell_type": "markdown",
   "metadata": {},
   "source": [
    "    $ git remote set-url origin https://gitlab.awi.de/paleodyn/Models/echam6"
   ]
  },
  {
   "cell_type": "markdown",
   "metadata": {},
   "source": [
    "Pool directory\n",
    "\n",
    "    # /work/ollie/pool/ECHAM6/"
   ]
  },
  {
   "cell_type": "markdown",
   "metadata": {},
   "source": [
    "### Water tagging code"
   ]
  },
  {
   "cell_type": "markdown",
   "metadata": {},
   "source": [
    "Initial commits by Xiaoxu:\n",
    "\n",
    "[allow trace of water source](https://gitlab.awi.de/paleodyn/Models/echam6/-/commit/9aac1e1e8bdf1ba218b84f8e184f664367e6f2cc)\n",
    "\n",
    "[add readtagmap.f90](https://gitlab.awi.de/paleodyn/Models/echam6/-/commit/0ce3ae4a873f3592ba7ce078f31aed610fb21075)\n",
    "\n",
    "\n",
    "Basics\n",
    "***\n",
    "\n",
    "    <control.f90>\n",
    "\n",
    "CALL readtagmap\n",
    "\n",
    "    <readtagmap.f90>\n",
    "\n",
    "read in tagmap\n",
    "\n",
    "    <mo_couple.f90>\n",
    "\n",
    "Subroutine: put_o2a, pass delta value of ocean surface water to atmosphere model\n",
    "\n",
    "    <mo_io.f90>\n",
    "\n",
    "Subroutine: IO_init, ini_tagmap%opened = .FALSE.\n",
    "\n",
    "\n",
    "***\n",
    "\n",
    "    <setwiso.f90>\n",
    "\n",
    "set physical constants (e.g. name, density, concentrations, and fractionation factors) of water isotopes\n",
    "\n",
    "    <mo_wiso.f90>\n",
    "\n",
    "set value of ntag based on NAMELIST\n",
    "\n",
    "    <mo_memory_wiso.f90>\n",
    "\n",
    "define and register variables: tagmap, ztag_fac, ztag_fac_ice, ztag_fac_land\n",
    "\n",
    "    <mo_physc.f90>\n",
    "\n",
    "USE mo_memory_wiso, import all variables\n",
    "\n",
    "USE mo_externals, ONLY: vdiff\n",
    "\n",
    "SUBROUTINE physc_post_rad_block: CALL vdiff\n",
    "\n",
    "    <vdiff.f90>\n",
    "\n",
    "SUBROUTINE vdiff: CALL update_surface\n",
    "\n",
    "    <mo_externals.f90>\n",
    "\n",
    "Interface to subroutine vdiff\n",
    "\n",
    "    <mo_surface.f90>\n",
    "\n",
    "SUBROUTINE update_surface: CALL update_ocean\n",
    "                           CALL update_ice\n",
    "                           CALL update_land_wiso\n",
    "\n",
    "    <mo_surface_ocean.f90>\n",
    "\n",
    "Subroutine: richtmyer_ocean,\n",
    "            UPDATE_OCEAN,\n",
    "            postproc_ocean,\n",
    "\n",
    "    <mo_surface_ice.f90>\n",
    "\n",
    "Subroutine: richtmyer_ice,\n",
    "            update_ice,\n",
    "            postproc_ice,\n",
    "\n",
    "\n",
    "Previous trial:\n",
    "***\n",
    "\n",
    "    <src/src_jsbach3/mo_soil.f90>\n",
    "    <src/src_jsbach3/mo_jsbach_interface.f90>\n",
    "\n",
    "\n",
    "Trial:\n",
    "***\n",
    "\n",
    "    <src/echam/mo_memory_wiso.f90>\n",
    "\n",
    "define and register ztag_fac_land\n",
    "\n",
    "    <src/echam/mo_physc.f90>\n",
    "\n",
    "add ztag_fac_land to the CALL of vdiff\n",
    "\n",
    "    <src/echam/vdiff.f90>\n",
    "\n",
    "add ztag_fac_land to the CALL of update_surface\n",
    "\n",
    "    <src/echam/mo_surface.f90>\n",
    "\n",
    "add ztag_fac_land to the CALL of update_land_wiso\n",
    "\n",
    "####check\n",
    "modify land%wiso_evaporation_inst based on ztag_fac_land\n",
    "\n",
    "\n",
    "\n"
   ]
  },
  {
   "cell_type": "markdown",
   "metadata": {},
   "source": [
    "    <src/echam/mo_surface_ocean.f90>\n",
    "\n",
    "zwisoqklevw(:,jt) = zwisoeqnw(:,jt) * zwisokinw(:,jt) * zwisoqsw(:,jt) + zwisofqnw(:,jt)\n",
    "zwisoqklevw(:,jt2) = ztag_fac(:,jt2) * zwisoeqnw(:,jt2) * zwisokinw(:,jt) * (zwisoqsw(:,jt)-zwisoqklevw(:,jt)) + zwisofqnw(:,jt2)\n",
    "\n",
    "    <src/echam/mo_surface_ice.f90>\n",
    "\n",
    "zwisoqklevi(:,jt) = zwisoeqni(:,jt) * zwisoqsi(:,jt) + zwisofqni(:,jt)\n",
    "zwisoqklevi(:,jt2) = ztag_fac(:,jt2) * zwisoeqni(:,jt2) * (zwisoqsi(:,jt)-zwisoqklevi(:,jt)) + zwisofqni(:,jt2)\n",
    "\n",
    "    <src/echam/mo_surface_land.f90>\n",
    "\n",
    "zwisoqklevl(:,jt) = ( zwisoeqnl(:,jt) * ( zwisocsat(:,jt) * zqslnew(:) - zwisocair(:,jt) * zqdif(:) * ztpfac1 ) ) + ( zwisoeqnl(:,jt) * zwisocsat_fra(:,jt) * zwisoqslnew(:,jt) ) + zwisofqnl(:,jt)\n",
    "zwisoqklevl(:,jt2) = ztag_fac_land(:,jt2) * (zwisoeqnl(:,jt2) * (zwisocsat(:,jt) * zqslnew(:) - zwisocair(:,jt) * zqdif(:) * ztpfac1)) + ztag_fac_land(:,jt2) * (zwisoeqnl(:,jt2) * zwisocsat_fra(:,jt) * (zwisoqslnew(:,jt)-zwisoqklevl(:,jt))) + zwisofqnl(:,jt2)\n",
    "\n"
   ]
  }
 ],
 "metadata": {
  "interpreter": {
   "hash": "74c60916f7b18b0a5c818f8f075864a45980f755cb58e29705cd286e0abfecee"
  },
  "kernelspec": {
   "display_name": "Python 3.10.2",
   "language": "python",
   "name": "python3"
  },
  "language_info": {
   "codemirror_mode": {
    "name": "ipython",
    "version": 3
   },
   "file_extension": ".py",
   "mimetype": "text/x-python",
   "name": "python",
   "nbconvert_exporter": "python",
   "pygments_lexer": "ipython3",
   "version": "3.10.2"
  },
  "orig_nbformat": 4
 },
 "nbformat": 4,
 "nbformat_minor": 2
}
