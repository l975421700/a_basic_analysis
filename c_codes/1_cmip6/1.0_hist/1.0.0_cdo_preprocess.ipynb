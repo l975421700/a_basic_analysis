{
 "cells": [
  {
   "cell_type": "markdown",
   "metadata": {},
   "source": [
    "# Precipitation"
   ]
  },
  {
   "cell_type": "markdown",
   "metadata": {},
   "source": [
    "## Models"
   ]
  },
  {
   "cell_type": "markdown",
   "metadata": {},
   "source": [
    "### HadGEM3-GC3.1-LL"
   ]
  },
  {
   "cell_type": "markdown",
   "metadata": {},
   "source": [
    "    There are five historical ensembles available\n",
    "\n",
    "cdo -mergetime /badc/cmip6/data/CMIP6/CMIP/MOHC/HadGEM3-GC31-LL/historical/r1i1p1f3/Amon/pr/gn/v20190624/*.nc /home/users/qino/bas_palaeoclim_qino/scratch/cmip6/hist/pre/pr_Amon_HadGEM3-GC31-LL_historical_r1i1p1f3_gn_185001-201412.nc\n",
    "\n",
    "cdo -remapcon2,global_1 /home/users/qino/bas_palaeoclim_qino/scratch/cmip6/hist/pre/pr_Amon_HadGEM3-GC31-LL_historical_r1i1p1f3_gn_185001-201412.nc /home/users/qino/bas_palaeoclim_qino/scratch/cmip6/hist/pre/pr_Amon_HadGEM3-GC31-LL_historical_r1i1p1f3_gn_185001-201412_rg1.nc\n",
    "\n",
    "cdo -ymonmean /home/users/qino/bas_palaeoclim_qino/scratch/cmip6/hist/pre/pr_Amon_HadGEM3-GC31-LL_historical_r1i1p1f3_gn_185001-201412_rg1.nc /home/users/qino/bas_palaeoclim_qino/scratch/cmip6/hist/pre/pr_Amon_HadGEM3-GC31-LL_historical_r1i1p1f3_gn_185001-201412_rg1_mm.nc\n",
    "\n",
    "cdo -yearmean /home/users/qino/bas_palaeoclim_qino/scratch/cmip6/hist/pre/pr_Amon_HadGEM3-GC31-LL_historical_r1i1p1f3_gn_185001-201412_rg1.nc /home/users/qino/bas_palaeoclim_qino/scratch/cmip6/hist/pre/pr_Amon_HadGEM3-GC31-LL_historical_r1i1p1f3_gn_185001-201412_rg1_ann.nc\n",
    "\n",
    "cdo -timmean /home/users/qino/bas_palaeoclim_qino/scratch/cmip6/hist/pre/pr_Amon_HadGEM3-GC31-LL_historical_r1i1p1f3_gn_185001-201412_rg1.nc /home/users/qino/bas_palaeoclim_qino/scratch/cmip6/hist/pre/pr_Amon_HadGEM3-GC31-LL_historical_r1i1p1f3_gn_185001-201412_rg1_am.nc\n",
    "\n",
    "cdo -seasmean -seltimestep,3/1979 /home/users/qino/bas_palaeoclim_qino/scratch/cmip6/hist/pre/pr_Amon_HadGEM3-GC31-LL_historical_r1i1p1f3_gn_185001-201412_rg1.nc /home/users/qino/bas_palaeoclim_qino/scratch/cmip6/hist/pre/pr_Amon_HadGEM3-GC31-LL_historical_r1i1p1f3_gn_185001-201412_rg1_sea.nc\n",
    "\n",
    "cdo -yseasmean /home/users/qino/bas_palaeoclim_qino/scratch/cmip6/hist/pre/pr_Amon_HadGEM3-GC31-LL_historical_r1i1p1f3_gn_185001-201412_rg1.nc /home/users/qino/bas_palaeoclim_qino/scratch/cmip6/hist/pre/pr_Amon_HadGEM3-GC31-LL_historical_r1i1p1f3_gn_185001-201412_rg1_sm.nc\n",
    "\n",
    "\n",
    "    1979-2014\n",
    "\n",
    "cdo -ymonmean -selyear,1979/2014 /home/users/qino/bas_palaeoclim_qino/scratch/cmip6/hist/pre/pr_Amon_HadGEM3-GC31-LL_historical_r1i1p1f3_gn_185001-201412_rg1.nc /home/users/qino/bas_palaeoclim_qino/scratch/cmip6/hist/pre/pr_Amon_HadGEM3-GC31-LL_historical_r1i1p1f3_gn_197901-201412_rg1_mm.nc\n",
    "\n",
    "cdo -yearmean -selyear,1979/2014 /home/users/qino/bas_palaeoclim_qino/scratch/cmip6/hist/pre/pr_Amon_HadGEM3-GC31-LL_historical_r1i1p1f3_gn_185001-201412_rg1.nc /home/users/qino/bas_palaeoclim_qino/scratch/cmip6/hist/pre/pr_Amon_HadGEM3-GC31-LL_historical_r1i1p1f3_gn_197901-201412_rg1_ann.nc\n",
    "\n",
    "cdo -timmean -selyear,1979/2014 /home/users/qino/bas_palaeoclim_qino/scratch/cmip6/hist/pre/pr_Amon_HadGEM3-GC31-LL_historical_r1i1p1f3_gn_185001-201412_rg1.nc /home/users/qino/bas_palaeoclim_qino/scratch/cmip6/hist/pre/pr_Amon_HadGEM3-GC31-LL_historical_r1i1p1f3_gn_197901-201412_rg1_am.nc\n",
    "\n",
    "cdo -seasmean -seltimestep,3/431 -selyear,1979/2014 /home/users/qino/bas_palaeoclim_qino/scratch/cmip6/hist/pre/pr_Amon_HadGEM3-GC31-LL_historical_r1i1p1f3_gn_185001-201412_rg1.nc /home/users/qino/bas_palaeoclim_qino/scratch/cmip6/hist/pre/pr_Amon_HadGEM3-GC31-LL_historical_r1i1p1f3_gn_197901-201412_rg1_sea.nc\n",
    "\n",
    "cdo -yseasmean -selyear,1979/2014 /home/users/qino/bas_palaeoclim_qino/scratch/cmip6/hist/pre/pr_Amon_HadGEM3-GC31-LL_historical_r1i1p1f3_gn_185001-201412_rg1.nc /home/users/qino/bas_palaeoclim_qino/scratch/cmip6/hist/pre/pr_Amon_HadGEM3-GC31-LL_historical_r1i1p1f3_gn_197901-201412_rg1_sm.nc\n",
    "\n",
    "\n",
    "\n"
   ]
  },
  {
   "cell_type": "markdown",
   "metadata": {},
   "source": [
    "### AWI-ESM-1-1-LR"
   ]
  },
  {
   "cell_type": "markdown",
   "metadata": {},
   "source": [
    "    There is one historical ensemble available\n",
    "\n",
    "cdo -mergetime /badc/cmip6/data/CMIP6/CMIP/AWI/AWI-ESM-1-1-LR/historical/r1i1p1f1/Amon/pr/gn/v20200212/*.nc /home/users/qino/bas_palaeoclim_qino/scratch/cmip6/hist/pre/pr_Amon_AWI-ESM-1-1-LR_historical_r1i1p1f1_gn_185001-201412.nc\n",
    "\n",
    "cdo -remapcon2,global_1 /home/users/qino/bas_palaeoclim_qino/scratch/cmip6/hist/pre/pr_Amon_AWI-ESM-1-1-LR_historical_r1i1p1f1_gn_185001-201412.nc /home/users/qino/bas_palaeoclim_qino/scratch/cmip6/hist/pre/pr_Amon_AWI-ESM-1-1-LR_historical_r1i1p1f1_gn_185001-201412_rg1.nc\n",
    "\n",
    "cdo -ymonmean /home/users/qino/bas_palaeoclim_qino/scratch/cmip6/hist/pre/pr_Amon_AWI-ESM-1-1-LR_historical_r1i1p1f1_gn_185001-201412_rg1.nc /home/users/qino/bas_palaeoclim_qino/scratch/cmip6/hist/pre/pr_Amon_AWI-ESM-1-1-LR_historical_r1i1p1f1_gn_185001-201412_rg1_mm.nc\n",
    "\n",
    "cdo -yearmean /home/users/qino/bas_palaeoclim_qino/scratch/cmip6/hist/pre/pr_Amon_AWI-ESM-1-1-LR_historical_r1i1p1f1_gn_185001-201412_rg1.nc /home/users/qino/bas_palaeoclim_qino/scratch/cmip6/hist/pre/pr_Amon_AWI-ESM-1-1-LR_historical_r1i1p1f1_gn_185001-201412_rg1_ann.nc\n",
    "\n",
    "cdo -timmean /home/users/qino/bas_palaeoclim_qino/scratch/cmip6/hist/pre/pr_Amon_AWI-ESM-1-1-LR_historical_r1i1p1f1_gn_185001-201412_rg1.nc /home/users/qino/bas_palaeoclim_qino/scratch/cmip6/hist/pre/pr_Amon_AWI-ESM-1-1-LR_historical_r1i1p1f1_gn_185001-201412_rg1_am.nc\n",
    "\n",
    "cdo -seasmean -seltimestep,3/1979 /home/users/qino/bas_palaeoclim_qino/scratch/cmip6/hist/pre/pr_Amon_AWI-ESM-1-1-LR_historical_r1i1p1f1_gn_185001-201412_rg1.nc /home/users/qino/bas_palaeoclim_qino/scratch/cmip6/hist/pre/pr_Amon_AWI-ESM-1-1-LR_historical_r1i1p1f1_gn_185001-201412_rg1_sea.nc\n",
    "\n",
    "cdo -yseasmean /home/users/qino/bas_palaeoclim_qino/scratch/cmip6/hist/pre/pr_Amon_AWI-ESM-1-1-LR_historical_r1i1p1f1_gn_185001-201412_rg1.nc /home/users/qino/bas_palaeoclim_qino/scratch/cmip6/hist/pre/pr_Amon_AWI-ESM-1-1-LR_historical_r1i1p1f1_gn_185001-201412_rg1_sm.nc\n",
    "\n",
    "\n",
    "    1979-2014\n",
    "\n",
    "cdo -ymonmean -selyear,1979/2014 /home/users/qino/bas_palaeoclim_qino/scratch/cmip6/hist/pre/pr_Amon_AWI-ESM-1-1-LR_historical_r1i1p1f1_gn_185001-201412_rg1.nc /home/users/qino/bas_palaeoclim_qino/scratch/cmip6/hist/pre/pr_Amon_AWI-ESM-1-1-LR_historical_r1i1p1f1_gn_197901-201412_rg1_mm.nc\n",
    "\n",
    "cdo -yearmean -selyear,1979/2014 /home/users/qino/bas_palaeoclim_qino/scratch/cmip6/hist/pre/pr_Amon_AWI-ESM-1-1-LR_historical_r1i1p1f1_gn_185001-201412_rg1.nc /home/users/qino/bas_palaeoclim_qino/scratch/cmip6/hist/pre/pr_Amon_AWI-ESM-1-1-LR_historical_r1i1p1f1_gn_197901-201412_rg1_ann.nc\n",
    "\n",
    "cdo -timmean -selyear,1979/2014 /home/users/qino/bas_palaeoclim_qino/scratch/cmip6/hist/pre/pr_Amon_AWI-ESM-1-1-LR_historical_r1i1p1f1_gn_185001-201412_rg1.nc /home/users/qino/bas_palaeoclim_qino/scratch/cmip6/hist/pre/pr_Amon_AWI-ESM-1-1-LR_historical_r1i1p1f1_gn_197901-201412_rg1_am.nc\n",
    "\n",
    "cdo -seasmean -seltimestep,3/431 -selyear,1979/2014 /home/users/qino/bas_palaeoclim_qino/scratch/cmip6/hist/pre/pr_Amon_AWI-ESM-1-1-LR_historical_r1i1p1f1_gn_185001-201412_rg1.nc /home/users/qino/bas_palaeoclim_qino/scratch/cmip6/hist/pre/pr_Amon_AWI-ESM-1-1-LR_historical_r1i1p1f1_gn_197901-201412_rg1_sea.nc\n",
    "\n",
    "cdo -yseasmean -selyear,1979/2014 /home/users/qino/bas_palaeoclim_qino/scratch/cmip6/hist/pre/pr_Amon_AWI-ESM-1-1-LR_historical_r1i1p1f1_gn_185001-201412_rg1.nc /home/users/qino/bas_palaeoclim_qino/scratch/cmip6/hist/pre/pr_Amon_AWI-ESM-1-1-LR_historical_r1i1p1f1_gn_197901-201412_rg1_sm.nc\n",
    "\n"
   ]
  },
  {
   "cell_type": "markdown",
   "metadata": {},
   "source": [
    "## Reanalysis"
   ]
  },
  {
   "cell_type": "markdown",
   "metadata": {},
   "source": [
    "### ERA5"
   ]
  },
  {
   "cell_type": "markdown",
   "metadata": {},
   "source": [
    "#### Download from CDS"
   ]
  },
  {
   "cell_type": "code",
   "execution_count": 1,
   "metadata": {},
   "outputs": [
    {
     "name": "stderr",
     "output_type": "stream",
     "text": [
      "2022-02-24 21:46:07,968 INFO Welcome to the CDS\n",
      "2022-02-24 21:46:07,969 INFO Sending request to https://cds.climate.copernicus.eu/api/v2/resources/reanalysis-era5-single-levels-monthly-means\n",
      "2022-02-24 21:46:08,043 INFO Request is completed\n",
      "2022-02-24 21:46:08,044 INFO Downloading https://download-0002.copernicus-climate.eu/cache-compute-0002/cache/data6/adaptor.mars.internal-1645737304.6336064-11643-18-373b4ee6-5db9-47b3-86b9-9e6116207e52.nc to /home/users/qino/bas_palaeoclim_qino/scratch/cmip6/hist/pre/tp_ERA5_mon_sl_197901_201412.nc (855.5M)\n",
      "2022-02-24 21:46:46,902 INFO Download rate 22M/s   \n"
     ]
    },
    {
     "data": {
      "text/plain": [
       "Result(content_length=897050804,content_type=application/x-netcdf,location=https://download-0002.copernicus-climate.eu/cache-compute-0002/cache/data6/adaptor.mars.internal-1645737304.6336064-11643-18-373b4ee6-5db9-47b3-86b9-9e6116207e52.nc)"
      ]
     },
     "execution_count": 1,
     "metadata": {},
     "output_type": "execute_result"
    }
   ],
   "source": [
    "# source: https://cds.climate.copernicus.eu/cdsapp#!/dataset/reanalysis-era5-single-levels-monthly-means?tab=overview\n",
    "# date: 2022-02-24\n",
    "\n",
    "import cdsapi\n",
    "c = cdsapi.Client()\n",
    "\n",
    "c.retrieve(\n",
    "    'reanalysis-era5-single-levels-monthly-means',\n",
    "    {\n",
    "        'format': 'netcdf',\n",
    "        'product_type': 'monthly_averaged_reanalysis',\n",
    "        'variable': 'total_precipitation',\n",
    "        'year': [\n",
    "            '1979', '1980', '1981',\n",
    "            '1982', '1983', '1984',\n",
    "            '1985', '1986', '1987',\n",
    "            '1988', '1989', '1990',\n",
    "            '1991', '1992', '1993',\n",
    "            '1994', '1995', '1996',\n",
    "            '1997', '1998', '1999',\n",
    "            '2000', '2001', '2002',\n",
    "            '2003', '2004', '2005',\n",
    "            '2006', '2007', '2008',\n",
    "            '2009', '2010', '2011',\n",
    "            '2012', '2013', '2014',\n",
    "        ],\n",
    "        'month': [\n",
    "            '01', '02', '03',\n",
    "            '04', '05', '06',\n",
    "            '07', '08', '09',\n",
    "            '10', '11', '12',\n",
    "        ],\n",
    "        'time': '00:00',\n",
    "    },\n",
    "    '/home/users/qino/bas_palaeoclim_qino/scratch/cmip6/hist/pre/tp_ERA5_mon_sl_197901_201412.nc')"
   ]
  },
  {
   "cell_type": "markdown",
   "metadata": {},
   "source": [
    "#### Process with cdo"
   ]
  },
  {
   "cell_type": "markdown",
   "metadata": {},
   "source": [
    "cdo -remapcon2,global_1 /home/users/qino/bas_palaeoclim_qino/scratch/cmip6/hist/pre/tp_ERA5_mon_sl_197901_201412.nc /home/users/qino/bas_palaeoclim_qino/scratch/cmip6/hist/pre/tp_ERA5_mon_sl_197901_201412_rg1.nc\n",
    "\n",
    "cdo -ymonmean /home/users/qino/bas_palaeoclim_qino/scratch/cmip6/hist/pre/tp_ERA5_mon_sl_197901_201412_rg1.nc /home/users/qino/bas_palaeoclim_qino/scratch/cmip6/hist/pre/tp_ERA5_mon_sl_197901_201412_rg1_mm.nc\n",
    "\n",
    "cdo -yearmean /home/users/qino/bas_palaeoclim_qino/scratch/cmip6/hist/pre/tp_ERA5_mon_sl_197901_201412_rg1.nc /home/users/qino/bas_palaeoclim_qino/scratch/cmip6/hist/pre/tp_ERA5_mon_sl_197901_201412_rg1_ann.nc\n",
    "\n",
    "cdo -timmean /home/users/qino/bas_palaeoclim_qino/scratch/cmip6/hist/pre/tp_ERA5_mon_sl_197901_201412_rg1.nc /home/users/qino/bas_palaeoclim_qino/scratch/cmip6/hist/pre/tp_ERA5_mon_sl_197901_201412_rg1_am.nc\n",
    "\n",
    "cdo -seasmean -seltimestep,3/431 /home/users/qino/bas_palaeoclim_qino/scratch/cmip6/hist/pre/tp_ERA5_mon_sl_197901_201412_rg1.nc /home/users/qino/bas_palaeoclim_qino/scratch/cmip6/hist/pre/tp_ERA5_mon_sl_197901_201412_rg1_sea.nc\n",
    "\n",
    "cdo -yseasmean /home/users/qino/bas_palaeoclim_qino/scratch/cmip6/hist/pre/tp_ERA5_mon_sl_197901_201412_rg1.nc /home/users/qino/bas_palaeoclim_qino/scratch/cmip6/hist/pre/tp_ERA5_mon_sl_197901_201412_rg1_sm.nc\n",
    "\n"
   ]
  }
 ],
 "metadata": {
  "interpreter": {
   "hash": "f35bf2546cfc6b99b8ff9cce2c4b25eafbea6e6cb9977034c26c95f4b13ced3a"
  },
  "kernelspec": {
   "display_name": "Python 3.9.7 ('deepice': conda)",
   "language": "python",
   "name": "python3"
  },
  "language_info": {
   "codemirror_mode": {
    "name": "ipython",
    "version": 3
   },
   "file_extension": ".py",
   "mimetype": "text/x-python",
   "name": "python",
   "nbconvert_exporter": "python",
   "pygments_lexer": "ipython3",
   "version": "3.9.7"
  },
  "orig_nbformat": 4
 },
 "nbformat": 4,
 "nbformat_minor": 2
}
