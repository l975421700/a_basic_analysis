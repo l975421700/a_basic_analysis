{
 "cells": [
  {
   "cell_type": "markdown",
   "metadata": {},
   "source": [
    "# Precipitation"
   ]
  },
  {
   "cell_type": "markdown",
   "metadata": {},
   "source": [
    "## Models"
   ]
  },
  {
   "cell_type": "markdown",
   "metadata": {},
   "source": [
    "### HadGEM3-GC3.1-LL"
   ]
  },
  {
   "cell_type": "markdown",
   "metadata": {},
   "source": [
    "    There are five historical ensembles available\n",
    "\n",
    "cdo -mergetime /badc/cmip6/data/CMIP6/CMIP/MOHC/HadGEM3-GC31-LL/historical/r1i1p1f3/Amon/pr/gn/v20190624/*.nc /home/users/qino/bas_palaeoclim_qino/scratch/cmip6/hist/pre/pr_Amon_HadGEM3-GC31-LL_historical_r1i1p1f3_gn_185001-201412.nc\n",
    "\n",
    "cdo -remapcon2,global_1 /home/users/qino/bas_palaeoclim_qino/scratch/cmip6/hist/pre/pr_Amon_HadGEM3-GC31-LL_historical_r1i1p1f3_gn_185001-201412.nc /home/users/qino/bas_palaeoclim_qino/scratch/cmip6/hist/pre/pr_Amon_HadGEM3-GC31-LL_historical_r1i1p1f3_gn_185001-201412_rg1.nc\n",
    "\n",
    "cdo -ymonmean /home/users/qino/bas_palaeoclim_qino/scratch/cmip6/hist/pre/pr_Amon_HadGEM3-GC31-LL_historical_r1i1p1f3_gn_185001-201412_rg1.nc /home/users/qino/bas_palaeoclim_qino/scratch/cmip6/hist/pre/pr_Amon_HadGEM3-GC31-LL_historical_r1i1p1f3_gn_185001-201412_rg1_mm.nc\n",
    "\n",
    "cdo -yearmean /home/users/qino/bas_palaeoclim_qino/scratch/cmip6/hist/pre/pr_Amon_HadGEM3-GC31-LL_historical_r1i1p1f3_gn_185001-201412_rg1.nc /home/users/qino/bas_palaeoclim_qino/scratch/cmip6/hist/pre/pr_Amon_HadGEM3-GC31-LL_historical_r1i1p1f3_gn_185001-201412_rg1_ann.nc\n",
    "\n",
    "cdo -timmean /home/users/qino/bas_palaeoclim_qino/scratch/cmip6/hist/pre/pr_Amon_HadGEM3-GC31-LL_historical_r1i1p1f3_gn_185001-201412_rg1.nc /home/users/qino/bas_palaeoclim_qino/scratch/cmip6/hist/pre/pr_Amon_HadGEM3-GC31-LL_historical_r1i1p1f3_gn_185001-201412_rg1_am.nc\n",
    "\n",
    "cdo -seasmean -seltimestep,3/1979 /home/users/qino/bas_palaeoclim_qino/scratch/cmip6/hist/pre/pr_Amon_HadGEM3-GC31-LL_historical_r1i1p1f3_gn_185001-201412_rg1.nc /home/users/qino/bas_palaeoclim_qino/scratch/cmip6/hist/pre/pr_Amon_HadGEM3-GC31-LL_historical_r1i1p1f3_gn_185001-201412_rg1_sea.nc\n",
    "\n",
    "cdo -yseasmean /home/users/qino/bas_palaeoclim_qino/scratch/cmip6/hist/pre/pr_Amon_HadGEM3-GC31-LL_historical_r1i1p1f3_gn_185001-201412_rg1.nc /home/users/qino/bas_palaeoclim_qino/scratch/cmip6/hist/pre/pr_Amon_HadGEM3-GC31-LL_historical_r1i1p1f3_gn_185001-201412_rg1_sm.nc\n",
    "\n",
    "\n",
    "    1979-2014\n",
    "\n",
    "cdo -ymonmean -selyear,1979/2014 /home/users/qino/bas_palaeoclim_qino/scratch/cmip6/hist/pre/pr_Amon_HadGEM3-GC31-LL_historical_r1i1p1f3_gn_185001-201412_rg1.nc /home/users/qino/bas_palaeoclim_qino/scratch/cmip6/hist/pre/pr_Amon_HadGEM3-GC31-LL_historical_r1i1p1f3_gn_197901-201412_rg1_mm.nc\n",
    "\n",
    "cdo -yearmean -selyear,1979/2014 /home/users/qino/bas_palaeoclim_qino/scratch/cmip6/hist/pre/pr_Amon_HadGEM3-GC31-LL_historical_r1i1p1f3_gn_185001-201412_rg1.nc /home/users/qino/bas_palaeoclim_qino/scratch/cmip6/hist/pre/pr_Amon_HadGEM3-GC31-LL_historical_r1i1p1f3_gn_197901-201412_rg1_ann.nc\n",
    "\n",
    "cdo -timmean -selyear,1979/2014 /home/users/qino/bas_palaeoclim_qino/scratch/cmip6/hist/pre/pr_Amon_HadGEM3-GC31-LL_historical_r1i1p1f3_gn_185001-201412_rg1.nc /home/users/qino/bas_palaeoclim_qino/scratch/cmip6/hist/pre/pr_Amon_HadGEM3-GC31-LL_historical_r1i1p1f3_gn_197901-201412_rg1_am.nc\n",
    "\n",
    "cdo -seasmean -seltimestep,3/431 -selyear,1979/2014 /home/users/qino/bas_palaeoclim_qino/scratch/cmip6/hist/pre/pr_Amon_HadGEM3-GC31-LL_historical_r1i1p1f3_gn_185001-201412_rg1.nc /home/users/qino/bas_palaeoclim_qino/scratch/cmip6/hist/pre/pr_Amon_HadGEM3-GC31-LL_historical_r1i1p1f3_gn_197901-201412_rg1_sea.nc\n",
    "\n",
    "cdo -yseasmean -selyear,1979/2014 /home/users/qino/bas_palaeoclim_qino/scratch/cmip6/hist/pre/pr_Amon_HadGEM3-GC31-LL_historical_r1i1p1f3_gn_185001-201412_rg1.nc /home/users/qino/bas_palaeoclim_qino/scratch/cmip6/hist/pre/pr_Amon_HadGEM3-GC31-LL_historical_r1i1p1f3_gn_197901-201412_rg1_sm.nc\n",
    "\n",
    "\n",
    "\n"
   ]
  },
  {
   "cell_type": "markdown",
   "metadata": {},
   "source": [
    "### AWI-ESM-1-1-LR"
   ]
  },
  {
   "cell_type": "markdown",
   "metadata": {},
   "source": [
    "    There is one historical ensemble available\n",
    "\n",
    "cdo -mergetime /badc/cmip6/data/CMIP6/CMIP/AWI/AWI-ESM-1-1-LR/historical/r1i1p1f1/Amon/pr/gn/v20200212/*.nc /home/users/qino/bas_palaeoclim_qino/scratch/cmip6/hist/pre/pr_Amon_AWI-ESM-1-1-LR_historical_r1i1p1f1_gn_185001-201412.nc\n",
    "\n",
    "cdo -remapcon2,global_1 /home/users/qino/bas_palaeoclim_qino/scratch/cmip6/hist/pre/pr_Amon_AWI-ESM-1-1-LR_historical_r1i1p1f1_gn_185001-201412.nc /home/users/qino/bas_palaeoclim_qino/scratch/cmip6/hist/pre/pr_Amon_AWI-ESM-1-1-LR_historical_r1i1p1f1_gn_185001-201412_rg1.nc\n",
    "\n",
    "cdo -ymonmean /home/users/qino/bas_palaeoclim_qino/scratch/cmip6/hist/pre/pr_Amon_AWI-ESM-1-1-LR_historical_r1i1p1f1_gn_185001-201412_rg1.nc /home/users/qino/bas_palaeoclim_qino/scratch/cmip6/hist/pre/pr_Amon_AWI-ESM-1-1-LR_historical_r1i1p1f1_gn_185001-201412_rg1_mm.nc\n",
    "\n",
    "cdo -yearmean /home/users/qino/bas_palaeoclim_qino/scratch/cmip6/hist/pre/pr_Amon_AWI-ESM-1-1-LR_historical_r1i1p1f1_gn_185001-201412_rg1.nc /home/users/qino/bas_palaeoclim_qino/scratch/cmip6/hist/pre/pr_Amon_AWI-ESM-1-1-LR_historical_r1i1p1f1_gn_185001-201412_rg1_ann.nc\n",
    "\n",
    "cdo -timmean /home/users/qino/bas_palaeoclim_qino/scratch/cmip6/hist/pre/pr_Amon_AWI-ESM-1-1-LR_historical_r1i1p1f1_gn_185001-201412_rg1.nc /home/users/qino/bas_palaeoclim_qino/scratch/cmip6/hist/pre/pr_Amon_AWI-ESM-1-1-LR_historical_r1i1p1f1_gn_185001-201412_rg1_am.nc\n",
    "\n",
    "cdo -seasmean -seltimestep,3/1979 /home/users/qino/bas_palaeoclim_qino/scratch/cmip6/hist/pre/pr_Amon_AWI-ESM-1-1-LR_historical_r1i1p1f1_gn_185001-201412_rg1.nc /home/users/qino/bas_palaeoclim_qino/scratch/cmip6/hist/pre/pr_Amon_AWI-ESM-1-1-LR_historical_r1i1p1f1_gn_185001-201412_rg1_sea.nc\n",
    "\n",
    "cdo -yseasmean /home/users/qino/bas_palaeoclim_qino/scratch/cmip6/hist/pre/pr_Amon_AWI-ESM-1-1-LR_historical_r1i1p1f1_gn_185001-201412_rg1.nc /home/users/qino/bas_palaeoclim_qino/scratch/cmip6/hist/pre/pr_Amon_AWI-ESM-1-1-LR_historical_r1i1p1f1_gn_185001-201412_rg1_sm.nc\n",
    "\n",
    "\n",
    "    1979-2014\n",
    "\n",
    "cdo -ymonmean -selyear,1979/2014 /home/users/qino/bas_palaeoclim_qino/scratch/cmip6/hist/pre/pr_Amon_AWI-ESM-1-1-LR_historical_r1i1p1f1_gn_185001-201412_rg1.nc /home/users/qino/bas_palaeoclim_qino/scratch/cmip6/hist/pre/pr_Amon_AWI-ESM-1-1-LR_historical_r1i1p1f1_gn_197901-201412_rg1_mm.nc\n",
    "\n",
    "cdo -yearmean -selyear,1979/2014 /home/users/qino/bas_palaeoclim_qino/scratch/cmip6/hist/pre/pr_Amon_AWI-ESM-1-1-LR_historical_r1i1p1f1_gn_185001-201412_rg1.nc /home/users/qino/bas_palaeoclim_qino/scratch/cmip6/hist/pre/pr_Amon_AWI-ESM-1-1-LR_historical_r1i1p1f1_gn_197901-201412_rg1_ann.nc\n",
    "\n",
    "cdo -timmean -selyear,1979/2014 /home/users/qino/bas_palaeoclim_qino/scratch/cmip6/hist/pre/pr_Amon_AWI-ESM-1-1-LR_historical_r1i1p1f1_gn_185001-201412_rg1.nc /home/users/qino/bas_palaeoclim_qino/scratch/cmip6/hist/pre/pr_Amon_AWI-ESM-1-1-LR_historical_r1i1p1f1_gn_197901-201412_rg1_am.nc\n",
    "\n",
    "cdo -seasmean -seltimestep,3/431 -selyear,1979/2014 /home/users/qino/bas_palaeoclim_qino/scratch/cmip6/hist/pre/pr_Amon_AWI-ESM-1-1-LR_historical_r1i1p1f1_gn_185001-201412_rg1.nc /home/users/qino/bas_palaeoclim_qino/scratch/cmip6/hist/pre/pr_Amon_AWI-ESM-1-1-LR_historical_r1i1p1f1_gn_197901-201412_rg1_sea.nc\n",
    "\n",
    "cdo -yseasmean -selyear,1979/2014 /home/users/qino/bas_palaeoclim_qino/scratch/cmip6/hist/pre/pr_Amon_AWI-ESM-1-1-LR_historical_r1i1p1f1_gn_185001-201412_rg1.nc /home/users/qino/bas_palaeoclim_qino/scratch/cmip6/hist/pre/pr_Amon_AWI-ESM-1-1-LR_historical_r1i1p1f1_gn_197901-201412_rg1_sm.nc\n",
    "\n"
   ]
  },
  {
   "cell_type": "markdown",
   "metadata": {},
   "source": [
    "## Reanalysis"
   ]
  },
  {
   "cell_type": "markdown",
   "metadata": {},
   "source": [
    "### ERA5"
   ]
  },
  {
   "cell_type": "markdown",
   "metadata": {},
   "source": [
    "#### Download from CDS"
   ]
  },
  {
   "cell_type": "code",
   "execution_count": 1,
   "metadata": {},
   "outputs": [
    {
     "name": "stderr",
     "output_type": "stream",
     "text": [
      "2022-02-24 21:46:07,968 INFO Welcome to the CDS\n",
      "2022-02-24 21:46:07,969 INFO Sending request to https://cds.climate.copernicus.eu/api/v2/resources/reanalysis-era5-single-levels-monthly-means\n",
      "2022-02-24 21:46:08,043 INFO Request is completed\n",
      "2022-02-24 21:46:08,044 INFO Downloading https://download-0002.copernicus-climate.eu/cache-compute-0002/cache/data6/adaptor.mars.internal-1645737304.6336064-11643-18-373b4ee6-5db9-47b3-86b9-9e6116207e52.nc to /home/users/qino/bas_palaeoclim_qino/scratch/cmip6/hist/pre/tp_ERA5_mon_sl_197901_201412.nc (855.5M)\n",
      "2022-02-24 21:46:46,902 INFO Download rate 22M/s   \n"
     ]
    },
    {
     "data": {
      "text/plain": [
       "Result(content_length=897050804,content_type=application/x-netcdf,location=https://download-0002.copernicus-climate.eu/cache-compute-0002/cache/data6/adaptor.mars.internal-1645737304.6336064-11643-18-373b4ee6-5db9-47b3-86b9-9e6116207e52.nc)"
      ]
     },
     "execution_count": 1,
     "metadata": {},
     "output_type": "execute_result"
    }
   ],
   "source": [
    "# source: https://cds.climate.copernicus.eu/cdsapp#!/dataset/reanalysis-era5-single-levels-monthly-means?tab=overview\n",
    "# date: 2022-02-24\n",
    "\n",
    "import cdsapi\n",
    "c = cdsapi.Client()\n",
    "\n",
    "c.retrieve(\n",
    "    'reanalysis-era5-single-levels-monthly-means',\n",
    "    {\n",
    "        'format': 'netcdf',\n",
    "        'product_type': 'monthly_averaged_reanalysis',\n",
    "        'variable': 'total_precipitation',\n",
    "        'year': [\n",
    "            '1979', '1980', '1981',\n",
    "            '1982', '1983', '1984',\n",
    "            '1985', '1986', '1987',\n",
    "            '1988', '1989', '1990',\n",
    "            '1991', '1992', '1993',\n",
    "            '1994', '1995', '1996',\n",
    "            '1997', '1998', '1999',\n",
    "            '2000', '2001', '2002',\n",
    "            '2003', '2004', '2005',\n",
    "            '2006', '2007', '2008',\n",
    "            '2009', '2010', '2011',\n",
    "            '2012', '2013', '2014',\n",
    "        ],\n",
    "        'month': [\n",
    "            '01', '02', '03',\n",
    "            '04', '05', '06',\n",
    "            '07', '08', '09',\n",
    "            '10', '11', '12',\n",
    "        ],\n",
    "        'time': '00:00',\n",
    "    },\n",
    "    '/home/users/qino/bas_palaeoclim_qino/scratch/cmip6/hist/pre/tp_ERA5_mon_sl_197901_201412.nc')"
   ]
  },
  {
   "cell_type": "markdown",
   "metadata": {},
   "source": [
    "#### Process with cdo"
   ]
  },
  {
   "cell_type": "markdown",
   "metadata": {},
   "source": [
    "cdo -remapcon2,global_1 /home/users/qino/bas_palaeoclim_qino/scratch/cmip6/hist/pre/tp_ERA5_mon_sl_197901_201412.nc /home/users/qino/bas_palaeoclim_qino/scratch/cmip6/hist/pre/tp_ERA5_mon_sl_197901_201412_rg1.nc\n",
    "\n",
    "cdo -ymonmean /home/users/qino/bas_palaeoclim_qino/scratch/cmip6/hist/pre/tp_ERA5_mon_sl_197901_201412_rg1.nc /home/users/qino/bas_palaeoclim_qino/scratch/cmip6/hist/pre/tp_ERA5_mon_sl_197901_201412_rg1_mm.nc\n",
    "\n",
    "cdo -yearmean /home/users/qino/bas_palaeoclim_qino/scratch/cmip6/hist/pre/tp_ERA5_mon_sl_197901_201412_rg1.nc /home/users/qino/bas_palaeoclim_qino/scratch/cmip6/hist/pre/tp_ERA5_mon_sl_197901_201412_rg1_ann.nc\n",
    "\n",
    "cdo -timmean /home/users/qino/bas_palaeoclim_qino/scratch/cmip6/hist/pre/tp_ERA5_mon_sl_197901_201412_rg1.nc /home/users/qino/bas_palaeoclim_qino/scratch/cmip6/hist/pre/tp_ERA5_mon_sl_197901_201412_rg1_am.nc\n",
    "\n",
    "cdo -seasmean -seltimestep,3/431 /home/users/qino/bas_palaeoclim_qino/scratch/cmip6/hist/pre/tp_ERA5_mon_sl_197901_201412_rg1.nc /home/users/qino/bas_palaeoclim_qino/scratch/cmip6/hist/pre/tp_ERA5_mon_sl_197901_201412_rg1_sea.nc\n",
    "\n",
    "cdo -yseasmean /home/users/qino/bas_palaeoclim_qino/scratch/cmip6/hist/pre/tp_ERA5_mon_sl_197901_201412_rg1.nc /home/users/qino/bas_palaeoclim_qino/scratch/cmip6/hist/pre/tp_ERA5_mon_sl_197901_201412_rg1_sm.nc\n",
    "\n"
   ]
  },
  {
   "cell_type": "markdown",
   "metadata": {},
   "source": [
    "### MERRA2"
   ]
  },
  {
   "cell_type": "markdown",
   "metadata": {},
   "source": [
    "cdo -mergetime /home/users/qino/bas_palaeoclim_qino/observations/reanalysis/MERRA2/PRECTOTCORR/MERRA2_*.tavgM_2d_flx_Nx.*.SUB.nc /home/users/qino/bas_palaeoclim_qino/scratch/cmip6/hist/pre/pre_MERRA2_198001_202109.nc\n",
    "\n",
    "cdo -remapcon2,global_1 -selyear,1980/2014 /home/users/qino/bas_palaeoclim_qino/scratch/cmip6/hist/pre/pre_MERRA2_198001_202109.nc /home/users/qino/bas_palaeoclim_qino/scratch/cmip6/hist/pre/pre_MERRA2_198001_201412_rg1.nc\n",
    "\n",
    "cdo -ymonmean /home/users/qino/bas_palaeoclim_qino/scratch/cmip6/hist/pre/pre_MERRA2_198001_201412_rg1.nc /home/users/qino/bas_palaeoclim_qino/scratch/cmip6/hist/pre/pre_MERRA2_198001_201412_rg1_mm.nc\n",
    "\n",
    "cdo -yearmean /home/users/qino/bas_palaeoclim_qino/scratch/cmip6/hist/pre/pre_MERRA2_198001_201412_rg1.nc /home/users/qino/bas_palaeoclim_qino/scratch/cmip6/hist/pre/pre_MERRA2_198001_201412_rg1_ann.nc\n",
    "\n",
    "cdo -timmean /home/users/qino/bas_palaeoclim_qino/scratch/cmip6/hist/pre/pre_MERRA2_198001_201412_rg1.nc /home/users/qino/bas_palaeoclim_qino/scratch/cmip6/hist/pre/pre_MERRA2_198001_201412_rg1_am.nc\n",
    "\n",
    "cdo -seasmean -seltimestep,3/419 /home/users/qino/bas_palaeoclim_qino/scratch/cmip6/hist/pre/pre_MERRA2_198001_201412_rg1.nc /home/users/qino/bas_palaeoclim_qino/scratch/cmip6/hist/pre/pre_MERRA2_198001_201412_rg1_sea.nc\n",
    "\n",
    "cdo -yseasmean /home/users/qino/bas_palaeoclim_qino/scratch/cmip6/hist/pre/pre_MERRA2_198001_201412_rg1.nc /home/users/qino/bas_palaeoclim_qino/scratch/cmip6/hist/pre/pre_MERRA2_198001_201412_rg1_sm.nc\n"
   ]
  },
  {
   "cell_type": "markdown",
   "metadata": {},
   "source": [
    "### JRA-55"
   ]
  },
  {
   "cell_type": "markdown",
   "metadata": {},
   "source": [
    "cdo -mergetime /home/users/qino/bas_palaeoclim_qino/observations/reanalysis/JRA-55/mon_tp/fcst_phy2m.061_tprat.reg_tl319.*[0-9] /home/users/qino/bas_palaeoclim_qino/scratch/cmip6/hist/pre/pre_JRA-55_195801_202012.grib\n",
    "\n",
    "cdo -f nc copy /home/users/qino/bas_palaeoclim_qino/scratch/cmip6/hist/pre/pre_JRA-55_195801_202012.grib /home/users/qino/bas_palaeoclim_qino/scratch/cmip6/hist/pre/pre_JRA-55_195801_202012.nc\n",
    "\n",
    "cdo -remapcon2,global_1 -selyear,1979/2014 /home/users/qino/bas_palaeoclim_qino/scratch/cmip6/hist/pre/pre_JRA-55_195801_202012.nc /home/users/qino/bas_palaeoclim_qino/scratch/cmip6/hist/pre/pre_JRA-55_197901_201412_rg1.nc\n",
    "\n",
    "cdo -ymonmean /home/users/qino/bas_palaeoclim_qino/scratch/cmip6/hist/pre/pre_JRA-55_197901_201412_rg1.nc /home/users/qino/bas_palaeoclim_qino/scratch/cmip6/hist/pre/pre_JRA-55_197901_201412_rg1_mm.nc\n",
    "\n",
    "cdo -yearmean /home/users/qino/bas_palaeoclim_qino/scratch/cmip6/hist/pre/pre_JRA-55_197901_201412_rg1.nc /home/users/qino/bas_palaeoclim_qino/scratch/cmip6/hist/pre/pre_JRA-55_197901_201412_rg1_ann.nc\n",
    "\n",
    "cdo -timmean /home/users/qino/bas_palaeoclim_qino/scratch/cmip6/hist/pre/pre_JRA-55_197901_201412_rg1.nc /home/users/qino/bas_palaeoclim_qino/scratch/cmip6/hist/pre/pre_JRA-55_197901_201412_rg1_am.nc\n",
    "\n",
    "cdo -seasmean -seltimestep,3/431 /home/users/qino/bas_palaeoclim_qino/scratch/cmip6/hist/pre/pre_JRA-55_197901_201412_rg1.nc /home/users/qino/bas_palaeoclim_qino/scratch/cmip6/hist/pre/pre_JRA-55_197901_201412_rg1_sea.nc\n",
    "\n",
    "cdo -yseasmean /home/users/qino/bas_palaeoclim_qino/scratch/cmip6/hist/pre/pre_JRA-55_197901_201412_rg1.nc /home/users/qino/bas_palaeoclim_qino/scratch/cmip6/hist/pre/pre_JRA-55_197901_201412_rg1_sm.nc\n"
   ]
  },
  {
   "cell_type": "markdown",
   "metadata": {},
   "source": [
    "# 2m Temperature"
   ]
  },
  {
   "cell_type": "markdown",
   "metadata": {},
   "source": [
    "## Models"
   ]
  },
  {
   "cell_type": "markdown",
   "metadata": {},
   "source": [
    "### HadGEM3-GC3.1-LL"
   ]
  },
  {
   "cell_type": "markdown",
   "metadata": {},
   "source": [
    "    There are five historical ensembles available\n",
    "\n",
    "cdo -mergetime /badc/cmip6/data/CMIP6/CMIP/MOHC/HadGEM3-GC31-LL/historical/r1i1p1f3/Amon/tas/gn/v20190624/*.nc /home/users/qino/bas_palaeoclim_qino/scratch/cmip6/hist/tas/tas_Amon_HadGEM3-GC31-LL_historical_r1i1p1f3_gn_185001-201412.nc\n",
    "\n",
    "cdo -remapcon2,global_1 /home/users/qino/bas_palaeoclim_qino/scratch/cmip6/hist/tas/tas_Amon_HadGEM3-GC31-LL_historical_r1i1p1f3_gn_185001-201412.nc /home/users/qino/bas_palaeoclim_qino/scratch/cmip6/hist/tas/tas_Amon_HadGEM3-GC31-LL_historical_r1i1p1f3_gn_185001-201412_rg1.nc\n",
    "\n",
    "cdo -ymonmean /home/users/qino/bas_palaeoclim_qino/scratch/cmip6/hist/tas/tas_Amon_HadGEM3-GC31-LL_historical_r1i1p1f3_gn_185001-201412_rg1.nc /home/users/qino/bas_palaeoclim_qino/scratch/cmip6/hist/tas/tas_Amon_HadGEM3-GC31-LL_historical_r1i1p1f3_gn_185001-201412_rg1_mm.nc\n",
    "\n",
    "cdo -yearmean /home/users/qino/bas_palaeoclim_qino/scratch/cmip6/hist/tas/tas_Amon_HadGEM3-GC31-LL_historical_r1i1p1f3_gn_185001-201412_rg1.nc /home/users/qino/bas_palaeoclim_qino/scratch/cmip6/hist/tas/tas_Amon_HadGEM3-GC31-LL_historical_r1i1p1f3_gn_185001-201412_rg1_ann.nc\n",
    "\n",
    "cdo -timmean /home/users/qino/bas_palaeoclim_qino/scratch/cmip6/hist/tas/tas_Amon_HadGEM3-GC31-LL_historical_r1i1p1f3_gn_185001-201412_rg1.nc /home/users/qino/bas_palaeoclim_qino/scratch/cmip6/hist/tas/tas_Amon_HadGEM3-GC31-LL_historical_r1i1p1f3_gn_185001-201412_rg1_am.nc\n",
    "\n",
    "cdo -seasmean -seltimestep,3/1979 /home/users/qino/bas_palaeoclim_qino/scratch/cmip6/hist/tas/tas_Amon_HadGEM3-GC31-LL_historical_r1i1p1f3_gn_185001-201412_rg1.nc /home/users/qino/bas_palaeoclim_qino/scratch/cmip6/hist/tas/tas_Amon_HadGEM3-GC31-LL_historical_r1i1p1f3_gn_185001-201412_rg1_sea.nc\n",
    "\n",
    "cdo -yseasmean /home/users/qino/bas_palaeoclim_qino/scratch/cmip6/hist/tas/tas_Amon_HadGEM3-GC31-LL_historical_r1i1p1f3_gn_185001-201412_rg1.nc /home/users/qino/bas_palaeoclim_qino/scratch/cmip6/hist/tas/tas_Amon_HadGEM3-GC31-LL_historical_r1i1p1f3_gn_185001-201412_rg1_sm.nc\n",
    "\n",
    "    1979-2014\n",
    "\n",
    "cdo -ymonmean -selyear,1979/2014 /home/users/qino/bas_palaeoclim_qino/scratch/cmip6/hist/tas/tas_Amon_HadGEM3-GC31-LL_historical_r1i1p1f3_gn_185001-201412_rg1.nc /home/users/qino/bas_palaeoclim_qino/scratch/cmip6/hist/tas/tas_Amon_HadGEM3-GC31-LL_historical_r1i1p1f3_gn_197901-201412_rg1_mm.nc\n",
    "\n",
    "cdo -yearmean -selyear,1979/2014 /home/users/qino/bas_palaeoclim_qino/scratch/cmip6/hist/tas/tas_Amon_HadGEM3-GC31-LL_historical_r1i1p1f3_gn_185001-201412_rg1.nc /home/users/qino/bas_palaeoclim_qino/scratch/cmip6/hist/tas/tas_Amon_HadGEM3-GC31-LL_historical_r1i1p1f3_gn_197901-201412_rg1_ann.nc\n",
    "\n",
    "cdo -timmean -selyear,1979/2014 /home/users/qino/bas_palaeoclim_qino/scratch/cmip6/hist/tas/tas_Amon_HadGEM3-GC31-LL_historical_r1i1p1f3_gn_185001-201412_rg1.nc /home/users/qino/bas_palaeoclim_qino/scratch/cmip6/hist/tas/tas_Amon_HadGEM3-GC31-LL_historical_r1i1p1f3_gn_197901-201412_rg1_am.nc\n",
    "\n",
    "cdo -seasmean -seltimestep,3/431 -selyear,1979/2014 /home/users/qino/bas_palaeoclim_qino/scratch/cmip6/hist/tas/tas_Amon_HadGEM3-GC31-LL_historical_r1i1p1f3_gn_185001-201412_rg1.nc /home/users/qino/bas_palaeoclim_qino/scratch/cmip6/hist/tas/tas_Amon_HadGEM3-GC31-LL_historical_r1i1p1f3_gn_197901-201412_rg1_sea.nc\n",
    "\n",
    "cdo -yseasmean -selyear,1979/2014 /home/users/qino/bas_palaeoclim_qino/scratch/cmip6/hist/tas/tas_Amon_HadGEM3-GC31-LL_historical_r1i1p1f3_gn_185001-201412_rg1.nc /home/users/qino/bas_palaeoclim_qino/scratch/cmip6/hist/tas/tas_Amon_HadGEM3-GC31-LL_historical_r1i1p1f3_gn_197901-201412_rg1_sm.nc\n",
    "\n"
   ]
  },
  {
   "cell_type": "markdown",
   "metadata": {},
   "source": [
    "### AWI-ESM-1-1-LR"
   ]
  },
  {
   "cell_type": "markdown",
   "metadata": {},
   "source": [
    "    There is one historical ensemble available\n",
    "\n",
    "cdo -mergetime /badc/cmip6/data/CMIP6/CMIP/AWI/AWI-ESM-1-1-LR/historical/r1i1p1f1/Amon/tas/gn/v20200212/*.nc /home/users/qino/bas_palaeoclim_qino/scratch/cmip6/hist/tas/tas_Amon_AWI-ESM-1-1-LR_historical_r1i1p1f1_gn_185001-201412.nc\n",
    "\n",
    "cdo -remapcon2,global_1 /home/users/qino/bas_palaeoclim_qino/scratch/cmip6/hist/tas/tas_Amon_AWI-ESM-1-1-LR_historical_r1i1p1f1_gn_185001-201412.nc /home/users/qino/bas_palaeoclim_qino/scratch/cmip6/hist/tas/tas_Amon_AWI-ESM-1-1-LR_historical_r1i1p1f1_gn_185001-201412_rg1.nc\n",
    "\n",
    "cdo -ymonmean /home/users/qino/bas_palaeoclim_qino/scratch/cmip6/hist/tas/tas_Amon_AWI-ESM-1-1-LR_historical_r1i1p1f1_gn_185001-201412_rg1.nc /home/users/qino/bas_palaeoclim_qino/scratch/cmip6/hist/tas/tas_Amon_AWI-ESM-1-1-LR_historical_r1i1p1f1_gn_185001-201412_rg1_mm.nc\n",
    "\n",
    "cdo -yearmean /home/users/qino/bas_palaeoclim_qino/scratch/cmip6/hist/tas/tas_Amon_AWI-ESM-1-1-LR_historical_r1i1p1f1_gn_185001-201412_rg1.nc /home/users/qino/bas_palaeoclim_qino/scratch/cmip6/hist/tas/tas_Amon_AWI-ESM-1-1-LR_historical_r1i1p1f1_gn_185001-201412_rg1_ann.nc\n",
    "\n",
    "cdo -timmean /home/users/qino/bas_palaeoclim_qino/scratch/cmip6/hist/tas/tas_Amon_AWI-ESM-1-1-LR_historical_r1i1p1f1_gn_185001-201412_rg1.nc /home/users/qino/bas_palaeoclim_qino/scratch/cmip6/hist/tas/tas_Amon_AWI-ESM-1-1-LR_historical_r1i1p1f1_gn_185001-201412_rg1_am.nc\n",
    "\n",
    "cdo -seasmean -seltimestep,3/1979 /home/users/qino/bas_palaeoclim_qino/scratch/cmip6/hist/tas/tas_Amon_AWI-ESM-1-1-LR_historical_r1i1p1f1_gn_185001-201412_rg1.nc /home/users/qino/bas_palaeoclim_qino/scratch/cmip6/hist/tas/tas_Amon_AWI-ESM-1-1-LR_historical_r1i1p1f1_gn_185001-201412_rg1_sea.nc\n",
    "\n",
    "cdo -yseasmean /home/users/qino/bas_palaeoclim_qino/scratch/cmip6/hist/tas/tas_Amon_AWI-ESM-1-1-LR_historical_r1i1p1f1_gn_185001-201412_rg1.nc /home/users/qino/bas_palaeoclim_qino/scratch/cmip6/hist/tas/tas_Amon_AWI-ESM-1-1-LR_historical_r1i1p1f1_gn_185001-201412_rg1_sm.nc\n",
    "\n",
    "    1979-2014\n",
    "\n",
    "cdo -ymonmean -selyear,1979/2014 /home/users/qino/bas_palaeoclim_qino/scratch/cmip6/hist/tas/tas_Amon_AWI-ESM-1-1-LR_historical_r1i1p1f1_gn_185001-201412_rg1.nc /home/users/qino/bas_palaeoclim_qino/scratch/cmip6/hist/tas/tas_Amon_AWI-ESM-1-1-LR_historical_r1i1p1f1_gn_197901-201412_rg1_mm.nc\n",
    "\n",
    "cdo -yearmean -selyear,1979/2014 /home/users/qino/bas_palaeoclim_qino/scratch/cmip6/hist/tas/tas_Amon_AWI-ESM-1-1-LR_historical_r1i1p1f1_gn_185001-201412_rg1.nc /home/users/qino/bas_palaeoclim_qino/scratch/cmip6/hist/tas/tas_Amon_AWI-ESM-1-1-LR_historical_r1i1p1f1_gn_197901-201412_rg1_ann.nc\n",
    "\n",
    "cdo -timmean -selyear,1979/2014 /home/users/qino/bas_palaeoclim_qino/scratch/cmip6/hist/tas/tas_Amon_AWI-ESM-1-1-LR_historical_r1i1p1f1_gn_185001-201412_rg1.nc /home/users/qino/bas_palaeoclim_qino/scratch/cmip6/hist/tas/tas_Amon_AWI-ESM-1-1-LR_historical_r1i1p1f1_gn_197901-201412_rg1_am.nc\n",
    "\n",
    "cdo -seasmean -seltimestep,3/431 -selyear,1979/2014 /home/users/qino/bas_palaeoclim_qino/scratch/cmip6/hist/tas/tas_Amon_AWI-ESM-1-1-LR_historical_r1i1p1f1_gn_185001-201412_rg1.nc /home/users/qino/bas_palaeoclim_qino/scratch/cmip6/hist/tas/tas_Amon_AWI-ESM-1-1-LR_historical_r1i1p1f1_gn_197901-201412_rg1_sea.nc\n",
    "\n",
    "cdo -yseasmean -selyear,1979/2014 /home/users/qino/bas_palaeoclim_qino/scratch/cmip6/hist/tas/tas_Amon_AWI-ESM-1-1-LR_historical_r1i1p1f1_gn_185001-201412_rg1.nc /home/users/qino/bas_palaeoclim_qino/scratch/cmip6/hist/tas/tas_Amon_AWI-ESM-1-1-LR_historical_r1i1p1f1_gn_197901-201412_rg1_sm.nc\n"
   ]
  },
  {
   "cell_type": "markdown",
   "metadata": {},
   "source": [
    "## Reanalysis"
   ]
  },
  {
   "cell_type": "markdown",
   "metadata": {},
   "source": [
    "### ERA5"
   ]
  },
  {
   "cell_type": "markdown",
   "metadata": {},
   "source": [
    "#### download"
   ]
  },
  {
   "cell_type": "code",
   "execution_count": 1,
   "metadata": {},
   "outputs": [
    {
     "name": "stderr",
     "output_type": "stream",
     "text": [
      "2022-02-25 15:03:31,359 INFO Welcome to the CDS\n",
      "2022-02-25 15:03:31,360 INFO Sending request to https://cds.climate.copernicus.eu/api/v2/resources/reanalysis-era5-single-levels-monthly-means\n",
      "2022-02-25 15:03:31,516 INFO Request is completed\n",
      "2022-02-25 15:03:31,517 INFO Downloading https://download-0015.copernicus-climate.eu/cache-compute-0015/cache/data1/adaptor.mars.internal-1645687555.0549827-21395-13-b927ba1c-53a3-45e6-acf9-1efa9c4d468a.nc to /home/users/qino/bas_palaeoclim_qino/scratch/cmip6/hist/tas/tas_ERA5_mon_sl_197901_201412.nc (855.5M)\n",
      "2022-02-25 15:04:04,922 INFO Download rate 25.6M/s \n"
     ]
    },
    {
     "data": {
      "text/plain": [
       "Result(content_length=897050800,content_type=application/x-netcdf,location=https://download-0015.copernicus-climate.eu/cache-compute-0015/cache/data1/adaptor.mars.internal-1645687555.0549827-21395-13-b927ba1c-53a3-45e6-acf9-1efa9c4d468a.nc)"
      ]
     },
     "execution_count": 1,
     "metadata": {},
     "output_type": "execute_result"
    }
   ],
   "source": [
    "# source: https://cds.climate.copernicus.eu/cdsapp#!/dataset/reanalysis-era5-single-levels-monthly-means?tab=overview\n",
    "# date: 2022-02-25\n",
    "\n",
    "import cdsapi\n",
    "\n",
    "c = cdsapi.Client()\n",
    "\n",
    "c.retrieve(\n",
    "    'reanalysis-era5-single-levels-monthly-means',\n",
    "    {\n",
    "        'product_type': 'monthly_averaged_reanalysis',\n",
    "        'variable': '2m_temperature',\n",
    "        'year': [\n",
    "            '1979', '1980', '1981',\n",
    "            '1982', '1983', '1984',\n",
    "            '1985', '1986', '1987',\n",
    "            '1988', '1989', '1990',\n",
    "            '1991', '1992', '1993',\n",
    "            '1994', '1995', '1996',\n",
    "            '1997', '1998', '1999',\n",
    "            '2000', '2001', '2002',\n",
    "            '2003', '2004', '2005',\n",
    "            '2006', '2007', '2008',\n",
    "            '2009', '2010', '2011',\n",
    "            '2012', '2013', '2014',\n",
    "        ],\n",
    "        'month': [\n",
    "            '01', '02', '03',\n",
    "            '04', '05', '06',\n",
    "            '07', '08', '09',\n",
    "            '10', '11', '12',\n",
    "        ],\n",
    "        'time': '00:00',\n",
    "        'format': 'netcdf',\n",
    "    },\n",
    "    '/home/users/qino/bas_palaeoclim_qino/scratch/cmip6/hist/tas/tas_ERA5_mon_sl_197901_201412.nc')\n"
   ]
  },
  {
   "cell_type": "markdown",
   "metadata": {},
   "source": [
    "#### Process with cdo"
   ]
  },
  {
   "cell_type": "markdown",
   "metadata": {},
   "source": [
    "cdo -chvar,t2m,tas -remapcon2,global_1 /home/users/qino/bas_palaeoclim_qino/scratch/cmip6/hist/tas/tas_ERA5_mon_sl_197901_201412.nc /home/users/qino/bas_palaeoclim_qino/scratch/cmip6/hist/tas/tas_ERA5_mon_sl_197901_201412_rg1.nc\n",
    "\n",
    "cdo -ymonmean /home/users/qino/bas_palaeoclim_qino/scratch/cmip6/hist/tas/tas_ERA5_mon_sl_197901_201412_rg1.nc /home/users/qino/bas_palaeoclim_qino/scratch/cmip6/hist/tas/tas_ERA5_mon_sl_197901_201412_rg1_mm.nc\n",
    "\n",
    "cdo -yearmean /home/users/qino/bas_palaeoclim_qino/scratch/cmip6/hist/tas/tas_ERA5_mon_sl_197901_201412_rg1.nc /home/users/qino/bas_palaeoclim_qino/scratch/cmip6/hist/tas/tas_ERA5_mon_sl_197901_201412_rg1_ann.nc\n",
    "\n",
    "cdo -timmean /home/users/qino/bas_palaeoclim_qino/scratch/cmip6/hist/tas/tas_ERA5_mon_sl_197901_201412_rg1.nc /home/users/qino/bas_palaeoclim_qino/scratch/cmip6/hist/tas/tas_ERA5_mon_sl_197901_201412_rg1_am.nc\n",
    "\n",
    "cdo -seasmean -seltimestep,3/431 /home/users/qino/bas_palaeoclim_qino/scratch/cmip6/hist/tas/tas_ERA5_mon_sl_197901_201412_rg1.nc /home/users/qino/bas_palaeoclim_qino/scratch/cmip6/hist/tas/tas_ERA5_mon_sl_197901_201412_rg1_sea.nc\n",
    "\n",
    "cdo -yseasmean /home/users/qino/bas_palaeoclim_qino/scratch/cmip6/hist/tas/tas_ERA5_mon_sl_197901_201412_rg1.nc /home/users/qino/bas_palaeoclim_qino/scratch/cmip6/hist/tas/tas_ERA5_mon_sl_197901_201412_rg1_sm.nc"
   ]
  },
  {
   "cell_type": "markdown",
   "metadata": {},
   "source": [
    "### MERRA2"
   ]
  },
  {
   "cell_type": "markdown",
   "metadata": {},
   "source": [
    "\n",
    "<!-- All take a long time -->\n",
    "cdo -mergetime /home/users/qino/bas_palaeoclim_qino/observations/reanalysis/MERRA2/MM_SLV_data1/MERRA2_*.tavgM_2d_slv_Nx.*.SUB.nc /home/users/qino/bas_palaeoclim_qino/scratch/cmip6/hist/tas/tas_MERRA2_198001_202105.nc\n",
    "\n",
    "cdo -chvar,T2M,tas -remapcon2,global_1 -selyear,1980/2014 /home/users/qino/bas_palaeoclim_qino/scratch/cmip6/hist/tas/tas_MERRA2_198001_202105.nc /home/users/qino/bas_palaeoclim_qino/scratch/cmip6/hist/tas/tas_more_MERRA2_198001_201412_rg1.nc\n",
    "\n",
    "cdo -ymonmean /home/users/qino/bas_palaeoclim_qino/scratch/cmip6/hist/tas/tas_more_MERRA2_198001_201412_rg1.nc /home/users/qino/bas_palaeoclim_qino/scratch/cmip6/hist/tas/tas_more_MERRA2_198001_201412_rg1_mm.nc\n",
    "\n",
    "cdo -yearmean /home/users/qino/bas_palaeoclim_qino/scratch/cmip6/hist/tas/tas_more_MERRA2_198001_201412_rg1.nc /home/users/qino/bas_palaeoclim_qino/scratch/cmip6/hist/tas/tas_more_MERRA2_198001_201412_rg1_ann.nc\n",
    "\n",
    "cdo -timmean /home/users/qino/bas_palaeoclim_qino/scratch/cmip6/hist/tas/tas_more_MERRA2_198001_201412_rg1.nc /home/users/qino/bas_palaeoclim_qino/scratch/cmip6/hist/tas/tas_more_MERRA2_198001_201412_rg1_am.nc\n",
    "\n",
    "#not run\n",
    "\n",
    "cdo -seasmean -seltimestep,3/419 /home/users/qino/bas_palaeoclim_qino/scratch/cmip6/hist/tas/tas_more_MERRA2_198001_201412_rg1.nc /home/users/qino/bas_palaeoclim_qino/scratch/cmip6/hist/tas/tas_more_MERRA2_198001_201412_rg1_sea.nc\n",
    "\n",
    "cdo -yseasmean /home/users/qino/bas_palaeoclim_qino/scratch/cmip6/hist/tas/tas_more_MERRA2_198001_201412_rg1.nc /home/users/qino/bas_palaeoclim_qino/scratch/cmip6/hist/tas/tas_more_MERRA2_198001_201412_rg1_sm.nc\n"
   ]
  },
  {
   "cell_type": "markdown",
   "metadata": {},
   "source": [
    "# Sea ice concentration"
   ]
  },
  {
   "cell_type": "markdown",
   "metadata": {},
   "source": [
    "## Models"
   ]
  },
  {
   "cell_type": "markdown",
   "metadata": {},
   "source": [
    "### HadGEM3-GC3.1-LL"
   ]
  },
  {
   "cell_type": "markdown",
   "metadata": {},
   "source": [
    "    There are five historical ensembles available\n",
    "\n",
    "cdo -mergetime /badc/cmip6/data/CMIP6/CMIP/MOHC/HadGEM3-GC31-LL/historical/r1i1p1f3/SImon/siconc/gn/v20200330/*.nc /home/users/qino/bas_palaeoclim_qino/scratch/cmip6/hist/siconc/siconc_SImon_HadGEM3-GC31-LL_historical_r1i1p1f3_gn_185001-201412.nc\n",
    "\n",
    "cdo -remapcon,global_1 -setattribute,siconc@missing_value=1.e+20f /home/users/qino/bas_palaeoclim_qino/scratch/cmip6/hist/siconc/siconc_SImon_HadGEM3-GC31-LL_historical_r1i1p1f3_gn_185001-201412.nc /home/users/qino/bas_palaeoclim_qino/scratch/cmip6/hist/siconc/siconc_SImon_HadGEM3-GC31-LL_historical_r1i1p1f3_gn_185001-201412_rg1.nc\n",
    "\n",
    "cdo -ymonmean /home/users/qino/bas_palaeoclim_qino/scratch/cmip6/hist/siconc/siconc_SImon_HadGEM3-GC31-LL_historical_r1i1p1f3_gn_185001-201412_rg1.nc /home/users/qino/bas_palaeoclim_qino/scratch/cmip6/hist/siconc/siconc_SImon_HadGEM3-GC31-LL_historical_r1i1p1f3_gn_185001-201412_rg1_mm.nc\n",
    "\n",
    "cdo -yearmean /home/users/qino/bas_palaeoclim_qino/scratch/cmip6/hist/siconc/siconc_SImon_HadGEM3-GC31-LL_historical_r1i1p1f3_gn_185001-201412_rg1.nc /home/users/qino/bas_palaeoclim_qino/scratch/cmip6/hist/siconc/siconc_SImon_HadGEM3-GC31-LL_historical_r1i1p1f3_gn_185001-201412_rg1_ann.nc\n",
    "\n",
    "cdo -timmean /home/users/qino/bas_palaeoclim_qino/scratch/cmip6/hist/siconc/siconc_SImon_HadGEM3-GC31-LL_historical_r1i1p1f3_gn_185001-201412_rg1.nc /home/users/qino/bas_palaeoclim_qino/scratch/cmip6/hist/siconc/siconc_SImon_HadGEM3-GC31-LL_historical_r1i1p1f3_gn_185001-201412_rg1_am.nc\n",
    "\n",
    "cdo -seasmean -seltimestep,3/1979 /home/users/qino/bas_palaeoclim_qino/scratch/cmip6/hist/siconc/siconc_SImon_HadGEM3-GC31-LL_historical_r1i1p1f3_gn_185001-201412_rg1.nc /home/users/qino/bas_palaeoclim_qino/scratch/cmip6/hist/siconc/siconc_SImon_HadGEM3-GC31-LL_historical_r1i1p1f3_gn_185001-201412_rg1_sea.nc\n",
    "\n",
    "cdo -yseasmean /home/users/qino/bas_palaeoclim_qino/scratch/cmip6/hist/siconc/siconc_SImon_HadGEM3-GC31-LL_historical_r1i1p1f3_gn_185001-201412_rg1.nc /home/users/qino/bas_palaeoclim_qino/scratch/cmip6/hist/siconc/siconc_SImon_HadGEM3-GC31-LL_historical_r1i1p1f3_gn_185001-201412_rg1_sm.nc\n",
    "\n",
    "    1979-2014\n",
    "\n",
    "cdo -ymonmean -selyear,1979/2014 /home/users/qino/bas_palaeoclim_qino/scratch/cmip6/hist/siconc/siconc_SImon_HadGEM3-GC31-LL_historical_r1i1p1f3_gn_185001-201412_rg1.nc /home/users/qino/bas_palaeoclim_qino/scratch/cmip6/hist/siconc/siconc_SImon_HadGEM3-GC31-LL_historical_r1i1p1f3_gn_197901-201412_rg1_mm.nc\n",
    "\n",
    "cdo -yearmean -selyear,1979/2014 /home/users/qino/bas_palaeoclim_qino/scratch/cmip6/hist/siconc/siconc_SImon_HadGEM3-GC31-LL_historical_r1i1p1f3_gn_185001-201412_rg1.nc /home/users/qino/bas_palaeoclim_qino/scratch/cmip6/hist/siconc/siconc_SImon_HadGEM3-GC31-LL_historical_r1i1p1f3_gn_197901-201412_rg1_ann.nc\n",
    "\n",
    "cdo -timmean -selyear,1979/2014 /home/users/qino/bas_palaeoclim_qino/scratch/cmip6/hist/siconc/siconc_SImon_HadGEM3-GC31-LL_historical_r1i1p1f3_gn_185001-201412_rg1.nc /home/users/qino/bas_palaeoclim_qino/scratch/cmip6/hist/siconc/siconc_SImon_HadGEM3-GC31-LL_historical_r1i1p1f3_gn_197901-201412_rg1_am.nc\n",
    "\n",
    "cdo -seasmean -seltimestep,3/431 -selyear,1979/2014 /home/users/qino/bas_palaeoclim_qino/scratch/cmip6/hist/siconc/siconc_SImon_HadGEM3-GC31-LL_historical_r1i1p1f3_gn_185001-201412_rg1.nc /home/users/qino/bas_palaeoclim_qino/scratch/cmip6/hist/siconc/siconc_SImon_HadGEM3-GC31-LL_historical_r1i1p1f3_gn_197901-201412_rg1_sea.nc\n",
    "\n",
    "cdo -yseasmean -selyear,1979/2014 /home/users/qino/bas_palaeoclim_qino/scratch/cmip6/hist/siconc/siconc_SImon_HadGEM3-GC31-LL_historical_r1i1p1f3_gn_185001-201412_rg1.nc /home/users/qino/bas_palaeoclim_qino/scratch/cmip6/hist/siconc/siconc_SImon_HadGEM3-GC31-LL_historical_r1i1p1f3_gn_197901-201412_rg1_sm.nc"
   ]
  },
  {
   "cell_type": "markdown",
   "metadata": {},
   "source": [
    "### AWI-ESM-1-1-LR"
   ]
  },
  {
   "cell_type": "markdown",
   "metadata": {},
   "source": [
    "    There is one historical ensemble available\n",
    "\n",
    "cdo -mergetime /badc/cmip6/data/CMIP6/CMIP/AWI/AWI-ESM-1-1-LR/historical/r1i1p1f1/SImon/siconc/gn/v20200212/*.nc /home/users/qino/bas_palaeoclim_qino/scratch/cmip6/hist/siconc/siconc_SImon_AWI-ESM-1-1-LR_historical_r1i1p1f1_gn_185001-201412.nc\n",
    "\n",
    "cdo -P 4 -remapcon,global_1 /home/users/qino/bas_palaeoclim_qino/scratch/cmip6/hist/siconc/siconc_SImon_AWI-ESM-1-1-LR_historical_r1i1p1f1_gn_185001-201412.nc /home/users/qino/bas_palaeoclim_qino/scratch/cmip6/hist/siconc/siconc_SImon_AWI-ESM-1-1-LR_historical_r1i1p1f1_gn_185001-201412_rg1.nc\n",
    "\n",
    "cdo -ymonmean /home/users/qino/bas_palaeoclim_qino/scratch/cmip6/hist/siconc/siconc_SImon_AWI-ESM-1-1-LR_historical_r1i1p1f1_gn_185001-201412_rg1.nc /home/users/qino/bas_palaeoclim_qino/scratch/cmip6/hist/siconc/siconc_SImon_AWI-ESM-1-1-LR_historical_r1i1p1f1_gn_185001-201412_rg1_mm.nc\n",
    "\n",
    "cdo -yearmean /home/users/qino/bas_palaeoclim_qino/scratch/cmip6/hist/siconc/siconc_SImon_AWI-ESM-1-1-LR_historical_r1i1p1f1_gn_185001-201412_rg1.nc /home/users/qino/bas_palaeoclim_qino/scratch/cmip6/hist/siconc/siconc_SImon_AWI-ESM-1-1-LR_historical_r1i1p1f1_gn_185001-201412_rg1_ann.nc\n",
    "\n",
    "cdo -timmean /home/users/qino/bas_palaeoclim_qino/scratch/cmip6/hist/siconc/siconc_SImon_AWI-ESM-1-1-LR_historical_r1i1p1f1_gn_185001-201412_rg1.nc /home/users/qino/bas_palaeoclim_qino/scratch/cmip6/hist/siconc/siconc_SImon_AWI-ESM-1-1-LR_historical_r1i1p1f1_gn_185001-201412_rg1_am.nc\n",
    "\n",
    "cdo -seasmean -seltimestep,3/1979 /home/users/qino/bas_palaeoclim_qino/scratch/cmip6/hist/siconc/siconc_SImon_AWI-ESM-1-1-LR_historical_r1i1p1f1_gn_185001-201412_rg1.nc /home/users/qino/bas_palaeoclim_qino/scratch/cmip6/hist/siconc/siconc_SImon_AWI-ESM-1-1-LR_historical_r1i1p1f1_gn_185001-201412_rg1_sea.nc\n",
    "\n",
    "cdo -yseasmean /home/users/qino/bas_palaeoclim_qino/scratch/cmip6/hist/siconc/siconc_SImon_AWI-ESM-1-1-LR_historical_r1i1p1f1_gn_185001-201412_rg1.nc /home/users/qino/bas_palaeoclim_qino/scratch/cmip6/hist/siconc/siconc_SImon_AWI-ESM-1-1-LR_historical_r1i1p1f1_gn_185001-201412_rg1_sm.nc\n",
    "\n",
    "\n",
    "    1979-2014\n",
    "\n",
    "cdo -ymonmean -selyear,1979/2014 /home/users/qino/bas_palaeoclim_qino/scratch/cmip6/hist/siconc/siconc_SImon_AWI-ESM-1-1-LR_historical_r1i1p1f1_gn_185001-201412_rg1.nc /home/users/qino/bas_palaeoclim_qino/scratch/cmip6/hist/siconc/siconc_SImon_AWI-ESM-1-1-LR_historical_r1i1p1f1_gn_197901-201412_rg1_mm.nc\n",
    "\n",
    "cdo -yearmean -selyear,1979/2014 /home/users/qino/bas_palaeoclim_qino/scratch/cmip6/hist/siconc/siconc_SImon_AWI-ESM-1-1-LR_historical_r1i1p1f1_gn_185001-201412_rg1.nc /home/users/qino/bas_palaeoclim_qino/scratch/cmip6/hist/siconc/siconc_SImon_AWI-ESM-1-1-LR_historical_r1i1p1f1_gn_197901-201412_rg1_ann.nc\n",
    "\n",
    "cdo -timmean -selyear,1979/2014 /home/users/qino/bas_palaeoclim_qino/scratch/cmip6/hist/siconc/siconc_SImon_AWI-ESM-1-1-LR_historical_r1i1p1f1_gn_185001-201412_rg1.nc /home/users/qino/bas_palaeoclim_qino/scratch/cmip6/hist/siconc/siconc_SImon_AWI-ESM-1-1-LR_historical_r1i1p1f1_gn_197901-201412_rg1_am.nc\n",
    "\n",
    "cdo -seasmean -seltimestep,3/431 -selyear,1979/2014 /home/users/qino/bas_palaeoclim_qino/scratch/cmip6/hist/siconc/siconc_SImon_AWI-ESM-1-1-LR_historical_r1i1p1f1_gn_185001-201412_rg1.nc /home/users/qino/bas_palaeoclim_qino/scratch/cmip6/hist/siconc/siconc_SImon_AWI-ESM-1-1-LR_historical_r1i1p1f1_gn_197901-201412_rg1_sea.nc\n",
    "\n",
    "cdo -yseasmean -selyear,1979/2014 /home/users/qino/bas_palaeoclim_qino/scratch/cmip6/hist/siconc/siconc_SImon_AWI-ESM-1-1-LR_historical_r1i1p1f1_gn_185001-201412_rg1.nc /home/users/qino/bas_palaeoclim_qino/scratch/cmip6/hist/siconc/siconc_SImon_AWI-ESM-1-1-LR_historical_r1i1p1f1_gn_197901-201412_rg1_sm.nc\n",
    "\n"
   ]
  },
  {
   "cell_type": "markdown",
   "metadata": {},
   "source": [
    "### NSIDC"
   ]
  },
  {
   "cell_type": "markdown",
   "metadata": {},
   "source": [
    "#### process with python"
   ]
  },
  {
   "cell_type": "code",
   "execution_count": 1,
   "metadata": {},
   "outputs": [],
   "source": [
    "import xesmf as xe\n",
    "import xarray as xr\n",
    "siconc_nsidc = xr.open_dataset(\n",
    "    '/home/users/qino/bas_palaeoclim_qino/observations/products/NSIDC/Sea_Ice_Index/sh_monthly_geotiff/siconc_nsidc_197811_202110.nc')\n",
    "\n",
    "regridder = xe.Regridder(\n",
    "    siconc_nsidc, xe.util.grid_global(1, 1), 'bilinear')\n",
    "\n",
    "siconc_nsidc_rg1 = regridder(siconc_nsidc)\n",
    "\n",
    "siconc_nsidc_rg1.to_netcdf(\n",
    "    '/home/users/qino/bas_palaeoclim_qino/scratch/cmip6/hist/siconc/siconc_NSIDC_197811_202110_rg1.nc')\n",
    "\n",
    "# one_degree_grids_cdo = xr.open_dataset('/home/users/qino/bas_palaeoclim_qino/others/one_degree_grids_cdo.nc')\n"
   ]
  },
  {
   "cell_type": "markdown",
   "metadata": {},
   "source": [
    "#### process with cdo"
   ]
  },
  {
   "cell_type": "markdown",
   "metadata": {},
   "source": [
    "cdo -ymonmean -selyear,1979/2014 /home/users/qino/bas_palaeoclim_qino/scratch/cmip6/hist/siconc/siconc_NSIDC_197811_202110_rg1.nc /home/users/qino/bas_palaeoclim_qino/scratch/cmip6/hist/siconc/siconc_NSIDC_197901_201412_rg1_mm.nc\n",
    "\n",
    "cdo -timmean /home/users/qino/bas_palaeoclim_qino/scratch/cmip6/hist/siconc/siconc_NSIDC_197901_201412_rg1_mm.nc /home/users/qino/bas_palaeoclim_qino/scratch/cmip6/hist/siconc/siconc_NSIDC_197901_201412_rg1_am.nc\n",
    "\n",
    "cdo -yseasmean /home/users/qino/bas_palaeoclim_qino/scratch/cmip6/hist/siconc/siconc_NSIDC_197901_201412_rg1_mm.nc /home/users/qino/bas_palaeoclim_qino/scratch/cmip6/hist/siconc/siconc_NSIDC_197901_201412_rg1_sm.nc\n",
    "\n",
    "\n",
    "<!-- cdo -yearmean -selyear,1979/2014 /home/users/qino/bas_palaeoclim_qino/scratch/cmip6/hist/siconc/siconc_NSIDC_197811_202110_rg1.nc /home/users/qino/bas_palaeoclim_qino/scratch/cmip6/hist/siconc/siconc_NSIDC_197901_201412_rg1_ann.nc -->\n",
    "\n",
    "<!-- cdo -timmean -selyear,1979/2014 /home/users/qino/bas_palaeoclim_qino/scratch/cmip6/hist/siconc/siconc_NSIDC_197811_202110_rg1.nc /home/users/qino/bas_palaeoclim_qino/scratch/cmip6/hist/siconc/siconc_NSIDC_197901_201412_rg1_am.nc -->\n",
    "\n",
    "<!-- cdo -seasmean -seltimestep,3/431 -selyear,1979/2014 /home/users/qino/bas_palaeoclim_qino/scratch/cmip6/hist/siconc/siconc_NSIDC_197811_202110_rg1.nc /home/users/qino/bas_palaeoclim_qino/scratch/cmip6/hist/siconc/siconc_NSIDC_197901_201412_rg1_sea.nc -->\n",
    "\n",
    "<!-- cdo -yseasmean -selyear,1979/2014 /home/users/qino/bas_palaeoclim_qino/scratch/cmip6/hist/siconc/siconc_NSIDC_197811_202110_rg1.nc /home/users/qino/bas_palaeoclim_qino/scratch/cmip6/hist/siconc/siconc_NSIDC_197901_201412_rg1_sm.nc -->\n",
    "\n",
    "\n",
    "\n"
   ]
  },
  {
   "cell_type": "markdown",
   "metadata": {},
   "source": [
    "# 10m Wind"
   ]
  },
  {
   "cell_type": "markdown",
   "metadata": {},
   "source": [
    "## Models"
   ]
  },
  {
   "cell_type": "markdown",
   "metadata": {},
   "source": [
    "### HadGEM3-GC3.1-LL"
   ]
  },
  {
   "cell_type": "markdown",
   "metadata": {},
   "source": []
  },
  {
   "cell_type": "markdown",
   "metadata": {},
   "source": [
    "### AWI-ESM-1-1-LR"
   ]
  },
  {
   "cell_type": "markdown",
   "metadata": {},
   "source": [
    "## Reanalysis"
   ]
  },
  {
   "cell_type": "markdown",
   "metadata": {},
   "source": [
    "### ERA5"
   ]
  },
  {
   "cell_type": "code",
   "execution_count": null,
   "metadata": {},
   "outputs": [],
   "source": [
    "# source: https://cds.climate.copernicus.eu/cdsapp#!/dataset/reanalysis-era5-single-levels-monthly-means?tab=overview\n",
    "# date: 2022-02-24\n",
    "\n",
    "import cdsapi\n",
    "c = cdsapi.Client()\n",
    "\n",
    "c.retrieve(\n",
    "    'reanalysis-era5-single-levels-monthly-means',\n",
    "    {\n",
    "        'product_type': 'monthly_averaged_reanalysis',\n",
    "        'variable': [\n",
    "            '10m_u_component_of_wind', '10m_v_component_of_wind',\n",
    "        ],\n",
    "        'year': [\n",
    "            '1979', '1980', '1981',\n",
    "            '1982', '1983', '1984',\n",
    "            '1985', '1986', '1987',\n",
    "            '1988', '1989', '1990',\n",
    "            '1991', '1992', '1993',\n",
    "            '1994', '1995', '1996',\n",
    "            '1997', '1998', '1999',\n",
    "            '2000', '2001', '2002',\n",
    "            '2003', '2004', '2005',\n",
    "            '2006', '2007', '2008',\n",
    "            '2009', '2010', '2011',\n",
    "            '2012', '2013', '2014',\n",
    "        ],\n",
    "        'month': [\n",
    "            '01', '02', '03',\n",
    "            '04', '05', '06',\n",
    "            '07', '08', '09',\n",
    "            '10', '11', '12',\n",
    "        ],\n",
    "        'time': '00:00',\n",
    "        'format': 'netcdf',\n",
    "    },\n",
    "    '/home/users/qino/bas_palaeoclim_qino/scratch/cmip6/hist/wind10/wind10m_ERA5_mon_sl_197901_201412.nc')"
   ]
  },
  {
   "cell_type": "markdown",
   "metadata": {},
   "source": []
  },
  {
   "cell_type": "markdown",
   "metadata": {},
   "source": [
    "# Pressure level Wind"
   ]
  },
  {
   "cell_type": "markdown",
   "metadata": {},
   "source": [
    "## Models"
   ]
  },
  {
   "cell_type": "markdown",
   "metadata": {},
   "source": [
    "### HadGEM3-GC3.1-LL"
   ]
  },
  {
   "cell_type": "markdown",
   "metadata": {},
   "source": [
    "cdo -P 4 -mergetime /badc/cmip6/data/CMIP6/CMIP/MOHC/HadGEM3-GC31-LL/historical/r1i1p1f3/Amon/ua/gn/v20190624/*.nc /home/users/qino/bas_palaeoclim_qino/scratch/cmip6/hist/wind_plev/ua_Amon_HadGEM3-GC31-LL_historical_r1i1p1f3_gn_185001-201412.nc\n",
    "\n",
    "cdo -P 4 -mergetime /badc/cmip6/data/CMIP6/CMIP/MOHC/HadGEM3-GC31-LL/historical/r1i1p1f3/Amon/va/gn/v20190624/*.nc /home/users/qino/bas_palaeoclim_qino/scratch/cmip6/hist/wind_plev/va_Amon_HadGEM3-GC31-LL_historical_r1i1p1f3_gn_185001-201412.nc\n",
    "\n",
    "cdo -P 4 -merge /home/users/qino/bas_palaeoclim_qino/scratch/cmip6/hist/wind_plev/ua_Amon_HadGEM3-GC31-LL_historical_r1i1p1f3_gn_185001-201412.nc /home/users/qino/bas_palaeoclim_qino/scratch/cmip6/hist/wind_plev/va_Amon_HadGEM3-GC31-LL_historical_r1i1p1f3_gn_185001-201412.nc /home/users/qino/bas_palaeoclim_qino/scratch/cmip6/hist/wind_plev/ua_va_Amon_HadGEM3-GC31-LL_historical_r1i1p1f3_gn_185001-201412.nc\n",
    "\n",
    "cdo -P 4 -remapcon2,global_1 /home/users/qino/bas_palaeoclim_qino/scratch/cmip6/hist/wind_plev/ua_va_Amon_HadGEM3-GC31-LL_historical_r1i1p1f3_gn_185001-201412.nc /home/users/qino/bas_palaeoclim_qino/scratch/cmip6/hist/wind_plev/ua_va_Amon_HadGEM3-GC31-LL_historical_r1i1p1f3_gn_185001-201412_rg1.nc\n",
    "\n",
    "\n",
    "cdo -selyear,1979/2014 /home/users/qino/bas_palaeoclim_qino/scratch/cmip6/hist/wind_plev/ua_va_Amon_HadGEM3-GC31-LL_historical_r1i1p1f3_gn_185001-201412_rg1.nc /home/users/qino/bas_palaeoclim_qino/scratch/cmip6/hist/wind_plev/ua_va_Amon_HadGEM3-GC31-LL_historical_r1i1p1f3_gn_197901-201412_rg1.nc\n",
    "\n",
    "/home/users/qino/a_basic_analysis/d_model_simulations/1_awi_esm/1.1_post_processing/calc_msa_statistics.sh /home/users/qino/bas_palaeoclim_qino/scratch/cmip6/hist/wind_plev/ua_va_Amon_HadGEM3-GC31-LL_historical_r1i1p1f3_gn_185001-201412_rg1 3 1979\n",
    "\n",
    "/home/users/qino/a_basic_analysis/d_model_simulations/1_awi_esm/1.1_post_processing/calc_msa_statistics.sh /home/users/qino/bas_palaeoclim_qino/scratch/cmip6/hist/wind_plev/ua_va_Amon_HadGEM3-GC31-LL_historical_r1i1p1f3_gn_197901-201412_rg1 3 431\n",
    "\n",
    "\n"
   ]
  },
  {
   "cell_type": "markdown",
   "metadata": {},
   "source": [
    "### AWI-ESM-1-1-LR"
   ]
  },
  {
   "cell_type": "markdown",
   "metadata": {},
   "source": [
    "\n",
    "cdo -P 4 -mergetime /badc/cmip6/data/CMIP6/CMIP/AWI/AWI-ESM-1-1-LR/historical/r1i1p1f1/Amon/ua/gn/v20200212/*.nc /home/users/qino/bas_palaeoclim_qino/scratch/cmip6/hist/wind_plev/ua_Amon_AWI-ESM-1-1-LR_historical_r1i1p1f1_gn_185001-201412.nc\n",
    "\n",
    "cdo -P 4 -mergetime /badc/cmip6/data/CMIP6/CMIP/AWI/AWI-ESM-1-1-LR/historical/r1i1p1f1/Amon/va/gn/v20200212/*.nc /home/users/qino/bas_palaeoclim_qino/scratch/cmip6/hist/wind_plev/va_Amon_AWI-ESM-1-1-LR_historical_r1i1p1f1_gn_185001-201412.nc\n",
    "\n",
    "cdo -P 4 -merge /home/users/qino/bas_palaeoclim_qino/scratch/cmip6/hist/wind_plev/ua_Amon_AWI-ESM-1-1-LR_historical_r1i1p1f1_gn_185001-201412.nc /home/users/qino/bas_palaeoclim_qino/scratch/cmip6/hist/wind_plev/va_Amon_AWI-ESM-1-1-LR_historical_r1i1p1f1_gn_185001-201412.nc /home/users/qino/bas_palaeoclim_qino/scratch/cmip6/hist/wind_plev/ua_va_Amon_AWI-ESM-1-1-LR_historical_r1i1p1f1_gn_185001-201412.nc\n",
    "\n",
    "cdo -P 4 -remapcon2,global_1 /home/users/qino/bas_palaeoclim_qino/scratch/cmip6/hist/wind_plev/ua_va_Amon_AWI-ESM-1-1-LR_historical_r1i1p1f1_gn_185001-201412.nc /home/users/qino/bas_palaeoclim_qino/scratch/cmip6/hist/wind_plev/ua_va_Amon_AWI-ESM-1-1-LR_historical_r1i1p1f1_gn_185001-201412_rg1.nc\n",
    "\n",
    "cdo -selyear,1979/2014 /home/users/qino/bas_palaeoclim_qino/scratch/cmip6/hist/wind_plev/ua_va_Amon_AWI-ESM-1-1-LR_historical_r1i1p1f1_gn_185001-201412_rg1.nc /home/users/qino/bas_palaeoclim_qino/scratch/cmip6/hist/wind_plev/ua_va_Amon_AWI-ESM-1-1-LR_historical_r1i1p1f1_gn_197901-201412_rg1.nc\n",
    "\n",
    "/home/users/qino/a_basic_analysis/d_model_simulations/1_awi_esm/1.1_post_processing/calc_msa_statistics.sh /home/users/qino/bas_palaeoclim_qino/scratch/cmip6/hist/wind_plev/ua_va_Amon_AWI-ESM-1-1-LR_historical_r1i1p1f1_gn_185001-201412_rg1 3 1979\n",
    "\n",
    "/home/users/qino/a_basic_analysis/d_model_simulations/1_awi_esm/1.1_post_processing/calc_msa_statistics.sh /home/users/qino/bas_palaeoclim_qino/scratch/cmip6/hist/wind_plev/ua_va_Amon_AWI-ESM-1-1-LR_historical_r1i1p1f1_gn_197901-201412_rg1 3 431\n",
    "\n"
   ]
  },
  {
   "cell_type": "markdown",
   "metadata": {},
   "source": [
    "## Reanalysis"
   ]
  },
  {
   "cell_type": "markdown",
   "metadata": {},
   "source": [
    "### ERA 5"
   ]
  },
  {
   "cell_type": "markdown",
   "metadata": {},
   "source": [
    "#### Download"
   ]
  },
  {
   "cell_type": "code",
   "execution_count": 2,
   "metadata": {},
   "outputs": [
    {
     "name": "stderr",
     "output_type": "stream",
     "text": [
      "2022-02-28 21:33:17,984 INFO Welcome to the CDS\n",
      "2022-02-28 21:33:17,984 INFO Sending request to https://cds.climate.copernicus.eu/api/v2/resources/reanalysis-era5-pressure-levels-monthly-means\n",
      "2022-02-28 21:33:18,013 INFO Request is queued\n",
      "2022-02-28 21:34:33,073 INFO Request is running\n",
      "2022-02-28 21:41:36,169 INFO Request is completed\n",
      "2022-02-28 21:41:36,170 INFO Downloading https://download-0010.copernicus-climate.eu/cache-compute-0010/cache/data5/adaptor.mars.internal-1646084254.1913257-17711-20-dd9db620-cade-49de-88c0-74cc619db447.nc to /home/users/qino/bas_palaeoclim_qino/scratch/cmip6/hist/wind_plev/ua_va_ERA5_mon_pl1_197901_201412.nc (5G)\n",
      "2022-02-28 21:45:42,989 INFO Download rate 20.8M/s  \n"
     ]
    },
    {
     "data": {
      "text/plain": [
       "Result(content_length=5382248088,content_type=application/x-netcdf,location=https://download-0010.copernicus-climate.eu/cache-compute-0010/cache/data5/adaptor.mars.internal-1646084254.1913257-17711-20-dd9db620-cade-49de-88c0-74cc619db447.nc)"
      ]
     },
     "execution_count": 2,
     "metadata": {},
     "output_type": "execute_result"
    }
   ],
   "source": [
    "# source: https://cds.climate.copernicus.eu/cdsapp#!/dataset/reanalysis-era5-pressure-levels-monthly-means?tab=form\n",
    "# date: 2022-02-28\n",
    "\n",
    "\n",
    "import cdsapi\n",
    "c = cdsapi.Client()\n",
    "\n",
    "c.retrieve(\n",
    "    'reanalysis-era5-pressure-levels-monthly-means',\n",
    "    {\n",
    "        'format': 'netcdf',\n",
    "        'product_type': 'monthly_averaged_reanalysis',\n",
    "        'pressure_level': [\n",
    "            # '1', '5', '10',\n",
    "            # '20', '30', '50',\n",
    "            # '70', '100', '150',\n",
    "            # '200', '250', '300', '400',\n",
    "            '500',\n",
    "            # '600', '700',\n",
    "            '850',\n",
    "            # '925',\n",
    "            '1000',\n",
    "        ],\n",
    "        'variable': [\n",
    "            'u_component_of_wind', 'v_component_of_wind',\n",
    "        ],\n",
    "        'year': [\n",
    "            '1979', '1980', '1981',\n",
    "            '1982', '1983', '1984',\n",
    "            '1985', '1986', '1987',\n",
    "            '1988', '1989', '1990',\n",
    "            '1991', '1992', '1993',\n",
    "            '1994', '1995', '1996',\n",
    "            '1997', '1998', '1999',\n",
    "            '2000', '2001', '2002',\n",
    "            '2003', '2004', '2005',\n",
    "            '2006', '2007', '2008',\n",
    "            '2009', '2010', '2011',\n",
    "            '2012', '2013', '2014',\n",
    "        ],\n",
    "        'month': [\n",
    "            '01', '02', '03',\n",
    "            '04', '05', '06',\n",
    "            '07', '08', '09',\n",
    "            '10', '11', '12',\n",
    "        ],\n",
    "        'time': '00:00',\n",
    "    },\n",
    "    '/home/users/qino/bas_palaeoclim_qino/scratch/cmip6/hist/wind_plev/ua_va_ERA5_mon_pl1_197901_201412.nc')\n"
   ]
  },
  {
   "cell_type": "markdown",
   "metadata": {},
   "source": [
    "#### Processing"
   ]
  },
  {
   "cell_type": "markdown",
   "metadata": {},
   "source": [
    "cdo -P 4 -remapcon2,global_1 /home/users/qino/bas_palaeoclim_qino/scratch/cmip6/hist/wind_plev/ua_va_ERA5_mon_pl1_197901_201412.nc /home/users/qino/bas_palaeoclim_qino/scratch/cmip6/hist/wind_plev/ua_va_ERA5_mon_pl1_197901_201412_rg1.nc\n",
    "\n",
    "/home/users/qino/a_basic_analysis/d_model_simulations/1_awi_esm/1.1_post_processing/calc_msa_statistics.sh /home/users/qino/bas_palaeoclim_qino/scratch/cmip6/hist/wind_plev/ua_va_ERA5_mon_pl1_197901_201412_rg1 3 431\n"
   ]
  },
  {
   "cell_type": "markdown",
   "metadata": {},
   "source": [
    "# Evaporation"
   ]
  },
  {
   "cell_type": "markdown",
   "metadata": {},
   "source": [
    "## Models"
   ]
  },
  {
   "cell_type": "markdown",
   "metadata": {},
   "source": [
    "## Reanalysis"
   ]
  },
  {
   "cell_type": "markdown",
   "metadata": {},
   "source": [
    "### ERA5"
   ]
  },
  {
   "cell_type": "markdown",
   "metadata": {},
   "source": [
    "#### Download"
   ]
  },
  {
   "cell_type": "code",
   "execution_count": null,
   "metadata": {},
   "outputs": [],
   "source": [
    "# source: https://cds.climate.copernicus.eu/cdsapp#!/dataset/reanalysis-era5-single-levels-monthly-means?tab=overview\n",
    "# date: 2022-02-24\n",
    "\n",
    "import cdsapi\n",
    "c = cdsapi.Client()\n",
    "\n",
    "c.retrieve(\n",
    "    'reanalysis-era5-single-levels-monthly-means',\n",
    "    {\n",
    "        'product_type': 'monthly_averaged_reanalysis',\n",
    "        'variable': 'evaporation',\n",
    "        'year': [\n",
    "            '1979', '1980', '1981',\n",
    "            '1982', '1983', '1984',\n",
    "            '1985', '1986', '1987',\n",
    "            '1988', '1989', '1990',\n",
    "            '1991', '1992', '1993',\n",
    "            '1994', '1995', '1996',\n",
    "            '1997', '1998', '1999',\n",
    "            '2000', '2001', '2002',\n",
    "            '2003', '2004', '2005',\n",
    "            '2006', '2007', '2008',\n",
    "            '2009', '2010', '2011',\n",
    "            '2012', '2013', '2014',\n",
    "        ],\n",
    "        'month': [\n",
    "            '01', '02', '03',\n",
    "            '04', '05', '06',\n",
    "            '07', '08', '09',\n",
    "            '10', '11', '12',\n",
    "        ],\n",
    "        'time': '00:00',\n",
    "        'format': 'netcdf',\n",
    "    },\n",
    "    '/home/users/qino/bas_palaeoclim_qino/scratch/cmip6/hist/evp/evp_ERA5_mon_sl_197901_201412.nc')\n"
   ]
  },
  {
   "cell_type": "markdown",
   "metadata": {},
   "source": [
    "# Mean sea level pressure"
   ]
  },
  {
   "cell_type": "markdown",
   "metadata": {},
   "source": [
    "### ERA5"
   ]
  },
  {
   "cell_type": "code",
   "execution_count": null,
   "metadata": {},
   "outputs": [],
   "source": [
    "# source: https://cds.climate.copernicus.eu/cdsapp#!/dataset/reanalysis-era5-single-levels-monthly-means?tab=overview\n",
    "# date: 2022-02-28\n",
    "\n",
    "import cdsapi\n",
    "c = cdsapi.Client()\n",
    "\n",
    "c.retrieve(\n",
    "    'reanalysis-era5-single-levels-monthly-means',\n",
    "    {\n",
    "        'product_type': 'monthly_averaged_reanalysis',\n",
    "        'variable': 'mean_sea_level_pressure',\n",
    "        'year': [\n",
    "            '1979', '1980', '1981',\n",
    "            '1982', '1983', '1984',\n",
    "            '1985', '1986', '1987',\n",
    "            '1988', '1989', '1990',\n",
    "            '1991', '1992', '1993',\n",
    "            '1994', '1995', '1996',\n",
    "            '1997', '1998', '1999',\n",
    "            '2000', '2001', '2002',\n",
    "            '2003', '2004', '2005',\n",
    "            '2006', '2007', '2008',\n",
    "            '2009', '2010', '2011',\n",
    "            '2012', '2013', '2014',\n",
    "        ],\n",
    "        'month': [\n",
    "            '01', '02', '03',\n",
    "            '04', '05', '06',\n",
    "            '07', '08', '09',\n",
    "            '10', '11', '12',\n",
    "        ],\n",
    "        'time': '00:00',\n",
    "        'format': 'netcdf',\n",
    "    },\n",
    "    '/home/users/qino/bas_palaeoclim_qino/scratch/cmip6/hist/psl/psl_ERA5_mon_sl_197901_201412.nc')\n"
   ]
  },
  {
   "cell_type": "markdown",
   "metadata": {},
   "source": []
  }
 ],
 "metadata": {
  "interpreter": {
   "hash": "f35bf2546cfc6b99b8ff9cce2c4b25eafbea6e6cb9977034c26c95f4b13ced3a"
  },
  "kernelspec": {
   "display_name": "Python 3.9.7 ('deepice': conda)",
   "language": "python",
   "name": "python3"
  },
  "language_info": {
   "codemirror_mode": {
    "name": "ipython",
    "version": 3
   },
   "file_extension": ".py",
   "mimetype": "text/x-python",
   "name": "python",
   "nbconvert_exporter": "python",
   "pygments_lexer": "ipython3",
   "version": "3.9.7"
  },
  "orig_nbformat": 4
 },
 "nbformat": 4,
 "nbformat_minor": 2
}
