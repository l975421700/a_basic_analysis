{
 "cells": [
  {
   "cell_type": "markdown",
   "metadata": {},
   "source": [
    "# Regrid Fesom output"
   ]
  },
  {
   "cell_type": "code",
   "execution_count": null,
   "metadata": {},
   "outputs": [],
   "source": [
    "! cdo -P 4 -remapcon,T63grid -setgrid,/work/ollie/qigao001/startdump/fesom2/mesh/mesh_CORE2_finaltopo_mean/sl.grid.CDO /work/ollie/qigao001/startdump/restart/restart_ssp585/ssp5_104_for_Qinggang/a_ice.fesom.2090_2098_mm.nc /work/ollie/qigao001/startdump/restart/restart_ssp585/ssp5_104_for_Qinggang/a_ice.fesom.2090_2098_mm_t63.nc\n"
   ]
  },
  {
   "cell_type": "markdown",
   "metadata": {},
   "source": [
    "# check how much memory is consumed"
   ]
  },
  {
   "cell_type": "code",
   "execution_count": null,
   "metadata": {},
   "outputs": [],
   "source": [
    "import os, psutil\n",
    "process = psutil.Process(os.getpid())\n",
    "print(process.memory_info().rss / 2**30)\n"
   ]
  },
  {
   "cell_type": "markdown",
   "metadata": {},
   "source": [
    "# colormap"
   ]
  },
  {
   "cell_type": "code",
   "execution_count": 3,
   "metadata": {},
   "outputs": [],
   "source": [
    "import proplot as pplt\n",
    "import numpy as np\n",
    "pltlevel = np.arange(0, 10 + 1e-4, 1)\n",
    "pltcmp = pplt.Colormap('DryWet', samples=len(pltlevel)-1)"
   ]
  },
  {
   "cell_type": "markdown",
   "metadata": {},
   "source": []
  }
 ],
 "metadata": {
  "kernelspec": {
   "display_name": "Python 3.10.6",
   "language": "python",
   "name": "python3"
  },
  "language_info": {
   "codemirror_mode": {
    "name": "ipython",
    "version": 3
   },
   "file_extension": ".py",
   "mimetype": "text/x-python",
   "name": "python",
   "nbconvert_exporter": "python",
   "pygments_lexer": "ipython3",
   "version": "3.10.6"
  },
  "orig_nbformat": 4,
  "vscode": {
   "interpreter": {
    "hash": "663f554d6f669f091b64553f899423d66d4df22cbae86170855a33ca296d9ed8"
   }
  }
 },
 "nbformat": 4,
 "nbformat_minor": 2
}
