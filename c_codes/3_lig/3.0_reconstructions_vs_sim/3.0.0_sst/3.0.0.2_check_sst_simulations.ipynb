{
 "cells": [
  {
   "cell_type": "markdown",
   "metadata": {},
   "source": [
    "# Import packages"
   ]
  },
  {
   "cell_type": "code",
   "execution_count": 1,
   "metadata": {},
   "outputs": [],
   "source": [
    "# -----------------------------------------------------------------------------\n",
    "# region import packages\n",
    "\n",
    "# management\n",
    "import glob\n",
    "import pickle\n",
    "import warnings\n",
    "warnings.filterwarnings('ignore')\n",
    "import os\n",
    "import sys  # print(sys.path)\n",
    "sys.path.append('/work/ollie/qigao001')\n",
    "os.chdir('/home/users/qino')\n",
    "\n",
    "# data analysis\n",
    "import numpy as np\n",
    "import xarray as xr\n",
    "import dask\n",
    "dask.config.set({\"array.slicing.split_large_chunks\": True})\n",
    "# from dask.diagnostics import ProgressBar\n",
    "# pbar = ProgressBar()\n",
    "# pbar.register()\n",
    "from scipy import stats\n",
    "import xesmf as xe\n",
    "import pandas as pd\n",
    "from metpy.interpolate import cross_section\n",
    "from statsmodels.stats import multitest\n",
    "import pycircstat as circ\n",
    "from scipy.stats import circstd\n",
    "import cmip6_preprocessing.preprocessing as cpp\n",
    "\n",
    "# plot\n",
    "import matplotlib as mpl\n",
    "import matplotlib.pyplot as plt\n",
    "from matplotlib.colors import BoundaryNorm, ListedColormap\n",
    "from matplotlib import cm\n",
    "import cartopy.crs as ccrs\n",
    "plt.rcParams['pcolor.shading'] = 'auto'\n",
    "mpl.rcParams['figure.dpi'] = 600\n",
    "mpl.rc('font', family='Times New Roman', size=10)\n",
    "mpl.rcParams['axes.linewidth'] = 0.2\n",
    "plt.rcParams.update({\"mathtext.fontset\": \"stix\"})\n",
    "import matplotlib.animation as animation\n",
    "import seaborn as sns\n",
    "from matplotlib.ticker import AutoMinorLocator\n",
    "\n",
    "# self defined\n",
    "from a_basic_analysis.b_module.mapplot import (\n",
    "    globe_plot,\n",
    "    hemisphere_plot,\n",
    "    quick_var_plot,\n",
    "    mesh2plot,\n",
    "    framework_plot1,\n",
    "    remove_trailing_zero,\n",
    "    remove_trailing_zero_pos,\n",
    ")\n",
    "\n",
    "from a_basic_analysis.b_module.basic_calculations import (\n",
    "    mon_sea_ann,\n",
    "    find_ilat_ilon,\n",
    "    regrid,\n",
    "    time_weighted_mean,\n",
    ")\n",
    "\n",
    "from a_basic_analysis.b_module.namelist import (\n",
    "    month,\n",
    "    month_num,\n",
    "    month_dec,\n",
    "    month_dec_num,\n",
    "    seasons,\n",
    "    seasons_last_num,\n",
    "    hours,\n",
    "    months,\n",
    "    month_days,\n",
    "    zerok,\n",
    "    panel_labels,\n",
    "    seconds_per_d,\n",
    ")\n",
    "\n",
    "from a_basic_analysis.b_module.source_properties import (\n",
    "    source_properties,\n",
    "    calc_lon_diff,\n",
    ")\n",
    "\n",
    "from a_basic_analysis.b_module.statistics import (\n",
    "    fdr_control_bh,\n",
    "    check_normality_3d,\n",
    "    check_equal_variance_3d,\n",
    "    ttest_fdr_control,\n",
    ")\n",
    "\n",
    "from a_basic_analysis.b_module.component_plot import (\n",
    "    cplot_ice_cores,\n",
    "    plt_mesh_pars,\n",
    ")\n",
    "\n",
    "# endregion\n",
    "# -----------------------------------------------------------------------------\n"
   ]
  },
  {
   "cell_type": "markdown",
   "metadata": {},
   "source": [
    "# import data"
   ]
  },
  {
   "cell_type": "code",
   "execution_count": 2,
   "metadata": {},
   "outputs": [],
   "source": [
    "with open('scratch/cmip6/lig/sst/lig_pi_sst_regrid_alltime.pkl', 'rb') as f:\n",
    "    lig_pi_sst_regrid_alltime = pickle.load(f)\n",
    "\n",
    "with open('scratch/cmip6/lig/sst/sst_regrid_alltime_ens_stats.pkl', 'rb') as f:\n",
    "    sst_regrid_alltime_ens_stats = pickle.load(f)\n",
    "\n",
    "cdo_area1deg = xr.open_dataset('scratch/others/one_degree_grids_cdo_area.nc')\n",
    "lat = lig_pi_sst_regrid_alltime['ACCESS-ESM1-5']['am'].lat.values\n",
    "mask_so = (lat < -40)"
   ]
  },
  {
   "cell_type": "markdown",
   "metadata": {},
   "source": [
    "# Model ensemble conditions"
   ]
  },
  {
   "cell_type": "markdown",
   "metadata": {},
   "source": [
    "## SO annual SST"
   ]
  },
  {
   "cell_type": "code",
   "execution_count": 23,
   "metadata": {},
   "outputs": [
    {
     "name": "stdout",
     "output_type": "stream",
     "text": [
      "0.1 ± 0.3\n"
     ]
    }
   ],
   "source": [
    "mean_value = np.ma.average(\n",
    "    np.ma.MaskedArray(\n",
    "        sst_regrid_alltime_ens_stats['lig_pi']['am']['mean'][0].values[mask_so],\n",
    "        mask = np.isnan(sst_regrid_alltime_ens_stats['lig_pi']['am']['mean'][0].values[mask_so])),\n",
    "    weights=cdo_area1deg.cell_area.values[mask_so])\n",
    "\n",
    "std_values = np.ma.std(\n",
    "    np.ma.MaskedArray(\n",
    "        sst_regrid_alltime_ens_stats['lig_pi']['am']['mean'][0].values[mask_so],\n",
    "        mask = np.isnan(sst_regrid_alltime_ens_stats['lig_pi']['am']['mean'][0].values[mask_so])),\n",
    ")\n",
    "\n",
    "print(str(np.round(mean_value, 1)) + ' ± ' + str(np.round(std_values, 1)))"
   ]
  },
  {
   "cell_type": "markdown",
   "metadata": {},
   "source": [
    "## SO summer SST"
   ]
  },
  {
   "cell_type": "code",
   "execution_count": 29,
   "metadata": {},
   "outputs": [
    {
     "name": "stdout",
     "output_type": "stream",
     "text": [
      "-0.1 ± 0.4\n"
     ]
    }
   ],
   "source": [
    "mean_value = np.ma.average(\n",
    "    np.ma.MaskedArray(\n",
    "        sst_regrid_alltime_ens_stats['lig_pi']['sm']['mean'][0].values[mask_so],\n",
    "        mask = np.isnan(sst_regrid_alltime_ens_stats['lig_pi']['sm']['mean'][0].values[mask_so])),\n",
    "    weights=cdo_area1deg.cell_area.values[mask_so])\n",
    "\n",
    "std_values = np.ma.std(\n",
    "    np.ma.MaskedArray(\n",
    "        sst_regrid_alltime_ens_stats['lig_pi']['sm']['mean'][0].values[mask_so],\n",
    "        mask = np.isnan(sst_regrid_alltime_ens_stats['lig_pi']['sm']['mean'][0].values[mask_so])),\n",
    ")\n",
    "\n",
    "print(str(np.round(mean_value, 1)) + ' ± ' + str(np.round(std_values, 1)))"
   ]
  },
  {
   "cell_type": "markdown",
   "metadata": {},
   "source": [
    "## SO Sep SIC"
   ]
  },
  {
   "cell_type": "code",
   "execution_count": null,
   "metadata": {},
   "outputs": [],
   "source": [
    "with open('scratch/cmip6/lig/sic/sic_regrid_alltime_ens_stats.pkl', 'rb') as f:\n",
    "    sic_regrid_alltime_ens_stats = pickle.load(f)"
   ]
  },
  {
   "cell_type": "code",
   "execution_count": 36,
   "metadata": {},
   "outputs": [
    {
     "name": "stdout",
     "output_type": "stream",
     "text": [
      "-2.5 ± 5.0\n"
     ]
    }
   ],
   "source": [
    "mean_value = np.ma.average(\n",
    "    np.ma.MaskedArray(\n",
    "        sic_regrid_alltime_ens_stats['lig_pi']['mm']['mean'][8].values[mask_so],\n",
    "        mask = np.isnan(sic_regrid_alltime_ens_stats['lig_pi']['mm']['mean'][8].values[mask_so])),\n",
    "    weights=cdo_area1deg.cell_area.values[mask_so])\n",
    "\n",
    "std_values = np.ma.std(\n",
    "    np.ma.MaskedArray(\n",
    "        sic_regrid_alltime_ens_stats['lig_pi']['mm']['mean'][8].values[mask_so],\n",
    "        mask = np.isnan(sic_regrid_alltime_ens_stats['lig_pi']['mm']['mean'][8].values[mask_so])),\n",
    ")\n",
    "\n",
    "print(str(np.round(mean_value, 1)) + ' ± ' + str(np.round(std_values, 1)))"
   ]
  },
  {
   "cell_type": "markdown",
   "metadata": {},
   "source": [
    "## AIS annual SAT"
   ]
  },
  {
   "cell_type": "code",
   "execution_count": 4,
   "metadata": {},
   "outputs": [],
   "source": [
    "with open('scratch/others/land_sea_masks/cdo_1deg_ais_mask.pkl', 'rb') as f:\n",
    "    cdo_1deg_ais_mask = pickle.load(f)\n",
    "\n",
    "with open('scratch/cmip6/lig/tas/tas_regrid_alltime_ens_stats.pkl', 'rb') as f:\n",
    "    tas_regrid_alltime_ens_stats = pickle.load(f)"
   ]
  },
  {
   "cell_type": "code",
   "execution_count": 14,
   "metadata": {},
   "outputs": [
    {
     "name": "stdout",
     "output_type": "stream",
     "text": [
      "0.5 ± 0.1\n"
     ]
    }
   ],
   "source": [
    "data = tas_regrid_alltime_ens_stats['lig_pi']['am']['mean'][0].values\n",
    "mask_ais = cdo_1deg_ais_mask['mask']['AIS']\n",
    "\n",
    "mean_value = np.ma.average(\n",
    "    np.ma.MaskedArray(\n",
    "        data[mask_ais],\n",
    "        mask = np.isnan(data[mask_ais])),\n",
    "    weights=cdo_area1deg.cell_area.values[mask_ais])\n",
    "\n",
    "std_values = np.ma.std(\n",
    "    np.ma.MaskedArray(\n",
    "        data[mask_ais],\n",
    "        mask = np.isnan(data[mask_ais])),\n",
    ")\n",
    "\n",
    "print(str(np.round(mean_value, 1)) + ' ± ' + str(np.round(std_values, 1)))"
   ]
  }
 ],
 "metadata": {
  "kernelspec": {
   "display_name": "Python 3.10.6 (conda)",
   "language": "python",
   "name": "python3"
  },
  "language_info": {
   "codemirror_mode": {
    "name": "ipython",
    "version": 3
   },
   "file_extension": ".py",
   "mimetype": "text/x-python",
   "name": "python",
   "nbconvert_exporter": "python",
   "pygments_lexer": "ipython3",
   "version": "3.10.6"
  },
  "orig_nbformat": 4,
  "vscode": {
   "interpreter": {
    "hash": "f35bf2546cfc6b99b8ff9cce2c4b25eafbea6e6cb9977034c26c95f4b13ced3a"
   }
  }
 },
 "nbformat": 4,
 "nbformat_minor": 2
}
