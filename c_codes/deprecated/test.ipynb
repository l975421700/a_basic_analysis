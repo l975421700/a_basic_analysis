{
 "cells": [
  {
   "cell_type": "code",
   "execution_count": 3,
   "metadata": {},
   "outputs": [],
   "source": [
    "\n",
    "# -----------------------------------------------------------------------------\n",
    "# region import packages\n",
    "\n",
    "# management\n",
    "import glob\n",
    "import pickle\n",
    "import warnings\n",
    "warnings.filterwarnings('ignore')\n",
    "import os\n",
    "import sys  # print(sys.path)\n",
    "sys.path.append('/work/ollie/qigao001')\n",
    "sys.path.append('/home/users/qino')\n",
    "os.chdir('/home/users/qino')\n",
    "# data analysis\n",
    "import numpy as np\n",
    "import xarray as xr\n",
    "import dask\n",
    "dask.config.set({\"array.slicing.split_large_chunks\": True})\n",
    "# from dask.diagnostics import ProgressBar\n",
    "# pbar = ProgressBar()\n",
    "# pbar.register()\n",
    "from scipy import stats\n",
    "import xesmf as xe\n",
    "import pandas as pd\n",
    "from metpy.interpolate import cross_section\n",
    "from statsmodels.stats import multitest\n",
    "import pycircstat as circ\n",
    "from scipy.stats import circstd\n",
    "import cmip6_preprocessing.preprocessing as cpp\n",
    "\n",
    "# plot\n",
    "import matplotlib as mpl\n",
    "import matplotlib.pyplot as plt\n",
    "from matplotlib.colors import BoundaryNorm, ListedColormap\n",
    "from matplotlib import cm\n",
    "import cartopy.crs as ccrs\n",
    "plt.rcParams['pcolor.shading'] = 'auto'\n",
    "mpl.rcParams['figure.dpi'] = 600\n",
    "mpl.rc('font', family='Times New Roman', size=10)\n",
    "mpl.rcParams['axes.linewidth'] = 0.2\n",
    "plt.rcParams.update({\"mathtext.fontset\": \"stix\"})\n",
    "import matplotlib.animation as animation\n",
    "import seaborn as sns\n",
    "from matplotlib.ticker import AutoMinorLocator\n",
    "import cartopy.feature as cfeature\n",
    "\n",
    "# self defined\n",
    "from a_basic_analysis.b_module.mapplot import (\n",
    "    globe_plot,\n",
    "    hemisphere_plot,\n",
    "    quick_var_plot,\n",
    "    mesh2plot,\n",
    "    framework_plot1,\n",
    "    remove_trailing_zero,\n",
    "    remove_trailing_zero_pos,\n",
    ")\n",
    "\n",
    "from a_basic_analysis.b_module.basic_calculations import (\n",
    "    mon_sea_ann,\n",
    "    regrid,\n",
    "    find_ilat_ilon,\n",
    ")\n",
    "\n",
    "from a_basic_analysis.b_module.namelist import (\n",
    "    month,\n",
    "    month_num,\n",
    "    month_dec,\n",
    "    month_dec_num,\n",
    "    seasons,\n",
    "    seasons_last_num,\n",
    "    hours,\n",
    "    months,\n",
    "    month_days,\n",
    "    zerok,\n",
    "    panel_labels,\n",
    "    seconds_per_d,\n",
    ")\n",
    "\n",
    "from a_basic_analysis.b_module.source_properties import (\n",
    "    source_properties,\n",
    "    calc_lon_diff,\n",
    ")\n",
    "\n",
    "from a_basic_analysis.b_module.statistics import (\n",
    "    fdr_control_bh,\n",
    "    check_normality_3d,\n",
    "    check_equal_variance_3d,\n",
    "    ttest_fdr_control,\n",
    ")\n",
    "\n",
    "from a_basic_analysis.b_module.component_plot import (\n",
    "    cplot_ice_cores,\n",
    "    plt_mesh_pars,\n",
    ")\n",
    "\n",
    "# endregion\n",
    "# -----------------------------------------------------------------------------\n",
    "\n"
   ]
  },
  {
   "cell_type": "code",
   "execution_count": 4,
   "metadata": {},
   "outputs": [],
   "source": [
    "\n",
    "#-------- import EC reconstruction\n",
    "ec_sst_rec = {}\n",
    "# 47 cores\n",
    "ec_sst_rec['original'] = pd.read_excel(\n",
    "    'data_sources/LIG/mmc1.xlsx',\n",
    "    sheet_name='Capron et al. 2017', header=0, skiprows=12, nrows=47,\n",
    "    # usecols=['Station', 'Latitude', 'Longitude', 'Area', 'Type',\n",
    "    #          '127 ka Median PIAn [°C]', '127 ka 2s PIAn [°C]'],\n",
    "    )\n",
    "\n",
    "# 2 cores\n",
    "ec_sst_rec['SO_ann'] = ec_sst_rec['original'].loc[\n",
    "    (ec_sst_rec['original']['Area']=='Southern Ocean') & \\\n",
    "        (ec_sst_rec['original']['Type']=='Annual SST'),]\n",
    "# 15 cores\n",
    "ec_sst_rec['SO_djf'] = ec_sst_rec['original'].loc[\n",
    "    (ec_sst_rec['original']['Area']=='Southern Ocean') & \\\n",
    "        (ec_sst_rec['original']['Type']=='Summer SST'),]\n",
    "# 4 cores\n",
    "ec_sst_rec['AIS_am'] = ec_sst_rec['original'].loc[\n",
    "    ec_sst_rec['original']['Area']=='Antarctica',]\n",
    "\n",
    "\n",
    "#-------- import dc reconstructions\n",
    "# 30 cores\n",
    "dc_sst_rec = {}\n",
    "dc_sst_rec['original'] = pd.read_csv(\n",
    "    'data_sources/LIG/Chandler-Langebroek_2021_SST-anom.tab',\n",
    "    sep='\\t', header=0, skiprows=76,\n",
    "    )\n",
    "dc_sst_rec['summary'] = pd.read_csv(\n",
    "    'data_sources/LIG/Chandler-Langebroek_2021_SST-anom-stats.tab',\n",
    "    sep='\\t', header=0, skiprows=25,\n",
    "    )\n",
    "# 25 cores\n",
    "dc_sst_rec['ann'] = dc_sst_rec['original'].loc[\n",
    "    (dc_sst_rec['original']['Season (A annual, S summer (months JFM))'] == 'A')\n",
    "]\n",
    "# 26 cores\n",
    "dc_sst_rec['sum'] = dc_sst_rec['original'].loc[\n",
    "    (dc_sst_rec['original']['Season (A annual, S summer (months JFM))'] == 'S')\n",
    "]\n",
    "\n",
    "dc_sst_rec['ann_124'] = dc_sst_rec['ann'].loc[dc_sst_rec['ann']['Age [ka BP] (Chronology follows Lisiecki a...)'] == 124]\n",
    "dc_sst_rec['ann_126'] = dc_sst_rec['ann'].loc[dc_sst_rec['ann']['Age [ka BP] (Chronology follows Lisiecki a...)'] == 126]\n",
    "dc_sst_rec['ann_128'] = dc_sst_rec['ann'].loc[dc_sst_rec['ann']['Age [ka BP] (Chronology follows Lisiecki a...)'] == 128]\n",
    "dc_sst_rec['ann_130'] = dc_sst_rec['ann'].loc[dc_sst_rec['ann']['Age [ka BP] (Chronology follows Lisiecki a...)'] == 130]\n",
    "\n",
    "dc_sst_rec['sum_124'] = dc_sst_rec['sum'].loc[dc_sst_rec['sum']['Age [ka BP] (Chronology follows Lisiecki a...)'] == 124]\n",
    "dc_sst_rec['sum_126'] = dc_sst_rec['sum'].loc[dc_sst_rec['sum']['Age [ka BP] (Chronology follows Lisiecki a...)'] == 126]\n",
    "dc_sst_rec['sum_128'] = dc_sst_rec['sum'].loc[dc_sst_rec['sum']['Age [ka BP] (Chronology follows Lisiecki a...)'] == 128]\n",
    "dc_sst_rec['sum_130'] = dc_sst_rec['sum'].loc[dc_sst_rec['sum']['Age [ka BP] (Chronology follows Lisiecki a...)'] == 130]\n",
    "\n",
    "\n"
   ]
  },
  {
   "cell_type": "code",
   "execution_count": 29,
   "metadata": {},
   "outputs": [
    {
     "data": {
      "text/html": [
       "<div>\n",
       "<style scoped>\n",
       "    .dataframe tbody tr th:only-of-type {\n",
       "        vertical-align: middle;\n",
       "    }\n",
       "\n",
       "    .dataframe tbody tr th {\n",
       "        vertical-align: top;\n",
       "    }\n",
       "\n",
       "    .dataframe thead th {\n",
       "        text-align: right;\n",
       "    }\n",
       "</style>\n",
       "<table border=\"1\" class=\"dataframe\">\n",
       "  <thead>\n",
       "    <tr style=\"text-align: right;\">\n",
       "      <th></th>\n",
       "      <th>Age [ka BP]</th>\n",
       "      <th>NOBS [#] (Number of records, annual SST)</th>\n",
       "      <th>SST anomaly [°C] (Mean annual SST anomaly, rela...)</th>\n",
       "      <th>SST anomaly std dev [±] (Annual SST anomaly)</th>\n",
       "      <th>CI (95% CI, annual SST anomaly, degC)</th>\n",
       "      <th>NOBS [#] (Number of records, summer (JF...)</th>\n",
       "      <th>SST anomaly [°C] (Mean summer (JFM) SST anomaly...)</th>\n",
       "      <th>SST anomaly std dev [±] (Summer (JFM) SST anomaly)</th>\n",
       "      <th>CI (95% CI, summer (JFM) SST anom...)</th>\n",
       "    </tr>\n",
       "  </thead>\n",
       "  <tbody>\n",
       "    <tr>\n",
       "      <th>62</th>\n",
       "      <td>124</td>\n",
       "      <td>15</td>\n",
       "      <td>0.851939</td>\n",
       "      <td>1.8619</td>\n",
       "      <td>1.031086</td>\n",
       "      <td>16</td>\n",
       "      <td>1.300225</td>\n",
       "      <td>1.985543</td>\n",
       "      <td>1.058021</td>\n",
       "    </tr>\n",
       "  </tbody>\n",
       "</table>\n",
       "</div>"
      ],
      "text/plain": [
       "    Age [ka BP]  NOBS [#] (Number of records, annual SST)  \\\n",
       "62          124                                        15   \n",
       "\n",
       "    SST anomaly [°C] (Mean annual SST anomaly, rela...)  \\\n",
       "62                                           0.851939     \n",
       "\n",
       "    SST anomaly std dev [±] (Annual SST anomaly)  \\\n",
       "62                                        1.8619   \n",
       "\n",
       "    CI (95% CI, annual SST anomaly, degC)  \\\n",
       "62                               1.031086   \n",
       "\n",
       "    NOBS [#] (Number of records, summer (JF...)  \\\n",
       "62                                           16   \n",
       "\n",
       "    SST anomaly [°C] (Mean summer (JFM) SST anomaly...)  \\\n",
       "62                                           1.300225     \n",
       "\n",
       "    SST anomaly std dev [±] (Summer (JFM) SST anomaly)  \\\n",
       "62                                           1.985543    \n",
       "\n",
       "    CI (95% CI, summer (JFM) SST anom...)  \n",
       "62                               1.058021  "
      ]
     },
     "execution_count": 29,
     "metadata": {},
     "output_type": "execute_result"
    }
   ],
   "source": [
    "dc_sst_rec['summary'].loc[dc_sst_rec['summary']['Age [ka BP]'] == 124]"
   ]
  },
  {
   "cell_type": "code",
   "execution_count": 30,
   "metadata": {},
   "outputs": [
    {
     "data": {
      "text/plain": [
       "16"
      ]
     },
     "execution_count": 30,
     "metadata": {},
     "output_type": "execute_result"
    }
   ],
   "source": [
    "dc_sst_rec['ann_124']['SST anomaly [°C] (Anomaly relative to the World...)'].count()"
   ]
  },
  {
   "cell_type": "code",
   "execution_count": 31,
   "metadata": {},
   "outputs": [
    {
     "data": {
      "text/plain": [
       "0.8315865312500001"
      ]
     },
     "execution_count": 31,
     "metadata": {},
     "output_type": "execute_result"
    }
   ],
   "source": [
    "np.nanmean(dc_sst_rec['ann_124']['SST anomaly [°C] (Anomaly relative to the World...)'])"
   ]
  },
  {
   "cell_type": "code",
   "execution_count": 32,
   "metadata": {},
   "outputs": [
    {
     "data": {
      "text/plain": [
       "17"
      ]
     },
     "execution_count": 32,
     "metadata": {},
     "output_type": "execute_result"
    }
   ],
   "source": [
    "dc_sst_rec['sum_124']['SST anomaly [°C] (Anomaly relative to the World...)'].count()"
   ]
  },
  {
   "cell_type": "code",
   "execution_count": 33,
   "metadata": {},
   "outputs": [
    {
     "data": {
      "text/plain": [
       "1.2017422294117648"
      ]
     },
     "execution_count": 33,
     "metadata": {},
     "output_type": "execute_result"
    }
   ],
   "source": [
    "np.nanmean(dc_sst_rec['sum_124']['SST anomaly [°C] (Anomaly relative to the World...)'])"
   ]
  },
  {
   "cell_type": "code",
   "execution_count": null,
   "metadata": {},
   "outputs": [],
   "source": [
    "\n",
    "\n",
    "\n",
    "\n",
    "\n",
    "\n"
   ]
  }
 ],
 "metadata": {
  "kernelspec": {
   "display_name": "Python 3.10.6 (conda)",
   "language": "python",
   "name": "python3"
  },
  "language_info": {
   "codemirror_mode": {
    "name": "ipython",
    "version": 3
   },
   "file_extension": ".py",
   "mimetype": "text/x-python",
   "name": "python",
   "nbconvert_exporter": "python",
   "pygments_lexer": "ipython3",
   "version": "3.10.6"
  },
  "orig_nbformat": 4,
  "vscode": {
   "interpreter": {
    "hash": "f35bf2546cfc6b99b8ff9cce2c4b25eafbea6e6cb9977034c26c95f4b13ced3a"
   }
  }
 },
 "nbformat": 4,
 "nbformat_minor": 2
}
