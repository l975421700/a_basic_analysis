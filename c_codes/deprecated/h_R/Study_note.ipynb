{
 "cells": [
  {
   "cell_type": "markdown",
   "metadata": {},
   "source": [
    "# Setup"
   ]
  },
  {
   "cell_type": "markdown",
   "metadata": {},
   "source": [
    "## Language server"
   ]
  },
  {
   "cell_type": "markdown",
   "metadata": {},
   "source": [
    "    Language server\n",
    "https://github.com/REditorSupport/languageserver\n",
    "\n",
    "    Language server setup\n",
    "https://github.com/jozefhajnala/languageserversetup"
   ]
  },
  {
   "cell_type": "markdown",
   "metadata": {},
   "source": [
    "## Linting"
   ]
  },
  {
   "cell_type": "markdown",
   "metadata": {},
   "source": [
    "    Lintr\n",
    "https://github.com/r-lib/lintr/tree/1a7114b87c4d672772c74ffc30c932dcdb3ce017\n",
    "\n",
    "https://lintr.r-lib.org/articles/lintr.html#configuring-linters"
   ]
  },
  {
   "cell_type": "markdown",
   "metadata": {},
   "source": [
    "## R environment management"
   ]
  },
  {
   "cell_type": "markdown",
   "metadata": {},
   "source": [
    "https://rstudio.github.io/renv/index.html"
   ]
  },
  {
   "cell_type": "markdown",
   "metadata": {},
   "source": [
    "## R library"
   ]
  },
  {
   "cell_type": "markdown",
   "metadata": {},
   "source": [
    "/home/ollie/qigao001/R/x86_64-conda-linux-gnu-library/4.1\n",
    "\n",
    "/global/AWIsoft/R/4.1.0/lib/R/library\n",
    "\n",
    "/home/ollie/qigao001/languageserver-library"
   ]
  },
  {
   "cell_type": "markdown",
   "metadata": {},
   "source": [
    "## R Session watcher"
   ]
  },
  {
   "cell_type": "markdown",
   "metadata": {},
   "source": [
    "https://github.com/REditorSupport/vscode-R/wiki/R-Session-watcher"
   ]
  },
  {
   "cell_type": "markdown",
   "metadata": {},
   "source": [
    "# Use python in R"
   ]
  },
  {
   "cell_type": "markdown",
   "metadata": {},
   "source": [
    "## reticulate"
   ]
  },
  {
   "cell_type": "markdown",
   "metadata": {},
   "source": [
    "https://github.com/rstudio/reticulate"
   ]
  },
  {
   "cell_type": "markdown",
   "metadata": {},
   "source": [
    "# Install R"
   ]
  },
  {
   "cell_type": "markdown",
   "metadata": {},
   "source": [
    "    1. Download R source files from https://cloud.r-project.org/\n",
    "    2. tar xvf R-3.4.1.tar.gz"
   ]
  },
  {
   "cell_type": "markdown",
   "metadata": {},
   "source": [
    "# Circular statistics"
   ]
  },
  {
   "cell_type": "markdown",
   "metadata": {},
   "source": [
    "https://github.com/circstat/pycircstat/blob/master/pycircstat/tests.py\n",
    "\n",
    "https://gist.github.com/kn1cht/89dc4f877a90ab3de4ddef84ad91124e\n",
    "\n"
   ]
  },
  {
   "cell_type": "markdown",
   "metadata": {},
   "source": [
    "# Use R in python"
   ]
  },
  {
   "cell_type": "markdown",
   "metadata": {},
   "source": [
    "rpy2:   https://github.com/rpy2/rpy2\n",
    "\n",
    "https://rpy2.github.io/doc/v3.5.x/html/introduction.html\n",
    "\n",
    "export LD_LIBRARY_PATH=\"$(python -m rpy2.situation LD_LIBRARY_PATH)\":${LD_LIBRARY_PATH}\n",
    "\n",
    "comment:            # module load R/4.1.0_conda\n",
    "Using R version:    /usr/bin/R\n",
    "\n",
    "\n"
   ]
  }
 ],
 "metadata": {
  "language_info": {
   "name": "python"
  },
  "orig_nbformat": 4
 },
 "nbformat": 4,
 "nbformat_minor": 2
}
