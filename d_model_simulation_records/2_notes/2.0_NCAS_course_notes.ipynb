{
 "cells": [
  {
   "cell_type": "markdown",
   "metadata": {},
   "source": [
    "# NCAS course"
   ]
  },
  {
   "cell_type": "markdown",
   "metadata": {},
   "source": [
    "## Part 2: Running the UM"
   ]
  },
  {
   "cell_type": "markdown",
   "metadata": {},
   "source": [
    "### Rosie command"
   ]
  },
  {
   "cell_type": "code",
   "execution_count": null,
   "metadata": {},
   "outputs": [],
   "source": [
    "# launch the graphical suite repository viewer\n",
    "rosie go\n",
    "\n",
    "# check out suites via command-line tools\n",
    "rosie checkout <suite-id>\n",
    "\n",
    "# copy suites via command-line tools\n",
    "rosie copy <suite-id>\n",
    "\n",
    "# Lists checked out suites on command-line\n",
    "rosie ls"
   ]
  },
  {
   "cell_type": "markdown",
   "metadata": {},
   "source": [
    "### Rose command"
   ]
  },
  {
   "cell_type": "code",
   "execution_count": null,
   "metadata": {},
   "outputs": [],
   "source": [
    "# launch the Rose editor GUI from the command-line:\n",
    "cd <suite-id> file directory in roses\n",
    "rose edit\n",
    "\n",
    "# run from command line\n",
    "rose suite-run --help\n",
    "--new / -N : Delete any files from previous runs.\n",
    "--restart : Restart suite from where it stopped. (Use to update suite with any changes e.g. run length.)\n",
    "--reload : Update suite definition for an already running suite. (You can make changes to a suite whilst it is running by reloading the suite definition.)\n",
    "-v -v --debug : Debug/get more info.\n",
    "--no-gcontrol : Do not launch cylc GUI (progress monitor).\n",
    "--no-log-archive : Don’t tar up (archive) log files from previous runs\n",
    "\n",
    "-- --hold : Hold (pause) suite on startup.\n",
    "-- --mode=simulation : Perform a dummy run (executes all tasks as 'sleep 10').\n",
    "--install-only / -i : Construct app files & copy over to remote hosts but don’t run\n",
    "--local-install-only / -l : Construct app files but don’t copy over to remote host.\n",
    "\n",
    "# To relaunch the GUI run:\n",
    "rose sgc or rose suite-gcontrol\n",
    "\n",
    "# To see what suites you have running:\n",
    "rose suite-scan (command line listing)\n",
    "cylc gscan (graphical view)\n",
    "\n",
    "# To stop a running suite:\n",
    "rose suite-shutdown\n",
    "    (default): stop the suite after current active tasks have finished\n",
    "    -- --now: stop immediately, orphaning current active tasks\n",
    "    -- --kill: stop after killing current active tasks\n",
    "rose suite-stop\n",
    "\n",
    "# To explore without running\n",
    "Install files: rose suite-run -i\n",
    "View run graph: cylc graph <suite-id>\n",
    "\n",
    "# Making sure all the Rose configuration files are in the common format by running rose config-dump on each suite and then running diff\n",
    "rose config-dump -C u-cc654\n",
    "rose config-dump -C <your-suitename>\n",
    "diff -r u-cc654 <your-suitename>\n",
    "\n",
    "# Forcing shutdown\n",
    "ps -flu <user-id>  | grep <suite-id>"
   ]
  },
  {
   "cell_type": "markdown",
   "metadata": {},
   "source": [
    "### notes"
   ]
  },
  {
   "cell_type": "markdown",
   "metadata": {},
   "source": [
    "Logs from older runs will be tarred up (unless deleted with housekeeping or --new run). Cylc-run directory can become large very quickly, so regularly delete.\n",
    "\n",
    "Submission failures and suite timeout messages are reported in:\n",
    "job-activity.log, suite/out, suite/err\n",
    "\n",
    "If you are making model changes, always check things look OK before proceeding, i.e. executable exists, start file exists, output data looks sensible.\n",
    "\n",
    "UM output such as restart and diagnostic files usually goes to:\n",
    "share/data/History_Data/\n",
    "Or it may be written to the task directory for that cycle, e.g.:\n",
    "work/19810901T0000Z/atmos/\n",
    "\n",
    "Build files go to:\n",
    "share/fcm_make/\n",
    "\n",
    "Any changes you make in the Rose editor are saved in your checked out working copy only.\n",
    "\n",
    "optional configuration override files cannot be changed through the GUI so we will need to edit the Rose file directly.\n",
    "\n",
    "Navigate to um –> namelist –> Top Level Model Control –> Run Control and Time Settings.\n",
    "Set ltimer to True. Timer diagnostics outputs timing information and can be very useful in diagnosing performance problems.\n",
    "Check the output from processor 0 in the``fort6.pe000`` file.\n",
    "\n",
    "When you change STASH it is always recommended to run at least the validate macro. The stash_testmask.STASHTstmskValidate macro ensures that the STASH output requsted is valid given the science configuration of the app.\n",
    "\n"
   ]
  },
  {
   "cell_type": "markdown",
   "metadata": {},
   "source": [
    "## Part3: FCM and the UM"
   ]
  },
  {
   "cell_type": "markdown",
   "metadata": {},
   "source": [
    "### FCM command"
   ]
  },
  {
   "cell_type": "markdown",
   "metadata": {},
   "source": [
    "The essential sub-commands are:\n",
    "– checkout\n",
    "– commit\n",
    "– diff\n",
    "– status\n",
    "– branch\n",
    "– merge\n",
    "\n",
    "Help is available for all sub-commands:\n",
    "fcm help <sub-command>\n",
    "\n",
    "To add a branch go to the panel fcm_make –> env –> sources and click the + button next to um_sources to add a new branch URL:\n",
    "e.g.: branches/dev/rosalynhatcher/vn11.8_training_um_shell1"
   ]
  },
  {
   "cell_type": "code",
   "execution_count": null,
   "metadata": {},
   "outputs": [],
   "source": [
    "# Create a ticket\n",
    "https://code.metoffice.gov.uk/trac/um\n",
    "\n",
    "# Create a branch\n",
    "fcm branch-create -k <ticket> <branch_name> fcm:um.x-tr@vn11.8\n",
    "fcm branch-create --help\n",
    "\n",
    "fcm checkout URL\n",
    "fcm add --help\n",
    "fcm delete --help\n",
    "fcm status\n",
    "fcm revert  --help\n",
    "fcm commit --help\n",
    "\n",
    "fcm branch-info"
   ]
  },
  {
   "cell_type": "markdown",
   "metadata": {},
   "source": [
    "Viewing your changes in Trac\n",
    "e.g.: https://code.metoffice.gov.uk/trac/um/browser/main/branches/dev/alisonmclauren/vn11.9_water_tracer_toplevel?order=name under Last Change\n",
    "\n",
    "Documenting your change\n",
    "\n"
   ]
  },
  {
   "cell_type": "markdown",
   "metadata": {},
   "source": [
    "## Part 4: Managing suites"
   ]
  },
  {
   "cell_type": "markdown",
   "metadata": {},
   "source": [
    "Should you wish to see all variables on a panel select View All Ignored Variables and View Latent Variables from the View menu."
   ]
  },
  {
   "cell_type": "markdown",
   "metadata": {},
   "source": [
    "## Part 5: Exploring suites"
   ]
  },
  {
   "cell_type": "markdown",
   "metadata": {},
   "source": [
    "rose-*.conf files follow the Rose modified INI format:\n",
    "http://metomi.github.io/rose/doc/html/api/configuration/index.html\n",
    "\n",
    "suite.rc and site include files follow the cylc extended-INI format with jinja2 templating:\n",
    "https://cylc.github.io/doc/built-sphinx-single/index.html#document-appendices/appendices-master\n",
    "\n",
    "Rose and cylc use the ISO 8601 date format to specify the start date, run length and cycling periods (CRuns). Format:\n",
    "-> Specific date & time: CCYYMMDDThhmmZ, e.g. 20160915T1430Z;\n",
    "-> Time period: PnYnMnDTnHnMnS, e.g. P10Y6M, P3M, P1D, PT6H\n",
    "\n",
    "Be careful about editing suite files with the rose editor GUI open:\n",
    "-> If you run the suite through the GUI or save the suite, any changes made outside the rose editor will be lost.\n",
    "\n"
   ]
  },
  {
   "cell_type": "markdown",
   "metadata": {},
   "source": [
    "## Part 6: UM Data Files and IO"
   ]
  },
  {
   "cell_type": "markdown",
   "metadata": {},
   "source": [
    "STASH\n",
    "Spatial and Temporal Averaging and Storage Handling"
   ]
  },
  {
   "cell_type": "markdown",
   "metadata": {},
   "source": [
    "## Part 7: UM tools and utilities"
   ]
  },
  {
   "cell_type": "code",
   "execution_count": null,
   "metadata": {},
   "outputs": [],
   "source": [
    "# Conversion tools\n",
    "xancil: from netCDF to UM (ancillary)\n",
    "xconv: UM, PP, netCDF, GRIB, Grads to netCDF, Grads\n",
    "cf-python: from UM, PP, netCDF to CF-netCDF\n",
    "Iris: from UM, PP, netCDF, GRIB to CF-netCDF\n",
    "\n",
    "# Central Ancillary Program\n",
    "For creating standard ancillary files can use CAP. Contact the CMS helpdesk for more information.\n",
    "\n",
    "# ANTS (ANcillary Tools and Suites)\n",
    "https://code.metoffice.gov.uk/trac/ancil\n",
    "Convert (Iris) data to ancillary files;\n",
    "Derive standard ancillary fields e.g. land-sea mask, vegetation etc\n",
    "Python tool kit for developing your own applications\n",
    "\n",
    "# The UM file utilities (including mule) are available on ARCHER2 and Monsoon under:\n",
    "– $UMDIR/bin\n",
    "– $UMDIR/vnX.Y/cce/utilities\n",
    "\n",
    "# jaspy\n",
    "https://help.jasmin.ac.uk/article/4729-jaspy-envs-py3-rhel6-rhel7\n",
    "# NCAS-CMS\n",
    "http://cms.ncas.ac.uk\n",
    "# CMS Modelling helpdesk\n",
    "https://cms-helpdesk.ncas.ac.uk/\n",
    "# ARCHER helpdesk:\n",
    "support@archer2.ac.uk\n",
    "# Monsoon helpdesk:\n",
    "monsoon@metoffice.gov.uk\n",
    "# UM documentation on MOSRS\n",
    "https://code.metoffice.gov.uk/doc/um/latest/umdp.html\n",
    "# Monsoon user guide\n",
    "https://code.metoffice.gov.uk/doc/monsoon2/index.html\n",
    "\n",
    "# Finish working through the tutorial exercises:\n",
    "http://cms.ncas.ac.uk/wiki/UmTraining\n",
    "# UM user guide\n",
    "https://code.metoffice.gov.uk/doc/um/latest/umdp.html#000"
   ]
  },
  {
   "cell_type": "code",
   "execution_count": null,
   "metadata": {},
   "outputs": [],
   "source": [
    "# Further Exercises\n",
    "https://ncas-cms.github.io/um-training/further-exercises-2.html"
   ]
  }
 ],
 "metadata": {
  "language_info": {
   "name": "python"
  },
  "orig_nbformat": 4
 },
 "nbformat": 4,
 "nbformat_minor": 2
}
