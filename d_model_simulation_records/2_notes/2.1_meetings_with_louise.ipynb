{
 "cells": [
  {
   "cell_type": "markdown",
   "metadata": {},
   "source": [
    "# 20220127 Meeting with Louise and Rachel"
   ]
  },
  {
   "cell_type": "markdown",
   "metadata": {},
   "source": [
    "https://www.nature.com/articles/s41467-018-05430-y/tables/3\n",
    "\n",
    "https://doi.pangaea.de/10.1594/PANGAEA.893855\n",
    "\n",
    "https://cp.copernicus.org/articles/17/1065/2021/\n",
    "\n",
    "https://cp.copernicus.org/articles/16/1847/2020/cp-16-1847-2020.pdf\n",
    "\n",
    "https://cp.copernicus.org/articles/16/1847/2020/\n",
    "\n",
    "http://www.jerome-chappellaz.com/files/publications/epica-dome-c-record-of-glacial-and-interglacial-intensities-133.pdf\n",
    "\n",
    "https://doi.pangaea.de/10.1594/PANGAEA.683655"
   ]
  },
  {
   "cell_type": "code",
   "execution_count": null,
   "metadata": {},
   "outputs": [],
   "source": []
  }
 ],
 "metadata": {
  "language_info": {
   "name": "python"
  },
  "orig_nbformat": 4
 },
 "nbformat": 4,
 "nbformat_minor": 2
}
