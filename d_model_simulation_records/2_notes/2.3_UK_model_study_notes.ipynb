{
 "cells": [
  {
   "cell_type": "markdown",
   "metadata": {},
   "source": [
    "# UK model study notes"
   ]
  },
  {
   "cell_type": "markdown",
   "metadata": {},
   "source": [
    "## records"
   ]
  },
  {
   "cell_type": "markdown",
   "metadata": {},
   "source": [
    "* u-ck900, copy of u-ar930, HadGEM3-GC3.1 N96ORCA1 PI Control for CMIP6, officially ported for Monsoon2\n",
    "\n",
    "<br>\n",
    "\n",
    "* u-cl202, copy of u-bi805, HadGEM3-GC3.1 N96ORCA1 ssp585 for CMIP6: With redistributed ozone - all stash except COSP\n",
    "\n",
    "    moo mkset -v moose:crum/u-cl202 -p=project-ukesm\n",
    "\n",
    "    http://cms.ncas.ac.uk/ticket/1742\n",
    "\n",
    "<br>\n",
    "\n",
    "* u-cl295, copy of u-bg466, HadGEM3-GC3.1 N96ORCA1 HIST run CMIP6 member #1 : 1875+\n",
    "\n",
    "    moo mkset -v moose:crum/u-cl295 -p=project-ukesm\n",
    "\n",
    "<br>\n",
    "\n",
    "* u-cl317, copy of u-ba937, [Std Suite] HadGEM3-GC3.1 N96ORCA1 LIG127k for CMIP6 - PRODUCTION\n",
    "\n",
    "<br>\n",
    "\n",
    "* u-ck646, copy of u-ar766, HadGEM3-GC3.1 N96ORCA1 PI Control for CMIP6\n",
    "\n",
    "    Usage: Initial attempt to transfer MetO-cray suite to Monsoon\n",
    "\n",
    "    Result: Failed because of unknown problems.\n"
   ]
  },
  {
   "cell_type": "markdown",
   "metadata": {},
   "source": [
    "## Initial Testing"
   ]
  },
  {
   "cell_type": "markdown",
   "metadata": {},
   "source": [
    "General procedures\n",
    "\n",
    "1. Check suite info\n",
    "2. check suite conf\n",
    "3. check initial/boundary conditions, e.g. grep -nr '/data/d01/' .\n",
    "4. check output/dump frequency\n"
   ]
  },
  {
   "cell_type": "markdown",
   "metadata": {},
   "source": [
    "## Unified Model"
   ]
  },
  {
   "cell_type": "markdown",
   "metadata": {},
   "source": [
    "### Useful Website"
   ]
  },
  {
   "cell_type": "markdown",
   "metadata": {},
   "source": [
    "* <a href=\"https://code.metoffice.gov.uk/trac/um\">Welcome to the UM: UM main page</a>\n",
    "\n",
    "* <a href=\"https://code.metoffice.gov.uk/doc/um/latest/umdp.html\" target=\"_blank\">Unified Model Documentation Papers</a>\n",
    "\n",
    "\n",
    "* <a href=\"https://code.metoffice.gov.uk/doc/um/vn12.1/um-training/index.html\" target=\"_blank\">Unified Model within Rose User Guide</a>"
   ]
  },
  {
   "cell_type": "markdown",
   "metadata": {},
   "source": [
    "### Experiement with u-cl340, copy of u-cf691"
   ]
  },
  {
   "cell_type": "markdown",
   "metadata": {},
   "source": [
    "\n",
    "* <a href=\"https://code.metoffice.gov.uk/trac/roses-u/ticket/414\">Ticket of u-cf691</a>\n",
    "* <a href=\"https://code.metoffice.gov.uk/trac/roses-u/browser/c/f/6/9/1/trunk?order=name\">trac code of u-cf691</a>\n",
    "* <a href=\"https://code.metoffice.gov.uk/trac/roses-u/browser?order=name&desc=True\">trac code browser</a>\n"
   ]
  },
  {
   "cell_type": "markdown",
   "metadata": {},
   "source": [
    "### Exercise: Developing using the UM Working Practices - An Example"
   ]
  },
  {
   "cell_type": "markdown",
   "metadata": {},
   "source": [
    "<!-- https://code.metoffice.gov.uk/doc/um/vn12.1/um-training/working-practices-tutorial.html -->\n",
    "<!-- $ fcm branch-create -k (ticket number) (branch name) fcm:um.x_tr@(UM version) -->\n",
    "$ fcm branch-create -k 6616 ticket_test fcm:um.x_tr@vn12.1\n",
    "\n",
    "<!-- $ fcm checkout fcm:um.x_br/dev/(user)/(UM version)_(branch name) -->\n",
    "\n",
    "$ fcm checkout fcm:um.x_br/dev/qingganggao/vn12.1_ticket_test\n",
    "\n"
   ]
  }
 ],
 "metadata": {
  "language_info": {
   "name": "python"
  },
  "orig_nbformat": 4
 },
 "nbformat": 4,
 "nbformat_minor": 2
}
