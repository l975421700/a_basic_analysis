{
 "cells": [
  {
   "cell_type": "markdown",
   "metadata": {},
   "source": [
    "# ESM-Tools"
   ]
  },
  {
   "cell_type": "markdown",
   "metadata": {},
   "source": [
    "## Useful websites"
   ]
  },
  {
   "cell_type": "markdown",
   "metadata": {},
   "source": [
    "* <a href=\"https://esm-tools.readthedocs.io/en/latest/index.html\">ESM Tools’s documentation</a>\n",
    "\n"
   ]
  },
  {
   "cell_type": "markdown",
   "metadata": {},
   "source": [
    "## Useful commands"
   ]
  },
  {
   "cell_type": "markdown",
   "metadata": {},
   "source": [
    "<!-- Install models -->\n",
    "esm_master install-fesom-2.0\n",
    ":q\n",
    "\n",
    "<!-- check the runscripts -->\n",
    "vi fesom2-ollie-initial-monthly.yaml\n",
    "\n",
    "<!-- check missing files -->\n",
    "esm_runscripts fesom2-ollie-initial-monthly.yaml -e my_first_test -c\n",
    "\n",
    "<!-- run models -->\n",
    "esm_runscripts fesom2-ollie-initial-monthly.yaml -e my_first_test\n",
    "\n",
    "\n",
    "base_dir: \"/work/ollie/qigao001/esm_yaml_test/\"\n",
    "\n",
    "***\n",
    "\n",
    "esm_runscripts PI_ctrl_awiesm-2.1-wiso_ollie.yaml -e my_second_test -c"
   ]
  },
  {
   "cell_type": "markdown",
   "metadata": {},
   "source": [
    "# AWI-ESM-2.1-wiso"
   ]
  },
  {
   "cell_type": "markdown",
   "metadata": {},
   "source": [
    "## Useful websites"
   ]
  },
  {
   "cell_type": "markdown",
   "metadata": {},
   "source": [
    "* <a href=\"https://spaces.awi.de/pages/viewpage.action?spaceKey=HELP&title=Ollie+Cray+CS400\">Introduction to Ollie Cray CS400</a>\n",
    "\n",
    "* <a href=\"https://spaces.awi.de/display/HELP/Jupyter+Notebook\">Jupyter Notebook on Ollie</a>\n",
    "\n",
    "* <a href=\"https://gitlab.dkrz.de/FESOM/fesom2\">FESOM2 DKRZ gitlab</a>\n",
    "\n",
    "* <a href=\"https://gitlab.dkrz.de/modular_esm/oasis3-mct\">OASIS3-MCT DKRZ gitlab</a>\n",
    "\n",
    "* <a href=\"https://gitlab.awi.de/paleodyn/Models/echam6\">ECHAM6 AWI gitlab</a>\n",
    "\n",
    "\n",
    "\n",
    "\n"
   ]
  },
  {
   "cell_type": "markdown",
   "metadata": {},
   "source": [
    "# Others"
   ]
  },
  {
   "cell_type": "markdown",
   "metadata": {},
   "source": [
    "## SLURM"
   ]
  },
  {
   "cell_type": "markdown",
   "metadata": {},
   "source": [
    "### Useful websites"
   ]
  },
  {
   "cell_type": "markdown",
   "metadata": {},
   "source": [
    "* <a href=\"https://spaces.awi.de/display/HELP/SLURM\">SLURM</a>"
   ]
  },
  {
   "cell_type": "markdown",
   "metadata": {},
   "source": [
    "### Useful commands"
   ]
  },
  {
   "cell_type": "markdown",
   "metadata": {},
   "source": [
    "* sinfo <shows existing queues>\n",
    "* scontrol show job JobID <shows information about specific job>\n",
    "* sstat JobID <shows resources used by a specific job>\n",
    "* squeue <shows information about queues and used nodes>\n",
    "* smap <curses-graphic of queues and nodes>\n",
    "* sbatch script <submits a batch job>\n",
    "* salloc resources <requests access to compute nodes for interactive use>\n",
    "* scancel JobID <cancels a batch job>\n",
    "* srun ressources executable <starts a (parallel) code>\n",
    "* sshare and sprio <give information on fair share value and job priority>\n",
    "\n"
   ]
  }
 ],
 "metadata": {
  "language_info": {
   "name": "python"
  },
  "orig_nbformat": 4
 },
 "nbformat": 4,
 "nbformat_minor": 2
}
