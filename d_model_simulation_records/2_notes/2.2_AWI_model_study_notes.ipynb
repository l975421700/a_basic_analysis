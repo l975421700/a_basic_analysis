{
 "cells": [
  {
   "cell_type": "markdown",
   "metadata": {},
   "source": [
    "# ESM-Tools"
   ]
  },
  {
   "cell_type": "markdown",
   "metadata": {},
   "source": [
    "## Useful websites"
   ]
  },
  {
   "cell_type": "markdown",
   "metadata": {},
   "source": [
    "* <a href=\"https://esm-tools.readthedocs.io/en/latest/index.html\">ESM Tools’s documentation</a>"
   ]
  },
  {
   "cell_type": "markdown",
   "metadata": {},
   "source": [
    "## Useful commands"
   ]
  },
  {
   "cell_type": "markdown",
   "metadata": {},
   "source": [
    "<!-- Install models -->\n",
    "esm_master install-fesom-2.0\n",
    ":q\n",
    "\n",
    "<!-- check the runscripts -->\n",
    "vi fesom2-ollie-initial-monthly.yaml\n",
    "\n",
    "<!-- check missing files -->\n",
    "esm_runscripts fesom2-ollie-initial-monthly.yaml -e my_first_test -c\n",
    "\n",
    "<!-- run models -->\n",
    "esm_runscripts fesom2-ollie-initial-monthly.yaml -e my_first_test\n",
    "\n",
    "\n",
    "base_dir: \"/work/ollie/qigao001/esm_yaml_test/\"\n",
    "\n",
    "***\n",
    "\n",
    "esm_runscripts PI_ctrl_awiesm-2.1-wiso_ollie.yaml -e my_second_test -c"
   ]
  }
 ],
 "metadata": {
  "language_info": {
   "name": "python"
  },
  "orig_nbformat": 4
 },
 "nbformat": 4,
 "nbformat_minor": 2
}
