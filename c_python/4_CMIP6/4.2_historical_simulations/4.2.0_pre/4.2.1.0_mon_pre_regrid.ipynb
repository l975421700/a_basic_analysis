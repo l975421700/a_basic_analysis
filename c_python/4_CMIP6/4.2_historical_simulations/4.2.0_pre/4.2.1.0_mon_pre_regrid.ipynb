{
 "cells": [
  {
   "cell_type": "markdown",
   "metadata": {},
   "source": [
    "# Using cdo to remapcon2 monthly precipitation"
   ]
  },
  {
   "cell_type": "markdown",
   "metadata": {},
   "source": [
    "## Import python package"
   ]
  },
  {
   "cell_type": "code",
   "execution_count": 3,
   "metadata": {},
   "outputs": [],
   "source": [
    "import numpy as np\n",
    "import glob\n",
    "import xarray as xr\n",
    "import os\n",
    "os.chdir('/home/users/qino')"
   ]
  },
  {
   "cell_type": "markdown",
   "metadata": {
    "jp-MarkdownHeadingCollapsed": true,
    "tags": []
   },
   "source": [
    "## ERA5"
   ]
  },
  {
   "cell_type": "code",
   "execution_count": null,
   "metadata": {},
   "outputs": [],
   "source": [
    "! ~/miniconda3/envs/deepice/bin/cdo -remapcon2,global_1 bas_palaeoclim_qino/observations/reanalysis/ERA5/mon_sl_79_present/era5_mon_sl_79_21_pre.nc bas_palaeoclim_qino/scratch/cmip6/historical/mon_pre/era5_mon_sl_79_21_pre_cdorg1.nc\n"
   ]
  },
  {
   "cell_type": "markdown",
   "metadata": {
    "jp-MarkdownHeadingCollapsed": true,
    "tags": []
   },
   "source": [
    "## MERRA2"
   ]
  },
  {
   "cell_type": "code",
   "execution_count": null,
   "metadata": {},
   "outputs": [],
   "source": [
    "! ~/miniconda3/envs/deepice/bin/cdo mergetime bas_palaeoclim_qino/observations/reanalysis/MERRA2/PRECTOTCORR/*.nc bas_palaeoclim_qino/scratch/cmip6/historical/mon_pre/merra2_mon_sl_80_21_pre.nc\n"
   ]
  },
  {
   "cell_type": "code",
   "execution_count": 3,
   "metadata": {},
   "outputs": [
    {
     "name": "stdout",
     "output_type": "stream",
     "text": [
      "\u001b[32mcdo    remapcon2: \u001b[0mSCRIP second order conservative weights from lonlat (576x361) to lonlat (360x180) grid\n",
      "cdo    remapcon2:                        1 1 1 1 1 1 1 1 1 1 2 2 2 2 2 2 2 2 2 2 3 3 3 3 3 3 3 3 3 3 4 4 4 4 4 4 4 4 4 4 5 5 5 5 5 5 5 5 5 5 6 6 6 6 6 6 6 6 6 6 7 7 7 7 7 7 7 7 7 7 8 8 8 8 8 8 8 8 8 8 9 9 9 9 9 9 9 9 9 910\u001b[32mcdo    remapcon2: \u001b[0mProcessed 104175936 values from 1 variable over 501 timesteps [101.85s 129MB].\n"
     ]
    }
   ],
   "source": [
    "! ~/miniconda3/envs/deepice/bin/cdo -remapcon2,global_1 bas_palaeoclim_qino/scratch/cmip6/historical/mon_pre/merra2_mon_sl_80_21_pre.nc bas_palaeoclim_qino/scratch/cmip6/historical/mon_pre/merra2_mon_sl_80_21_pre_cdorg1.nc"
   ]
  },
  {
   "cell_type": "code",
   "execution_count": 4,
   "metadata": {},
   "outputs": [],
   "source": [
    "! rm bas_palaeoclim_qino/scratch/cmip6/historical/mon_pre/merra2_mon_sl_80_21_pre.nc"
   ]
  },
  {
   "cell_type": "markdown",
   "metadata": {},
   "source": [
    "## JRA-55"
   ]
  },
  {
   "cell_type": "code",
   "execution_count": 4,
   "metadata": {},
   "outputs": [],
   "source": [
    "jra55_mon_pre_fl = np.array(sorted(glob.glob(\n",
    "    'bas_palaeoclim_qino/observations/reanalysis/JRA-55/mon_tp/fcst_phy2m.061_tprat.reg_tl319.*[0-9]',\n",
    ")))\n",
    "jra55_mon_pre = xr.open_mfdataset(jra55_mon_pre_fl, engine='cfgrib')\n",
    "jra55_mon_pre.to_netcdf(\n",
    "    'jra55_mon_pre.nc')"
   ]
  },
  {
   "cell_type": "code",
   "execution_count": 5,
   "metadata": {},
   "outputs": [
    {
     "name": "stdout",
     "output_type": "stream",
     "text": [
      "Warning (find_time_vars): Found more than one time variable, skipped variable valid_time!\n",
      "Warning (cdfInqContents): Coordinates variable step can't be assigned!\n",
      "Warning (cdfInqContents): Coordinates variable surface can't be assigned!\n",
      "\u001b[32mcdo    remapcon2: \u001b[0mSCRIP second order conservative weights from gaussian (640x320) to lonlat (360x180) grid\n",
      "cdo    remapcon2:                        1 1 1 1 1 1 1 1 1 1 2 2 2 2 2 2 2 2 2 2 3 3 3 3 3 3 3 3 3 3 4 4 4 4 4 4 4 4 4 4 5 5 5 5 5 5 5 5 5 5 6 6 6 6 6 6 6 6 6 6 7 7 7 7 7 7 7 7 7 7 8 8 8 8 8 8 8 8 8 8 9 9 9 9 9 9 9 9 9 910\u001b[32mcdo    remapcon2: \u001b[0mMap weight < 0! grid1idx=1279 grid2idx=64259 nlink=2998 wts=-0.98249\n",
      "\u001b[32mcdo    remapcon2: \u001b[0mMap weight < 0! grid1idx=2559 grid2idx=63899 nlink=5998 wts=-0.465538\n",
      "\u001b[32mcdo    remapcon2: \u001b[0mMap weight > 1! grid1idx=2559 grid2idx=64259 nlink=5999 wts=1.21924\n",
      "\u001b[32mcdo    remapcon2: \u001b[0mMap weight < 0! grid1idx=3839 grid2idx=63539 nlink=8998 wts=-0.201818\n",
      "\u001b[32mcdo    remapcon2: \u001b[0mMap weight < 0! grid1idx=4479 grid2idx=63179 nlink=10998 wts=-0.328105\n",
      "\u001b[32mcdo    remapcon2: \u001b[0mMap weight < 0! grid1idx=5759 grid2idx=62819 nlink=13998 wts=-0.196132\n",
      "\u001b[32mcdo    remapcon2: \u001b[0mMap weight < 0! grid1idx=7039 grid2idx=62459 nlink=16998 wts=-0.0820634\n",
      "\u001b[32mcdo    remapcon2: \u001b[0mMap weight < 0! grid1idx=8959 grid2idx=61739 nlink=21998 wts=-0.190317\n",
      "\u001b[32mcdo    remapcon2: \u001b[0mMap weight < 0! grid1idx=10239 grid2idx=61379 nlink=24998 wts=-0.103631\n",
      "\u001b[32mcdo    remapcon2: \u001b[0mMap weight < 0! grid1idx=11519 grid2idx=61019 nlink=27998 wts=-0.019403\n",
      "\u001b[32mcdo    remapcon2: \u001b[0mMap weight < 0! grid1idx=14719 grid2idx=59939 nlink=35998 wts=-0.0882414\n",
      "\u001b[32mcdo    remapcon2: \u001b[0mMap weight < 0! grid1idx=15999 grid2idx=59579 nlink=38998 wts=-0.0120626\n",
      "\u001b[32mcdo    remapcon2: \u001b[0mMap weight < 0! grid1idx=20479 grid2idx=58139 nlink=49998 wts=-0.0241655\n",
      "\u001b[32mcdo    remapcon2: \u001b[0mMap weight < 0! grid1idx=24959 grid2idx=56699 nlink=60998 wts=-0.0453486\n",
      "\u001b[32mcdo    remapcon2: \u001b[0mMap weight < 0! grid1idx=35199 grid2idx=53459 nlink=85998 wts=-0.0305647\n",
      "\u001b[32mcdo    remapcon2: \u001b[0mMap weight < 0! grid1idx=45439 grid2idx=50219 nlink=110998 wts=-0.0251113\n",
      "\u001b[32mcdo    remapcon2: \u001b[0mMap weight < 0! grid1idx=55679 grid2idx=46979 nlink=135998 wts=-0.0238508\n",
      "\u001b[32mcdo    remapcon2: \u001b[0mMap weight < 0! grid1idx=149759 grid2idx=17819 nlink=363999 wts=-0.0238508\n",
      "\u001b[32mcdo    remapcon2: \u001b[0mMap weight < 0! grid1idx=159999 grid2idx=14579 nlink=388999 wts=-0.0251113\n",
      "\u001b[32mcdo    remapcon2: \u001b[0mMap weight < 0! grid1idx=170239 grid2idx=11339 nlink=413999 wts=-0.0305647\n",
      "\u001b[32mcdo    remapcon2: \u001b[0mMap weight < 0! grid1idx=180479 grid2idx=8099 nlink=438999 wts=-0.0453486\n",
      "\u001b[32mcdo    remapcon2: \u001b[0mMap weight < 0! grid1idx=184959 grid2idx=6659 nlink=449999 wts=-0.0241655\n",
      "\u001b[32mcdo    remapcon2: \u001b[0mMap weight < 0! grid1idx=189439 grid2idx=5219 nlink=460999 wts=-0.0120626\n",
      "\u001b[32mcdo    remapcon2: \u001b[0mMap weight < 0! grid1idx=190719 grid2idx=4859 nlink=463999 wts=-0.0882414\n",
      "\u001b[32mcdo    remapcon2: \u001b[0mMap weight < 0! grid1idx=193919 grid2idx=3779 nlink=471999 wts=-0.019403\n",
      "\u001b[32mcdo    remapcon2: \u001b[0mMap weight < 0! grid1idx=195199 grid2idx=3419 nlink=474999 wts=-0.103631\n",
      "\u001b[32mcdo    remapcon2: \u001b[0mMap weight < 0! grid1idx=196479 grid2idx=3059 nlink=477999 wts=-0.190317\n",
      "\u001b[32mcdo    remapcon2: \u001b[0mMap weight < 0! grid1idx=198399 grid2idx=2339 nlink=482999 wts=-0.0820634\n",
      "\u001b[32mcdo    remapcon2: \u001b[0mMap weight < 0! grid1idx=199679 grid2idx=1979 nlink=485999 wts=-0.196132\n",
      "\u001b[32mcdo    remapcon2: \u001b[0mMap weight < 0! grid1idx=200959 grid2idx=1619 nlink=488999 wts=-0.328105\n",
      "\u001b[32mcdo    remapcon2: \u001b[0mMap weight < 0! grid1idx=201599 grid2idx=1259 nlink=490999 wts=-0.201818\n",
      "\u001b[32mcdo    remapcon2: \u001b[0mMap weight > 1! grid1idx=202879 grid2idx=539 nlink=493998 wts=1.21924\n",
      "\u001b[32mcdo    remapcon2: \u001b[0mMap weight < 0! grid1idx=202879 grid2idx=899 nlink=493999 wts=-0.465538\n",
      "\u001b[32mcdo    remapcon2: \u001b[0mMap weight < 0! grid1idx=204159 grid2idx=539 nlink=496999 wts=-0.98249\n",
      "\u001b[32mcdo    remapcon2: \u001b[0mProcessed 154828800 values from 1 variable over 756 timesteps [6.41s 1389MB].\n"
     ]
    }
   ],
   "source": [
    "! ~/miniconda3/envs/deepice/bin/cdo -remapcon2,global_1 jra55_mon_pre.nc bas_palaeoclim_qino/scratch/cmip6/historical/mon_pre/jra55_mon_pre_cdorg1.nc"
   ]
  },
  {
   "cell_type": "code",
   "execution_count": 6,
   "metadata": {},
   "outputs": [],
   "source": [
    "! rm jra55_mon_pre.nc"
   ]
  },
  {
   "cell_type": "markdown",
   "metadata": {},
   "source": [
    "## GPCP"
   ]
  },
  {
   "cell_type": "code",
   "execution_count": 8,
   "metadata": {},
   "outputs": [
    {
     "name": "stdout",
     "output_type": "stream",
     "text": [
      "\u001b[32mcdo    selname: \u001b[0mProcessed 5329152 values from 4 variables over 514 timesteps [0.92s 1399MB].\n"
     ]
    }
   ],
   "source": [
    "! ~/miniconda3/envs/deepice/bin/cdo -selname,precip bas_palaeoclim_qino/observations/products/GPCP/precip.mon.mean.nc bas_palaeoclim_qino/observations/products/GPCP/precip.mon.mean_precip.nc\n"
   ]
  },
  {
   "cell_type": "code",
   "execution_count": 9,
   "metadata": {},
   "outputs": [
    {
     "name": "stdout",
     "output_type": "stream",
     "text": [
      "\u001b[32mcdo    remapcon2: \u001b[0mSCRIP second order conservative weights from lonlat (144x72) to lonlat (360x180) grid\n",
      "cdo    remapcon2:                        1 1 1 1 1 1 1 1 1 1 2 2 2 2 2 2 2 2 2 2 3 3 3 3 3 3 3 3 3 3 4 4 4 4 4 4 4 4 4 4 5 5 5 5 5 5 5 5 5 5 6 6 6 6 6 6 6 6 6 6 7 7 7 7 7 7 7 7 7 7 8 8 8 8 8 8 8 8 8 8 9 9 9 9 9 9 9 9 9 910\u001b[32mcdo    remapcon2: \u001b[0mProcessed 5329152 values from 1 variable over 514 timesteps [2.75s 1399MB].\n"
     ]
    }
   ],
   "source": [
    "! ~/miniconda3/envs/deepice/bin/cdo -remapcon2,global_1 bas_palaeoclim_qino/observations/products/GPCP/precip.mon.mean_precip.nc bas_palaeoclim_qino/scratch/cmip6/historical/mon_pre/gpcp_mon_pre_cdorg1.nc"
   ]
  },
  {
   "cell_type": "code",
   "execution_count": 10,
   "metadata": {},
   "outputs": [],
   "source": [
    "! rm bas_palaeoclim_qino/observations/products/GPCP/precip.mon.mean_precip.nc"
   ]
  },
  {
   "cell_type": "markdown",
   "metadata": {},
   "source": [
    "## HadGEM3-GC31-LL, historical, r1i1p1f3"
   ]
  },
  {
   "cell_type": "code",
   "execution_count": 11,
   "metadata": {},
   "outputs": [
    {
     "name": "stdout",
     "output_type": "stream",
     "text": [
      "\u001b[32mcdo    mergetime: \u001b[0mProcessed 54743040 values from 2 variables over 1980 timesteps [5.50s 1399MB].\n"
     ]
    }
   ],
   "source": [
    "! ~/miniconda3/envs/deepice/bin/cdo mergetime /badc/cmip6/data/CMIP6/CMIP/MOHC/HadGEM3-GC31-LL/historical/r1i1p1f3/Amon/pr/gn/v20190624/*.nc bas_palaeoclim_qino/scratch/cmip6/historical/mon_pre/hg3_ll_hi_r1_mon_pre.nc"
   ]
  },
  {
   "cell_type": "code",
   "execution_count": 12,
   "metadata": {},
   "outputs": [
    {
     "name": "stdout",
     "output_type": "stream",
     "text": [
      "\u001b[32mcdo    remapcon2: \u001b[0mSCRIP second order conservative weights from lonlat (192x144) to lonlat (360x180) grid\n",
      "cdo    remapcon2:                        1 1 1 1 1 1 1 1 1 1 2 2 2 2 2 2 2 2 2 2 3 3 3 3 3 3 3 3 3 3 4 4 4 4 4 4 4 4 4 4 5 5 5 5 5 5 5 5 5 5 6 6 6 6 6 6 6 6 6 6 7 7 7 7 7 7 7 7 7 7 8 8 8 8 8 8 8 8 8 8 9 9 9 9 9 9 9 9 9 910\u001b[32mcdo    remapcon2: \u001b[0mProcessed 54743040 values from 1 variable over 1980 timesteps [6.36s 1399MB].\n"
     ]
    }
   ],
   "source": [
    "! ~/miniconda3/envs/deepice/bin/cdo -remapcon2,global_1 bas_palaeoclim_qino/scratch/cmip6/historical/mon_pre/hg3_ll_hi_r1_mon_pre.nc bas_palaeoclim_qino/scratch/cmip6/historical/mon_pre/hg3_ll_hi_r1_mon_pre_cdorg1.nc"
   ]
  },
  {
   "cell_type": "code",
   "execution_count": 13,
   "metadata": {},
   "outputs": [],
   "source": [
    "! rm bas_palaeoclim_qino/scratch/cmip6/historical/mon_pre/hg3_ll_hi_r1_mon_pre.nc"
   ]
  },
  {
   "cell_type": "markdown",
   "metadata": {},
   "source": [
    "## AWI-ESM-1-1-LR, historical, r1i1p1f1"
   ]
  },
  {
   "cell_type": "code",
   "execution_count": 14,
   "metadata": {},
   "outputs": [
    {
     "name": "stdout",
     "output_type": "stream",
     "text": [
      "\u001b[32mcdo    mergetime: \u001b[0mProcessed 36495360 values from 165 variables over 1980 timesteps [30.32s 1399MB].\n"
     ]
    }
   ],
   "source": [
    "! ~/miniconda3/envs/deepice/bin/cdo mergetime /badc/cmip6/data/CMIP6/CMIP/AWI/AWI-ESM-1-1-LR/historical/r1i1p1f1/Amon/pr/gn/v20200212/*.nc bas_palaeoclim_qino/scratch/cmip6/historical/mon_pre/awe_lr_hi_r1_mon_pre.nc"
   ]
  },
  {
   "cell_type": "code",
   "execution_count": 15,
   "metadata": {},
   "outputs": [
    {
     "name": "stdout",
     "output_type": "stream",
     "text": [
      "\u001b[32mcdo    remapcon2: \u001b[0mSCRIP second order conservative weights from gaussian (192x96) to lonlat (360x180) grid\n",
      "cdo    remapcon2:                        1 1 1 1 1 1 1 1 1 1 2 2 2 2 2 2 2 2 2 2 3 3 3 3 3 3 3 3 3 3 4 4 4 4 4 4 4 4 4 4 5 5 5 5 5 5 5 5 5 5 6 6 6 6 6 6 6 6 6 6 7 7 7 7 7 7 7 7 7 7 8 8 8 8 8 8 8 8 8 8 9 9 9 9 9 9 9 9 9 910\u001b[32mcdo    remapcon2: \u001b[0mProcessed 36495360 values from 1 variable over 1980 timesteps [6.37s 1399MB].\n"
     ]
    }
   ],
   "source": [
    "! ~/miniconda3/envs/deepice/bin/cdo -remapcon2,global_1 bas_palaeoclim_qino/scratch/cmip6/historical/mon_pre/awe_lr_hi_r1_mon_pre.nc bas_palaeoclim_qino/scratch/cmip6/historical/mon_pre/awe_lr_hi_r1_mon_pre_cdorg1.nc"
   ]
  },
  {
   "cell_type": "code",
   "execution_count": 16,
   "metadata": {},
   "outputs": [],
   "source": [
    "! rm bas_palaeoclim_qino/scratch/cmip6/historical/mon_pre/awe_lr_hi_r1_mon_pre.nc"
   ]
  },
  {
   "cell_type": "markdown",
   "metadata": {},
   "source": [
    "# Using cdo to remapcon2 monthly evaporation"
   ]
  },
  {
   "cell_type": "markdown",
   "metadata": {},
   "source": [
    "## ERA5"
   ]
  },
  {
   "cell_type": "code",
   "execution_count": 1,
   "metadata": {},
   "outputs": [
    {
     "name": "stdout",
     "output_type": "stream",
     "text": [
      "\u001b[32mcdo    remapcon2: \u001b[0mSCRIP second order conservative weights from lonlat (1440x721) to lonlat (360x180) grid\n",
      "cdo    remapcon2:                        1 1 1 1 1 1 1 1 1 1 2 2 2 2 2 2 2 2 2 2 3 3 3 3 3 3 3 3 3 3 4 4 4 4 4 4 4 4 4 4 5 5 5 5 5 5 5 5 5 5 6 6 6 6 6 6 6 6 6 6 7 7 7 7 7 7 7 7 7 7 8 8 8 8 8 8 8 8 8 8 9 9 9 9 9 9 9 9 9 910\u001b[32mcdo    remapcon2: \u001b[0mSCRIP second order conservative weights from lonlat (1440x721) to lonlat (360x180) grid, with source mask (0)\n",
      "cdo    remapcon2:                        1 1 1 1 1 1 1 1 1 1 2 2 2 2 2 2 2 2 2 2 3 3 3 3 3 3 3 3 3 3 4 4 4 4 4 4 4 4 4 4 5 5 5 5 5 5 5 5 5 5 6 6 6 6 6 6 6 6 6 6 7 7 7 7 7 7 7 7 7 7 8 8 8 8 8 8 8 8 8 8 9 9 9 9 9 9 9 9 9 910\u001b[32mcdo    remapcon2: \u001b[0mProcessed 1067310720 values from 1 variable over 514 timesteps [33.60s 435MB].\n"
     ]
    }
   ],
   "source": [
    "! ~/miniconda3/envs/deepice/bin/cdo -remapcon2,global_1 bas_palaeoclim_qino/observations/reanalysis/ERA5/mon_sl_79_present/era5_mon_sl_79_21_evp.nc bas_palaeoclim_qino/scratch/cmip6/historical/mon_evp/era5_mon_sl_79_21_evp_cdorg1.nc"
   ]
  }
 ],
 "metadata": {
  "interpreter": {
   "hash": "f35bf2546cfc6b99b8ff9cce2c4b25eafbea6e6cb9977034c26c95f4b13ced3a"
  },
  "kernelspec": {
   "display_name": "Python 3.9.7 64-bit ('deepice': virtualenv)",
   "language": "python",
   "name": "python3"
  },
  "language_info": {
   "codemirror_mode": {
    "name": "ipython",
    "version": 3
   },
   "file_extension": ".py",
   "mimetype": "text/x-python",
   "name": "python",
   "nbconvert_exporter": "python",
   "pygments_lexer": "ipython3",
   "version": "3.9.7"
  }
 },
 "nbformat": 4,
 "nbformat_minor": 4
}
