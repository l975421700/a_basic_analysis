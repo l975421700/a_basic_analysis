{
 "cells": [
  {
   "cell_type": "markdown",
   "metadata": {},
   "source": [
    "# Comparison between pi_final of qg and xshi"
   ]
  },
  {
   "cell_type": "markdown",
   "metadata": {},
   "source": [
    "## Post-processing of outputs"
   ]
  },
  {
   "cell_type": "code",
   "execution_count": null,
   "metadata": {},
   "outputs": [],
   "source": [
    "%%bash\n",
    "module load cdo\n",
    "\n",
    "cdo mergetime /work/ollie/qigao001/output/awiesm-2.1-wiso/pi_final_qg/outdata/echam/pi_final_qg_*_echam /work/ollie/qigao001/output/awiesm-2.1-wiso/pi_final_qg/analysis/echam/pi_final_qg_200001_202912_echam.grb\n",
    "\n",
    "cdo -f nc copy /work/ollie/qigao001/output/awiesm-2.1-wiso/pi_final_qg/analysis/echam/pi_final_qg_200001_202912_echam.grb /work/ollie/qigao001/output/awiesm-2.1-wiso/pi_final_qg/analysis/echam/pi_final_qg_200001_202912_echam.nc\n",
    "# rm analysis/echam/pi_final_qg_200001_202912_echam.grb\n",
    "\n"
   ]
  }
 ],
 "metadata": {
  "language_info": {
   "name": "python"
  },
  "orig_nbformat": 4
 },
 "nbformat": 4,
 "nbformat_minor": 2
}
