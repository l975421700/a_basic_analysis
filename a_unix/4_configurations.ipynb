{
 "cells": [
  {
   "cell_type": "markdown",
   "metadata": {},
   "source": [
    "# .bashrc"
   ]
  },
  {
   "cell_type": "code",
   "execution_count": null,
   "metadata": {},
   "outputs": [],
   "source": [
    "# Source global definitions\n",
    "if [ -f /etc/bashrc ]; then\n",
    "        . /etc/bashrc\n",
    "fi\n",
    "\n",
    "# colors\n",
    "LS_COLORS=$LS_COLORS:'ex=0;32:'\n",
    "# promt\n",
    "PS1='${PWD/*\\//}> '\n",
    "\n",
    "# ls\n",
    "alias ll='ls -alF'\n",
    "alias la='ls -A'\n",
    "alias l='ls -CF'\n",
    "\n",
    "# sbatch\n",
    "alias squeme='squeue -u $(whoami)'\n",
    "\n",
    "\n",
    "export PATH=$PATH:~/.local/bin\n",
    "export LC_ALL=en_US.UTF-8\n",
    "export LANG=en_US.UTF-8\n",
    "\n",
    "#---- others\n",
    "# export PKG_CONFIG_PATH=/usr/share/pkgconfig:$PKG_CONFIG_PATH\n",
    "\n",
    "# # home & work\n",
    "# export WORK=/work/ollie/$(whoami)\n",
    "\n",
    "# # module\n",
    "# module load git\n",
    "# module load python3\n",
    "# module load ncview\n",
    "# module load cdo\n",
    "# module load gnu.compiler\n",
    "# module load centoslibs\n",
    "\n",
    "# # R\n",
    "# alias r=\"radian\"\n",
    "\n",
    "# # python env\n",
    "# alias source_='source ${HOME}/miniconda3/bin/activate deepice'\n",
    "# alias jupyter1='jupyter lab --no-browser --ip 0.0.0.0 ${WORK}'\n",
    "# alias jupyter2='jupyter-lab --no-browser --port 2005'\n"
   ]
  },
  {
   "cell_type": "markdown",
   "metadata": {},
   "source": [
    "# .gitconfig"
   ]
  },
  {
   "cell_type": "markdown",
   "metadata": {},
   "source": [
    "[user]\n",
    "        name = Qinggang Gao\n",
    "        email = gaoqg229@gmail.com\n",
    "[push]\n",
    "        default = simple\n",
    "[credential \"https://github.com\"]\n",
    "        helper = !/home/users/qino/miniconda3/envs/deepice/bin/gh auth git-credential\n"
   ]
  },
  {
   "cell_type": "markdown",
   "metadata": {},
   "source": [
    "# pyrightconfig.json"
   ]
  },
  {
   "cell_type": "markdown",
   "metadata": {},
   "source": [
    "{\n",
    "    \"exclude\": [\n",
    "      \"**/node_modules\",\n",
    "      \"**/__pycache__\",\n",
    "      \"src/experimental\",\n",
    "      \"src/typestubs\",\n",
    "      \"data_sources\",\n",
    "      \"esm_tools\",\n",
    "      \"figures\",\n",
    "      \"finse_school\",\n",
    "      \"model_codes\",\n",
    "      \"output\",\n",
    "      \"scratch\",\n",
    "      \"startdump\",\n",
    "      \"bas_palaeoclim\",\n",
    "      \"miniconda3\",\n",
    "      \"languageserver-library\",\n",
    "      \"dask-worker-space\",\n",
    "      \"R\",\n",
    "    ],\n",
    "    // https://github.com/microsoft/pyright/blob/main/docs/configuration.md#sample-config-file\n",
    "  }"
   ]
  }
 ],
 "metadata": {
  "language_info": {
   "name": "python"
  },
  "orig_nbformat": 4
 },
 "nbformat": 4,
 "nbformat_minor": 2
}
