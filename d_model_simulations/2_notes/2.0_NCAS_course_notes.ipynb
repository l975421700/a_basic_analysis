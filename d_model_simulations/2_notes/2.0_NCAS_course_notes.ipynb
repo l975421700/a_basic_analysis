{
 "cells": [
  {
   "cell_type": "markdown",
   "metadata": {},
   "source": [
    "<a href=\"https://ncas-cms.github.io/um-training/index.html\">NCAS Unified Model Introduction Course</a>"
   ]
  },
  {
   "cell_type": "markdown",
   "metadata": {},
   "source": [
    "# Part 2: Running the UM"
   ]
  },
  {
   "cell_type": "markdown",
   "metadata": {},
   "source": [
    "## Rosie command"
   ]
  },
  {
   "cell_type": "markdown",
   "metadata": {},
   "source": [
    "launch the graphical suite repository viewer\n",
    "\n",
    "    $ rosie go\n",
    "\n",
    "check out suites via command-line tools\n",
    "\n",
    "    $ rosie checkout <suite-id>\n",
    "\n",
    "copy suites via command-line tools\n",
    "\n",
    "    $ rosie copy <suite-id>\n",
    "\n",
    "\n",
    "Lists checked out suites on command-line\n",
    "\n",
    "    $ rosie ls"
   ]
  },
  {
   "cell_type": "markdown",
   "metadata": {},
   "source": [
    "## Rose command"
   ]
  },
  {
   "cell_type": "markdown",
   "metadata": {},
   "source": [
    "launch the Rose editor GUI from the command-line:\n",
    "\n",
    "    $ cd roses/<suite-id>\n",
    "    $ rose edit\n",
    "\n",
    "run from command line\n",
    "\n",
    "    $ rose suite-run --help\n",
    "\n",
    "--new / -N : Delete any files from previous runs.\n",
    "\n",
    "--restart : Restart suite from where it stopped. (Use to update suite with any changes e.g. run length.)\n",
    "\n",
    "--reload : Update suite definition for an already running suite. (You can make changes to a suite whilst it is running by reloading the suite definition.)\n",
    "\n",
    "-v -v --debug : Debug/get more info.\n",
    "\n",
    "--no-gcontrol : Do not launch cylc GUI (progress monitor).\n",
    "\n",
    "--no-log-archive : Don’t tar up (archive) log files from previous runs\n",
    "\n",
    "-- --hold : Hold (pause) suite on startup.\n",
    "\n",
    "-- --mode=simulation : Perform a dummy run (executes all tasks as 'sleep 10').\n",
    "\n",
    "--install-only / -i : Construct app files & copy over to remote hosts but don’t run\n",
    "\n",
    "--local-install-only / -l : Construct app files but don’t copy over to remote host.\n",
    "\n",
    "To relaunch the GUI run either:\n",
    "\n",
    "    $ rose sgc # or\n",
    "    $ rose suite-gcontrol\n",
    "\n",
    "\n",
    "***\n",
    "\n",
    "\n",
    "To see what suites you have running:\n",
    "\n",
    "    $ rose suite-scan # command line listing\n",
    "    $ cylc gscan # graphical view\n",
    "\n",
    "To stop a running suite:\n",
    "\n",
    "    $ rose suite-shutdown\n",
    "\n",
    "(default): stop the suite after current active tasks have finished\n",
    "\n",
    "-- --now: stop immediately, orphaning current active tasks\n",
    "\n",
    "-- --kill: stop after killing current active tasks\n",
    "\n",
    "    $ rose suite-stop\n",
    "\n",
    "To explore without running\n",
    "\n",
    "    $ rose suite-run -i # Install files\n",
    "    $ cylc graph <suite-id> # View run graph\n",
    "\n",
    "Making sure all the Rose configuration files are in the common format by running rose config-dump on each suite and then running diff\n",
    "\n",
    "    $ rose config-dump -C u-cc654\n",
    "    $ rose config-dump -C <your-suitename>\n",
    "    $ diff -r u-cc654 <your-suitename>\n",
    "\n",
    "Forcing shutdown\n",
    "\n",
    "    $ ps -flu <user-id>  | grep <suite-id>"
   ]
  },
  {
   "cell_type": "markdown",
   "metadata": {},
   "source": [
    "### notes"
   ]
  },
  {
   "cell_type": "markdown",
   "metadata": {},
   "source": [
    "Logs from older runs will be tarred up (unless deleted with housekeeping or --new run). Cylc-run directory can become large very quickly, so regularly delete.\n",
    "\n",
    "Submission failures and suite timeout messages are reported in:\n",
    "job-activity.log, suite/out, suite/err\n",
    "\n",
    "If you are making model changes, always check things look OK before proceeding, i.e. executable exists, start file exists, output data looks sensible.\n",
    "\n",
    "UM output such as restart and diagnostic files usually goes to:\n",
    "share/data/History_Data/\n",
    "Or it may be written to the task directory for that cycle, e.g.:\n",
    "work/19810901T0000Z/atmos/\n",
    "\n",
    "Build files go to:\n",
    "share/fcm_make/\n",
    "\n",
    "Any changes you make in the Rose editor are saved in your checked out working copy only.\n",
    "\n",
    "optional configuration override files cannot be changed through the GUI so we will need to edit the Rose file directly.\n",
    "\n",
    "Navigate to um –> namelist –> Top Level Model Control –> Run Control and Time Settings.\n",
    "Set ltimer to True. Timer diagnostics outputs timing information and can be very useful in diagnosing performance problems.\n",
    "Check the output from processor 0 in the``fort6.pe000`` file.\n",
    "\n",
    "When you change STASH it is always recommended to run at least the validate macro. The stash_testmask.STASHTstmskValidate macro ensures that the STASH output requsted is valid given the science configuration of the app.\n",
    "\n"
   ]
  },
  {
   "cell_type": "markdown",
   "metadata": {},
   "source": [
    "# Part3: FCM and the UM"
   ]
  },
  {
   "cell_type": "markdown",
   "metadata": {},
   "source": [
    "### FCM command"
   ]
  },
  {
   "cell_type": "markdown",
   "metadata": {},
   "source": [
    "The essential sub-commands are:\n",
    "\n",
    "    $ fcm diff\n",
    "    $ fcm status\n",
    "    $ fcm checkout\n",
    "    $ fcm commit\n",
    "    $ fcm branch\n",
    "    $ fcm merge\n",
    "\n",
    "Help is available for all sub-commands:\n",
    "\n",
    "    $ fcm help <sub-command>\n",
    "\n",
    "To add a branch go to the panel fcm_make –> env –> sources and click the + button next to um_sources to add a new branch URL:\n",
    "e.g.: branches/dev/rosalynhatcher/vn11.8_training_um_shell1\n",
    "\n",
    "\n",
    "***\n",
    "\n",
    "\n",
    "Create a ticket\n",
    "\n",
    "    # https://code.metoffice.gov.uk/trac/um\n",
    "\n",
    "Create a branch\n",
    "\n",
    "    $ fcm branch-create -k <ticket> <branch_name> fcm:um.x-tr@vn11.8\n",
    "    $ fcm branch-create --help\n",
    "    $ fcm checkout URL\n",
    "    $ fcm add --help\n",
    "    $ fcm delete --help\n",
    "    $ fcm revert  --help\n",
    "    $ fcm branch-info\n",
    "\n",
    "\n",
    "***\n",
    "\n",
    "\n",
    "Viewing your changes in Trac\n",
    "e.g.: https://code.metoffice.gov.uk/trac/um/browser/main/branches/dev/alisonmclauren/vn11.9_water_tracer_toplevel?order=name under Last Change\n",
    "\n",
    "Documenting your change"
   ]
  },
  {
   "cell_type": "markdown",
   "metadata": {},
   "source": [
    "# Part 4: Managing suites"
   ]
  },
  {
   "cell_type": "markdown",
   "metadata": {},
   "source": [
    "Should you wish to see all variables on a panel select View All Ignored Variables and View Latent Variables from the View menu."
   ]
  },
  {
   "cell_type": "markdown",
   "metadata": {},
   "source": [
    "# Part 5: Exploring suites"
   ]
  },
  {
   "cell_type": "markdown",
   "metadata": {},
   "source": [
    "rose-*.conf files follow the Rose modified INI format:\n",
    "\n",
    "    # http://metomi.github.io/rose/doc/html/api/configuration/index.html\n",
    "\n",
    "suite.rc and site include files follow the cylc extended-INI format with jinja2 templating:\n",
    "\n",
    "    # https://cylc.github.io/doc/built-sphinx-single/index.html#document-appendices/appendices-master\n",
    "\n",
    "Rose and cylc use the ISO 8601 date format to specify the start date, run length and cycling periods (CRuns). Format:\n",
    "\n",
    "    # Specific date & time: CCYYMMDDThhmmZ, e.g. 20160915T1430Z;\n",
    "    # Time period: PnYnMnDTnHnMnS, e.g. P10Y6M, P3M, P1D, PT6H\n",
    "\n",
    "Be careful about editing suite files with the rose editor GUI open:\n",
    "\n",
    "    # If you run the suite through the GUI or save the suite, any changes made outside the rose editor will be lost.\n",
    "\n"
   ]
  },
  {
   "cell_type": "markdown",
   "metadata": {},
   "source": [
    "# Part 6: UM Data Files and IO"
   ]
  },
  {
   "cell_type": "markdown",
   "metadata": {},
   "source": [
    "STASH\n",
    "Spatial and Temporal Averaging and Storage Handling"
   ]
  },
  {
   "cell_type": "markdown",
   "metadata": {},
   "source": [
    "# Part 7: UM tools and utilities"
   ]
  },
  {
   "cell_type": "markdown",
   "metadata": {},
   "source": [
    "Conversion tools\n",
    "\n",
    "    xancil: from netCDF to UM (ancillary)\n",
    "    xconv: UM, PP, netCDF, GRIB, Grads to netCDF, Grads\n",
    "    cf-python: from UM, PP, netCDF to CF-netCDF\n",
    "    Iris: from UM, PP, netCDF, GRIB to CF-netCDF\n",
    "\n",
    "Central Ancillary Program\n",
    "\n",
    "    For creating standard ancillary files can use CAP. Contact the CMS helpdesk for more information.\n",
    "\n",
    "ANTS (ANcillary Tools and Suites)\n",
    "\n",
    "    https://code.metoffice.gov.uk/trac/ancil\n",
    "    Convert (Iris) data to ancillary files;\n",
    "    Derive standard ancillary fields e.g. land-sea mask, vegetation etc\n",
    "    Python tool kit for developing your own applications\n",
    "\n",
    "The UM file utilities (including mule) are available on ARCHER2 and Monsoon under:\n",
    "\n",
    "\n",
    "    $ UMDIR/bin\n",
    "    $ UMDIR/vnX.Y/cce/utilities\n",
    "\n",
    "\n",
    "***\n",
    "\n",
    "jaspy\n",
    "\n",
    "    # https://help.jasmin.ac.uk/article/4729-jaspy-envs-py3-rhel6-rhel7\n",
    "\n",
    "NCAS-CMS\n",
    "\n",
    "    # http://cms.ncas.ac.uk\n",
    "\n",
    "CMS Modelling helpdesk\n",
    "\n",
    "    # https://cms-helpdesk.ncas.ac.uk/\n",
    "\n",
    "ARCHER helpdesk:\n",
    "\n",
    "    # support@archer2.ac.uk\n",
    "\n",
    "Monsoon helpdesk:\n",
    "\n",
    "    # monsoon@metoffice.gov.uk\n",
    "\n",
    "UM documentation on MOSRS\n",
    "\n",
    "    # https://code.metoffice.gov.uk/doc/um/latest/umdp.html\n",
    "\n",
    "Monsoon user guide\n",
    "\n",
    "    # https://code.metoffice.gov.uk/doc/monsoon2/index.html\n",
    "\n",
    "Finish working through the tutorial exercises:\n",
    "\n",
    "    # http://cms.ncas.ac.uk/wiki/UmTraining\n",
    "\n",
    "UM user guide\n",
    "\n",
    "    # https://code.metoffice.gov.uk/doc/um/latest/umdp.html#000\n",
    "\n",
    "Further Exercises\n",
    "\n",
    "    # https://ncas-cms.github.io/um-training/further-exercises-2.html"
   ]
  }
 ],
 "metadata": {
  "interpreter": {
   "hash": "74c60916f7b18b0a5c818f8f075864a45980f755cb58e29705cd286e0abfecee"
  },
  "kernelspec": {
   "display_name": "Python 3.10.2 ('base')",
   "language": "python",
   "name": "python3"
  },
  "language_info": {
   "codemirror_mode": {
    "name": "ipython",
    "version": 3
   },
   "file_extension": ".py",
   "mimetype": "text/x-python",
   "name": "python",
   "nbconvert_exporter": "python",
   "pygments_lexer": "ipython3",
   "version": "3.10.2"
  },
  "orig_nbformat": 4
 },
 "nbformat": 4,
 "nbformat_minor": 2
}
