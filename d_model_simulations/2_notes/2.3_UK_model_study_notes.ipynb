{
 "cells": [
  {
   "cell_type": "markdown",
   "metadata": {},
   "source": [
    "# Tools"
   ]
  },
  {
   "cell_type": "markdown",
   "metadata": {},
   "source": [
    "# UK Models"
   ]
  },
  {
   "cell_type": "markdown",
   "metadata": {},
   "source": [
    "## Records"
   ]
  },
  {
   "cell_type": "markdown",
   "metadata": {},
   "source": [
    "General procedures\n",
    "\n",
    "    1. Check suite info\n",
    "    2. check suite conf\n",
    "    3. check initial/boundary conditions, e.g. grep -nr '/data/d01/' .\n",
    "    4. check output/dump frequency\n",
    "\n",
    "***\n",
    "\n",
    "<br>\n",
    "\n",
    "    # u-ck900, CMIP6 PI\n",
    "\n",
    "copy of u-ar930, HadGEM3-GC3.1 N96ORCA1 PI Control for CMIP6, officially ported for Monsoon2\n",
    "\n",
    "<br>\n",
    "\n",
    "    # u-cl202, CMIP6 ssp585\n",
    "\n",
    "copy of u-bi805, HadGEM3-GC3.1 N96ORCA1 ssp585 for CMIP6: With redistributed ozone - all stash except COSP\n",
    "\n",
    "    $ moo mkset -v moose:crum/u-cl202 -p=project-ukesm # (--single-copy)\n",
    "\n",
    "http://cms.ncas.ac.uk/ticket/1742\n",
    "\n",
    "<br>\n",
    "\n",
    "    # u-cl295, CMIP6 hist\n",
    "\n",
    "copy of u-bg466, HadGEM3-GC3.1 N96ORCA1 HIST run CMIP6 member #1 : 1875+\n",
    "\n",
    "    $ moo mkset -v moose:crum/u-cl295 -p=project-ukesm\n",
    "\n",
    "<br>\n",
    "\n",
    "    # u-cl317, CMIP6 LIG\n",
    "\n",
    "copy of u-ba937, [Std Suite] HadGEM3-GC3.1 N96ORCA1 LIG127k for CMIP6 - PRODUCTION\n",
    "\n",
    "\n",
    "<!-- <br>\n",
    "\n",
    "    # u-ck646\n",
    "\n",
    "copy of u-ar766, HadGEM3-GC3.1 N96ORCA1 PI Control for CMIP6\n",
    "\n",
    "Usage: Initial attempt to transfer MetO-cray suite to Monsoon\n",
    "\n",
    "Result: Failed because of unknown problems. -->\n"
   ]
  },
  {
   "cell_type": "markdown",
   "metadata": {},
   "source": [
    "## Unified Model"
   ]
  },
  {
   "cell_type": "markdown",
   "metadata": {},
   "source": [
    "* <a href=\"https://code.metoffice.gov.uk/trac/um\">Welcome to the UM: UM main page</a>\n",
    "\n",
    "* <a href=\"https://code.metoffice.gov.uk/doc/um/latest/umdp.html\" target=\"_blank\">Unified Model Documentation Papers</a>\n",
    "\n",
    "* <a href=\"https://code.metoffice.gov.uk/doc/um/vn12.1/um-training/index.html\" target=\"_blank\">Unified Model within Rose User Guide</a>\n",
    "\n",
    "* <a href=\"https://cylc.github.io/cylc-doc/stable/html/index.html\" target=\"_blank\">Cylc documentation</a>\n",
    "\n",
    "* <a href=\"http://metomi.github.io/fcm/doc/user_guide/\" target=\"_blank\">FCM: User Guide</a>\n",
    "\n",
    "* <a href=\"http://metomi.github.io/rose/doc/html/index.html\" target=\"_blank\">Rose Documentation</a>\n",
    "\n",
    "* <a href=\"https://cms-helpdesk.ncas.ac.uk/\" target=\"_blank\">NCAS CMS Modelling Helpdesk</a>\n",
    "\n",
    "* <a href=\"https://code.metoffice.gov.uk/trac/um/wiki/working_practices\" target=\"_blank\">Working Practices for UM Development with Rose, FCM and trac</a>\n",
    "\n",
    "* <a href=\"http://cms.ncas.ac.uk/wiki/UmTraining\" target=\"_blank\">UM Training Index</a>\n",
    "\n",
    "* <a href=\"http://cms.ncas.ac.uk/wiki/ToolsAndUtilities\" target=\"_blank\">Tools and Utilities</a>\n",
    "\n",
    "* <a href=\"https://code.metoffice.gov.uk/doc/um/mule/2020.01.1/\" target=\"_blank\">Mule’s documentation</a>\n",
    "\n",
    "\n"
   ]
  },
  {
   "cell_type": "markdown",
   "metadata": {},
   "source": [
    "### An Exercise"
   ]
  },
  {
   "cell_type": "markdown",
   "metadata": {},
   "source": [
    "* <a href=\"https://code.metoffice.gov.uk/trac/roses-u/ticket/414\">Ticket of u-cf691</a>\n",
    "* <a href=\"https://code.metoffice.gov.uk/trac/roses-u/browser/c/f/6/9/1/trunk?order=name\">trac code of u-cf691</a>\n",
    "* <a href=\"https://code.metoffice.gov.uk/trac/roses-u/browser?order=name&desc=True\">trac code browser</a>\n",
    "\n",
    "***\n",
    "\n",
    "Exercise: Developing using the UM Working Practices - An Example\n",
    "\n",
    "    # https://code.metoffice.gov.uk/doc/um/vn12.1/um-training/working-practices-tutorial.html\n",
    "\n",
    "    $ fcm branch-create -k (ticket number) (branch name) fcm:um.x_tr@(UM version)\n",
    "\n",
    "    $ fcm branch-create -k 6616 ticket_test fcm:um.x_tr@vn12.1\n",
    "\n",
    "    $ fcm checkout fcm:um.x_br/dev/(user)/(UM version)_(branch name)\n",
    "\n",
    "    $ fcm checkout fcm:um.x_br/dev/qingganggao/vn12.1_ticket_test\n",
    "\n",
    "    $ fcm branch-create --branch-of-branch -k 6616 ticket_test_test -t test fcm:um.x_br/dev/qingganggao/vn12.1_ticket_test\n",
    "\n",
    "    $ fcm checkout fcm:um.x_br/test/qingganggao/r106281_ticket_test_test\n",
    "\n",
    "    $ ./admin/rose-stem/update_all.py --path=$PWD --um=vn12.1_tTICKET\n",
    "\n",
    "    $ fcm diff -g\n",
    "    $ fcm commit\n",
    "    $ rose stem --group=xc40_developer --new\n",
    "\n",
    "***\n",
    "\n",
    "Make folders visible for supporting team\n",
    "\n",
    "    $ chmod -R g+rX /home/n02/n02/<your-username>\n",
    "\n",
    "    $ chmod -R g+rX /work/n02/n02/<your-username>\n"
   ]
  },
  {
   "cell_type": "markdown",
   "metadata": {},
   "source": [
    "## HadGEM3"
   ]
  },
  {
   "cell_type": "markdown",
   "metadata": {},
   "source": [
    "\n",
    "* <a href=\"https://code.metoffice.gov.uk/trac/gmed/wiki\">MetOffice wiki: Global Model Evaluation and Development pages</a>\n",
    "\n",
    "* <a href=\"https://code.metoffice.gov.uk/trac/ukcmip6/\">MetOffice wiki: UK contributions to CMIP6</a>\n",
    "\n",
    "* <a href=\"https://code.metoffice.gov.uk/trac/ukcmip6/wiki/runs/u-ar766\">MetOffice wiki: u-ar766 CMIP6 PI with HadGEM3 GC3.1 N96ORCA1</a>\n",
    "\n",
    "* <a href=\"https://code.metoffice.gov.uk/trac/moci/wiki/tips_CRgeneral\">MetOffice wiki: Running Climate Type Suites</a>\n",
    "\n",
    "\n",
    "* <a href=\"https://code.metoffice.gov.uk/trac/ukcmip6/wiki/StandardJobs\">MetOffice wiki: Guidance for base CMIP6 experiments to copy to initialise new jobs</a>\n",
    "\n"
   ]
  },
  {
   "cell_type": "markdown",
   "metadata": {},
   "source": [
    "## UKESM"
   ]
  },
  {
   "cell_type": "markdown",
   "metadata": {},
   "source": [
    "* <a href=\"https://ukesm.ac.uk/science-of-ukesm/\">Science of UKESM</a>\n",
    "\n",
    "* <a href=\"https://code.metoffice.gov.uk/trac/UKESM\">UKESM wiki</a>\n",
    "\n",
    "* <a href=\"https://ukesm.ac.uk/cmip6/variant-id/\">VARIANT-ID IN CMIP6 METADATA</a>\n",
    "\n",
    "\n",
    "\n"
   ]
  },
  {
   "cell_type": "markdown",
   "metadata": {},
   "source": [
    "# Platforms"
   ]
  },
  {
   "cell_type": "markdown",
   "metadata": {},
   "source": [
    "## JASMIN"
   ]
  },
  {
   "cell_type": "markdown",
   "metadata": {},
   "source": [
    "* <a href=\"https://jasmin.ac.uk/\">JASMIN main page</a>\n",
    "\n",
    "* <a href=\"https://help.jasmin.ac.uk/\">JASMIN help documentation</a>\n",
    "\n",
    "* <a href=\"https://accounts.jasmin.ac.uk/\">JASMIN accounts</a>\n",
    "\n",
    "* <a href=\"https://mon.jasmin.ac.uk/d/HUlnzaYik/jasmin-storage?orgId=1\">JASMIN storage</a>\n",
    "\n",
    "* <a href=\"https://gws-access.jasmin.ac.uk/public/mohc_shared/moose-user-doc/external_user_guide.html\">MOOSE User Guide</a>\n",
    "\n",
    "\n",
    "\n",
    "\n",
    "\n"
   ]
  },
  {
   "cell_type": "markdown",
   "metadata": {},
   "source": [
    "## Monsoon"
   ]
  },
  {
   "cell_type": "markdown",
   "metadata": {},
   "source": [
    "* <a href=\"https://code.metoffice.gov.uk/trac/home/wiki\">Met Office Science Repository Service</a>\n",
    "\n",
    "* <a href=\"https://code.metoffice.gov.uk/doc/monsoon2/index.html\">Monsoon2 User Guide</a>\n",
    "\n",
    "* <a href=\"https://code.metoffice.gov.uk/doc/monsoon2/batchJobs.html\">Batch Jobs on Monsoon2</a>\n",
    "\n",
    "* <a href=\"https://web.yammer.com/main/feed\">Yammer for discussion</a>\n",
    "\n"
   ]
  },
  {
   "cell_type": "markdown",
   "metadata": {},
   "source": [
    "    $ ssh postproc\n",
    "\n",
    "    $ cd /scratch/d05/qgao\n",
    "    $ cd /working/d05/qgao\n",
    "    $ cd /projects/ukesm/qgao\n",
    "\n",
    "see your quota for /home:\n",
    "\n",
    "    $ quota.py -u lustre_home\n",
    "\n",
    "see the quota for a project\n",
    "\n",
    "    $ quota.py -g ukesm lustre_multi\n",
    "\n",
    "\n"
   ]
  },
  {
   "cell_type": "markdown",
   "metadata": {},
   "source": [
    "## MOOSE"
   ]
  },
  {
   "cell_type": "markdown",
   "metadata": {},
   "source": [
    "* <a href=\"https://code.metoffice.gov.uk/doc/monsoon2/moose/monsoon_user_guide.html\">MOOSE User Guide</a>"
   ]
  },
  {
   "cell_type": "markdown",
   "metadata": {},
   "source": [
    "    $ moo ls moose:/crum/u-aq853\n",
    "    $ moo get moose:/crum/u-aq853/ida.file/aq853i.restart.2594-01-01-00000.nc .\n"
   ]
  },
  {
   "cell_type": "markdown",
   "metadata": {},
   "source": [
    "## Archer2"
   ]
  },
  {
   "cell_type": "markdown",
   "metadata": {},
   "source": [
    "* <a href=\"https://www.archer2.ac.uk/training/\">ARCHER2 Training</a>\n",
    "\n",
    "* <a href=\"https://safe.epcc.ed.ac.uk/main.jsp\">SAFE: to administer HPC services for the UK</a>\n",
    "\n",
    "* <a href=\"https://docs.archer2.ac.uk/quick-start/quickstart-users/\">ARCHER2 User Documentation: Quickstart for users</a>\n",
    "\n",
    "* <a href=\"http://cms.ncas.ac.uk/wiki/PumaIntro\">Introduction to using PUMA</a>\n",
    "\n"
   ]
  }
 ],
 "metadata": {
  "language_info": {
   "name": "python"
  },
  "orig_nbformat": 4
 },
 "nbformat": 4,
 "nbformat_minor": 2
}
